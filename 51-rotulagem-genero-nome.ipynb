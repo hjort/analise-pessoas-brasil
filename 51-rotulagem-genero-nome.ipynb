{
 "cells": [
  {
   "cell_type": "code",
   "execution_count": 1,
   "metadata": {},
   "outputs": [],
   "source": [
    "import pandas as pd\n",
    "import numpy as np"
   ]
  },
  {
   "cell_type": "code",
   "execution_count": 2,
   "metadata": {},
   "outputs": [],
   "source": [
    "#BASE = 'afastamentos'\n",
    "BASE = 'cadastro'"
   ]
  },
  {
   "cell_type": "code",
   "execution_count": 3,
   "metadata": {},
   "outputs": [],
   "source": [
    "df = pd.read_csv(BASE + '-nomes.csv', index_col=0,\n",
    "                 dtype={'QTDE': 'uint8', 'PERC': np.float32})"
   ]
  },
  {
   "cell_type": "code",
   "execution_count": 4,
   "metadata": {},
   "outputs": [
    {
     "data": {
      "text/html": [
       "<div>\n",
       "<style scoped>\n",
       "    .dataframe tbody tr th:only-of-type {\n",
       "        vertical-align: middle;\n",
       "    }\n",
       "\n",
       "    .dataframe tbody tr th {\n",
       "        vertical-align: top;\n",
       "    }\n",
       "\n",
       "    .dataframe thead th {\n",
       "        text-align: right;\n",
       "    }\n",
       "</style>\n",
       "<table border=\"1\" class=\"dataframe\">\n",
       "  <thead>\n",
       "    <tr style=\"text-align: right;\">\n",
       "      <th></th>\n",
       "      <th>QTDE</th>\n",
       "      <th>PERC</th>\n",
       "    </tr>\n",
       "    <tr>\n",
       "      <th>PNOME</th>\n",
       "      <th></th>\n",
       "      <th></th>\n",
       "    </tr>\n",
       "  </thead>\n",
       "  <tbody>\n",
       "    <tr>\n",
       "      <th>MARIA</th>\n",
       "      <td>168</td>\n",
       "      <td>3.1593</td>\n",
       "    </tr>\n",
       "    <tr>\n",
       "      <th>JOSE</th>\n",
       "      <td>52</td>\n",
       "      <td>2.4671</td>\n",
       "    </tr>\n",
       "    <tr>\n",
       "      <th>ANA</th>\n",
       "      <td>233</td>\n",
       "      <td>1.7812</td>\n",
       "    </tr>\n",
       "    <tr>\n",
       "      <th>JOAO</th>\n",
       "      <td>91</td>\n",
       "      <td>1.1643</td>\n",
       "    </tr>\n",
       "    <tr>\n",
       "      <th>CARLOS</th>\n",
       "      <td>202</td>\n",
       "      <td>1.1418</td>\n",
       "    </tr>\n",
       "    <tr>\n",
       "      <th>PAULO</th>\n",
       "      <td>52</td>\n",
       "      <td>1.1186</td>\n",
       "    </tr>\n",
       "    <tr>\n",
       "      <th>ANTONIO</th>\n",
       "      <td>70</td>\n",
       "      <td>1.0817</td>\n",
       "    </tr>\n",
       "    <tr>\n",
       "      <th>LUIZ</th>\n",
       "      <td>251</td>\n",
       "      <td>0.9511</td>\n",
       "    </tr>\n",
       "    <tr>\n",
       "      <th>FRANCISCO</th>\n",
       "      <td>163</td>\n",
       "      <td>0.8978</td>\n",
       "    </tr>\n",
       "    <tr>\n",
       "      <th>MARCELO</th>\n",
       "      <td>113</td>\n",
       "      <td>0.7711</td>\n",
       "    </tr>\n",
       "    <tr>\n",
       "      <th>MARCOS</th>\n",
       "      <td>190</td>\n",
       "      <td>0.7037</td>\n",
       "    </tr>\n",
       "    <tr>\n",
       "      <th>ANDRE</th>\n",
       "      <td>198</td>\n",
       "      <td>0.6653</td>\n",
       "    </tr>\n",
       "    <tr>\n",
       "      <th>RODRIGO</th>\n",
       "      <td>146</td>\n",
       "      <td>0.6176</td>\n",
       "    </tr>\n",
       "    <tr>\n",
       "      <th>RAFAEL</th>\n",
       "      <td>3</td>\n",
       "      <td>0.5954</td>\n",
       "    </tr>\n",
       "    <tr>\n",
       "      <th>RICARDO</th>\n",
       "      <td>177</td>\n",
       "      <td>0.5827</td>\n",
       "    </tr>\n",
       "    <tr>\n",
       "      <th>FERNANDO</th>\n",
       "      <td>93</td>\n",
       "      <td>0.5697</td>\n",
       "    </tr>\n",
       "    <tr>\n",
       "      <th>PEDRO</th>\n",
       "      <td>76</td>\n",
       "      <td>0.5670</td>\n",
       "    </tr>\n",
       "    <tr>\n",
       "      <th>EDUARDO</th>\n",
       "      <td>40</td>\n",
       "      <td>0.5615</td>\n",
       "    </tr>\n",
       "    <tr>\n",
       "      <th>FERNANDA</th>\n",
       "      <td>202</td>\n",
       "      <td>0.5469</td>\n",
       "    </tr>\n",
       "    <tr>\n",
       "      <th>PATRICIA</th>\n",
       "      <td>107</td>\n",
       "      <td>0.5322</td>\n",
       "    </tr>\n",
       "    <tr>\n",
       "      <th>DANIEL</th>\n",
       "      <td>100</td>\n",
       "      <td>0.5311</td>\n",
       "    </tr>\n",
       "    <tr>\n",
       "      <th>ALEXANDRE</th>\n",
       "      <td>62</td>\n",
       "      <td>0.5252</td>\n",
       "    </tr>\n",
       "    <tr>\n",
       "      <th>JULIANA</th>\n",
       "      <td>55</td>\n",
       "      <td>0.5241</td>\n",
       "    </tr>\n",
       "    <tr>\n",
       "      <th>BRUNO</th>\n",
       "      <td>206</td>\n",
       "      <td>0.5079</td>\n",
       "    </tr>\n",
       "    <tr>\n",
       "      <th>MARCIA</th>\n",
       "      <td>130</td>\n",
       "      <td>0.4961</td>\n",
       "    </tr>\n",
       "    <tr>\n",
       "      <th>FABIO</th>\n",
       "      <td>61</td>\n",
       "      <td>0.4854</td>\n",
       "    </tr>\n",
       "    <tr>\n",
       "      <th>LEONARDO</th>\n",
       "      <td>209</td>\n",
       "      <td>0.4687</td>\n",
       "    </tr>\n",
       "    <tr>\n",
       "      <th>LUCIANA</th>\n",
       "      <td>171</td>\n",
       "      <td>0.4628</td>\n",
       "    </tr>\n",
       "    <tr>\n",
       "      <th>SERGIO</th>\n",
       "      <td>134</td>\n",
       "      <td>0.4570</td>\n",
       "    </tr>\n",
       "    <tr>\n",
       "      <th>LUIS</th>\n",
       "      <td>32</td>\n",
       "      <td>0.4412</td>\n",
       "    </tr>\n",
       "  </tbody>\n",
       "</table>\n",
       "</div>"
      ],
      "text/plain": [
       "           QTDE    PERC\n",
       "PNOME                  \n",
       "MARIA       168  3.1593\n",
       "JOSE         52  2.4671\n",
       "ANA         233  1.7812\n",
       "JOAO         91  1.1643\n",
       "CARLOS      202  1.1418\n",
       "PAULO        52  1.1186\n",
       "ANTONIO      70  1.0817\n",
       "LUIZ        251  0.9511\n",
       "FRANCISCO   163  0.8978\n",
       "MARCELO     113  0.7711\n",
       "MARCOS      190  0.7037\n",
       "ANDRE       198  0.6653\n",
       "RODRIGO     146  0.6176\n",
       "RAFAEL        3  0.5954\n",
       "RICARDO     177  0.5827\n",
       "FERNANDO     93  0.5697\n",
       "PEDRO        76  0.5670\n",
       "EDUARDO      40  0.5615\n",
       "FERNANDA    202  0.5469\n",
       "PATRICIA    107  0.5322\n",
       "DANIEL      100  0.5311\n",
       "ALEXANDRE    62  0.5252\n",
       "JULIANA      55  0.5241\n",
       "BRUNO       206  0.5079\n",
       "MARCIA      130  0.4961\n",
       "FABIO        61  0.4854\n",
       "LEONARDO    209  0.4687\n",
       "LUCIANA     171  0.4628\n",
       "SERGIO      134  0.4570\n",
       "LUIS         32  0.4412"
      ]
     },
     "execution_count": 4,
     "metadata": {},
     "output_type": "execute_result"
    }
   ],
   "source": [
    "df.head(30)"
   ]
  },
  {
   "cell_type": "code",
   "execution_count": null,
   "metadata": {},
   "outputs": [
    {
     "data": {
      "text/html": [
       "<div>\n",
       "<style scoped>\n",
       "    .dataframe tbody tr th:only-of-type {\n",
       "        vertical-align: middle;\n",
       "    }\n",
       "\n",
       "    .dataframe tbody tr th {\n",
       "        vertical-align: top;\n",
       "    }\n",
       "\n",
       "    .dataframe thead th {\n",
       "        text-align: right;\n",
       "    }\n",
       "</style>\n",
       "<table border=\"1\" class=\"dataframe\">\n",
       "  <thead>\n",
       "    <tr style=\"text-align: right;\">\n",
       "      <th></th>\n",
       "      <th>QTDE</th>\n",
       "      <th>PERC</th>\n",
       "      <th>SEXO</th>\n",
       "      <th>LETRAS</th>\n",
       "      <th>REV</th>\n",
       "    </tr>\n",
       "    <tr>\n",
       "      <th>PNOME</th>\n",
       "      <th></th>\n",
       "      <th></th>\n",
       "      <th></th>\n",
       "      <th></th>\n",
       "      <th></th>\n",
       "    </tr>\n",
       "  </thead>\n",
       "  <tbody>\n",
       "    <tr>\n",
       "      <th>MARIA</th>\n",
       "      <td>168</td>\n",
       "      <td>3.1593</td>\n",
       "      <td>None</td>\n",
       "      <td>5</td>\n",
       "      <td>AIRAM</td>\n",
       "    </tr>\n",
       "    <tr>\n",
       "      <th>JOSE</th>\n",
       "      <td>52</td>\n",
       "      <td>2.4671</td>\n",
       "      <td>None</td>\n",
       "      <td>4</td>\n",
       "      <td>ESOJ</td>\n",
       "    </tr>\n",
       "    <tr>\n",
       "      <th>ANA</th>\n",
       "      <td>233</td>\n",
       "      <td>1.7812</td>\n",
       "      <td>None</td>\n",
       "      <td>3</td>\n",
       "      <td>ANA</td>\n",
       "    </tr>\n",
       "    <tr>\n",
       "      <th>JOAO</th>\n",
       "      <td>91</td>\n",
       "      <td>1.1643</td>\n",
       "      <td>None</td>\n",
       "      <td>4</td>\n",
       "      <td>OAOJ</td>\n",
       "    </tr>\n",
       "    <tr>\n",
       "      <th>CARLOS</th>\n",
       "      <td>202</td>\n",
       "      <td>1.1418</td>\n",
       "      <td>None</td>\n",
       "      <td>6</td>\n",
       "      <td>SOLRAC</td>\n",
       "    </tr>\n",
       "    <tr>\n",
       "      <th>PAULO</th>\n",
       "      <td>52</td>\n",
       "      <td>1.1186</td>\n",
       "      <td>None</td>\n",
       "      <td>5</td>\n",
       "      <td>OLUAP</td>\n",
       "    </tr>\n",
       "    <tr>\n",
       "      <th>ANTONIO</th>\n",
       "      <td>70</td>\n",
       "      <td>1.0817</td>\n",
       "      <td>None</td>\n",
       "      <td>7</td>\n",
       "      <td>OINOTNA</td>\n",
       "    </tr>\n",
       "    <tr>\n",
       "      <th>LUIZ</th>\n",
       "      <td>251</td>\n",
       "      <td>0.9511</td>\n",
       "      <td>None</td>\n",
       "      <td>4</td>\n",
       "      <td>ZIUL</td>\n",
       "    </tr>\n",
       "    <tr>\n",
       "      <th>FRANCISCO</th>\n",
       "      <td>163</td>\n",
       "      <td>0.8978</td>\n",
       "      <td>None</td>\n",
       "      <td>9</td>\n",
       "      <td>OCSICNARF</td>\n",
       "    </tr>\n",
       "    <tr>\n",
       "      <th>MARCELO</th>\n",
       "      <td>113</td>\n",
       "      <td>0.7711</td>\n",
       "      <td>None</td>\n",
       "      <td>7</td>\n",
       "      <td>OLECRAM</td>\n",
       "    </tr>\n",
       "    <tr>\n",
       "      <th>MARCOS</th>\n",
       "      <td>190</td>\n",
       "      <td>0.7037</td>\n",
       "      <td>None</td>\n",
       "      <td>6</td>\n",
       "      <td>SOCRAM</td>\n",
       "    </tr>\n",
       "    <tr>\n",
       "      <th>ANDRE</th>\n",
       "      <td>198</td>\n",
       "      <td>0.6653</td>\n",
       "      <td>None</td>\n",
       "      <td>5</td>\n",
       "      <td>ERDNA</td>\n",
       "    </tr>\n",
       "    <tr>\n",
       "      <th>RODRIGO</th>\n",
       "      <td>146</td>\n",
       "      <td>0.6176</td>\n",
       "      <td>None</td>\n",
       "      <td>7</td>\n",
       "      <td>OGIRDOR</td>\n",
       "    </tr>\n",
       "    <tr>\n",
       "      <th>RAFAEL</th>\n",
       "      <td>3</td>\n",
       "      <td>0.5954</td>\n",
       "      <td>None</td>\n",
       "      <td>6</td>\n",
       "      <td>LEAFAR</td>\n",
       "    </tr>\n",
       "    <tr>\n",
       "      <th>RICARDO</th>\n",
       "      <td>177</td>\n",
       "      <td>0.5827</td>\n",
       "      <td>None</td>\n",
       "      <td>7</td>\n",
       "      <td>ODRACIR</td>\n",
       "    </tr>\n",
       "    <tr>\n",
       "      <th>FERNANDO</th>\n",
       "      <td>93</td>\n",
       "      <td>0.5697</td>\n",
       "      <td>None</td>\n",
       "      <td>8</td>\n",
       "      <td>ODNANREF</td>\n",
       "    </tr>\n",
       "    <tr>\n",
       "      <th>PEDRO</th>\n",
       "      <td>76</td>\n",
       "      <td>0.5670</td>\n",
       "      <td>None</td>\n",
       "      <td>5</td>\n",
       "      <td>ORDEP</td>\n",
       "    </tr>\n",
       "    <tr>\n",
       "      <th>EDUARDO</th>\n",
       "      <td>40</td>\n",
       "      <td>0.5615</td>\n",
       "      <td>None</td>\n",
       "      <td>7</td>\n",
       "      <td>ODRAUDE</td>\n",
       "    </tr>\n",
       "    <tr>\n",
       "      <th>FERNANDA</th>\n",
       "      <td>202</td>\n",
       "      <td>0.5469</td>\n",
       "      <td>None</td>\n",
       "      <td>8</td>\n",
       "      <td>ADNANREF</td>\n",
       "    </tr>\n",
       "    <tr>\n",
       "      <th>PATRICIA</th>\n",
       "      <td>107</td>\n",
       "      <td>0.5322</td>\n",
       "      <td>None</td>\n",
       "      <td>8</td>\n",
       "      <td>AICIRTAP</td>\n",
       "    </tr>\n",
       "    <tr>\n",
       "      <th>DANIEL</th>\n",
       "      <td>100</td>\n",
       "      <td>0.5311</td>\n",
       "      <td>None</td>\n",
       "      <td>6</td>\n",
       "      <td>LEINAD</td>\n",
       "    </tr>\n",
       "    <tr>\n",
       "      <th>ALEXANDRE</th>\n",
       "      <td>62</td>\n",
       "      <td>0.5252</td>\n",
       "      <td>None</td>\n",
       "      <td>9</td>\n",
       "      <td>ERDNAXELA</td>\n",
       "    </tr>\n",
       "    <tr>\n",
       "      <th>JULIANA</th>\n",
       "      <td>55</td>\n",
       "      <td>0.5241</td>\n",
       "      <td>None</td>\n",
       "      <td>7</td>\n",
       "      <td>ANAILUJ</td>\n",
       "    </tr>\n",
       "    <tr>\n",
       "      <th>BRUNO</th>\n",
       "      <td>206</td>\n",
       "      <td>0.5079</td>\n",
       "      <td>None</td>\n",
       "      <td>5</td>\n",
       "      <td>ONURB</td>\n",
       "    </tr>\n",
       "    <tr>\n",
       "      <th>MARCIA</th>\n",
       "      <td>130</td>\n",
       "      <td>0.4961</td>\n",
       "      <td>None</td>\n",
       "      <td>6</td>\n",
       "      <td>AICRAM</td>\n",
       "    </tr>\n",
       "    <tr>\n",
       "      <th>FABIO</th>\n",
       "      <td>61</td>\n",
       "      <td>0.4854</td>\n",
       "      <td>None</td>\n",
       "      <td>5</td>\n",
       "      <td>OIBAF</td>\n",
       "    </tr>\n",
       "    <tr>\n",
       "      <th>LEONARDO</th>\n",
       "      <td>209</td>\n",
       "      <td>0.4687</td>\n",
       "      <td>None</td>\n",
       "      <td>8</td>\n",
       "      <td>ODRANOEL</td>\n",
       "    </tr>\n",
       "    <tr>\n",
       "      <th>LUCIANA</th>\n",
       "      <td>171</td>\n",
       "      <td>0.4628</td>\n",
       "      <td>None</td>\n",
       "      <td>7</td>\n",
       "      <td>ANAICUL</td>\n",
       "    </tr>\n",
       "    <tr>\n",
       "      <th>SERGIO</th>\n",
       "      <td>134</td>\n",
       "      <td>0.4570</td>\n",
       "      <td>None</td>\n",
       "      <td>6</td>\n",
       "      <td>OIGRES</td>\n",
       "    </tr>\n",
       "    <tr>\n",
       "      <th>LUIS</th>\n",
       "      <td>32</td>\n",
       "      <td>0.4412</td>\n",
       "      <td>None</td>\n",
       "      <td>4</td>\n",
       "      <td>SIUL</td>\n",
       "    </tr>\n",
       "  </tbody>\n",
       "</table>\n",
       "</div>"
      ],
      "text/plain": [
       "           QTDE    PERC  SEXO  LETRAS        REV\n",
       "PNOME                                           \n",
       "MARIA       168  3.1593  None       5      AIRAM\n",
       "JOSE         52  2.4671  None       4       ESOJ\n",
       "ANA         233  1.7812  None       3        ANA\n",
       "JOAO         91  1.1643  None       4       OAOJ\n",
       "CARLOS      202  1.1418  None       6     SOLRAC\n",
       "PAULO        52  1.1186  None       5      OLUAP\n",
       "ANTONIO      70  1.0817  None       7    OINOTNA\n",
       "LUIZ        251  0.9511  None       4       ZIUL\n",
       "FRANCISCO   163  0.8978  None       9  OCSICNARF\n",
       "MARCELO     113  0.7711  None       7    OLECRAM\n",
       "MARCOS      190  0.7037  None       6     SOCRAM\n",
       "ANDRE       198  0.6653  None       5      ERDNA\n",
       "RODRIGO     146  0.6176  None       7    OGIRDOR\n",
       "RAFAEL        3  0.5954  None       6     LEAFAR\n",
       "RICARDO     177  0.5827  None       7    ODRACIR\n",
       "FERNANDO     93  0.5697  None       8   ODNANREF\n",
       "PEDRO        76  0.5670  None       5      ORDEP\n",
       "EDUARDO      40  0.5615  None       7    ODRAUDE\n",
       "FERNANDA    202  0.5469  None       8   ADNANREF\n",
       "PATRICIA    107  0.5322  None       8   AICIRTAP\n",
       "DANIEL      100  0.5311  None       6     LEINAD\n",
       "ALEXANDRE    62  0.5252  None       9  ERDNAXELA\n",
       "JULIANA      55  0.5241  None       7    ANAILUJ\n",
       "BRUNO       206  0.5079  None       5      ONURB\n",
       "MARCIA      130  0.4961  None       6     AICRAM\n",
       "FABIO        61  0.4854  None       5      OIBAF\n",
       "LEONARDO    209  0.4687  None       8   ODRANOEL\n",
       "LUCIANA     171  0.4628  None       7    ANAICUL\n",
       "SERGIO      134  0.4570  None       6     OIGRES\n",
       "LUIS         32  0.4412  None       4       SIUL"
      ]
     },
     "execution_count": 5,
     "metadata": {},
     "output_type": "execute_result"
    }
   ],
   "source": [
    "df['SEXO'] = None\n",
    "df['LETRAS'] = 0\n",
    "df['REV'] = df.index\n",
    "df['REV'] = df['REV'].apply(lambda x: x[::-1])\n",
    "df['LETRAS'] = df['REV'].apply(lambda x: len(x))\n",
    "df.head(30)"
   ]
  },
  {
   "cell_type": "code",
   "execution_count": null,
   "metadata": {},
   "outputs": [
    {
     "data": {
      "text/plain": [
       "QTDE        uint8\n",
       "PERC      float32\n",
       "SEXO       object\n",
       "LETRAS      int64\n",
       "REV        object\n",
       "dtype: object"
      ]
     },
     "execution_count": 6,
     "metadata": {},
     "output_type": "execute_result"
    }
   ],
   "source": [
    "df.dtypes"
   ]
  },
  {
   "cell_type": "code",
   "execution_count": null,
   "metadata": {},
   "outputs": [
    {
     "data": {
      "text/plain": [
       "16"
      ]
     },
     "execution_count": 7,
     "metadata": {},
     "output_type": "execute_result"
    }
   ],
   "source": [
    "maior = df['LETRAS'].max()\n",
    "maior"
   ]
  },
  {
   "cell_type": "code",
   "execution_count": null,
   "metadata": {},
   "outputs": [],
   "source": [
    "maior = 16 # fixado para o maior arquivo"
   ]
  },
  {
   "cell_type": "raw",
   "metadata": {},
   "source": [
    "for i in range(maior):\n",
    "    df['L' + str(i)] = ''\n",
    "df.head()"
   ]
  },
  {
   "cell_type": "raw",
   "metadata": {},
   "source": [
    "df['L0'] = df['REV'].apply(lambda x: x[0])\n",
    "df['L1'] = df['REV'].apply(lambda x: x[1] if len(x) > 1 else '')\n",
    "df.head()"
   ]
  },
  {
   "cell_type": "raw",
   "metadata": {},
   "source": [
    "for i in range(maior):\n",
    "    df['L' + str(i)] = df['REV'].apply(lambda x: x[i] if len(x) > i else '')\n",
    "df.head()"
   ]
  },
  {
   "cell_type": "markdown",
   "metadata": {},
   "source": [
    "### 1) Masculino se terminar com O, Feminino se terminar com A"
   ]
  },
  {
   "cell_type": "code",
   "execution_count": null,
   "metadata": {},
   "outputs": [],
   "source": [
    "df.loc[df['REV'].str.startswith('O'), 'SEXO'] = 'M'\n",
    "df.loc[df['REV'].str.startswith('A'), 'SEXO'] = 'F'"
   ]
  },
  {
   "cell_type": "markdown",
   "metadata": {},
   "source": [
    "### 2) Masculino se terminar com R, X ou L"
   ]
  },
  {
   "cell_type": "code",
   "execution_count": null,
   "metadata": {},
   "outputs": [],
   "source": [
    "df.loc[df['REV'].str.startswith('R'), 'SEXO'] = 'M'\n",
    "df.loc[df['REV'].str.startswith('X'), 'SEXO'] = 'M'\n",
    "df.loc[df['REV'].str.startswith('L'), 'SEXO'] = 'M'"
   ]
  },
  {
   "cell_type": "markdown",
   "metadata": {},
   "source": [
    "### 3) Masculino se terminar com ..."
   ]
  },
  {
   "cell_type": "code",
   "execution_count": null,
   "metadata": {},
   "outputs": [],
   "source": [
    "sufixos = [\n",
    "\"DRE\",\n",
    "\"UIS\",\n",
    "\"QUE\",\n",
    "\"ERT\",\n",
    "\"ERG\"\n",
    "]\n",
    "\n",
    "for suf in sufixos:\n",
    "    df.loc[df['REV'].str.startswith(suf[::-1]), 'SEXO'] = 'M'"
   ]
  },
  {
   "cell_type": "markdown",
   "metadata": {},
   "source": [
    "### 4) Masculino se terminar com ..."
   ]
  },
  {
   "cell_type": "code",
   "execution_count": null,
   "metadata": {},
   "outputs": [],
   "source": [
    "sufixos = [\n",
    "\"OS\",\n",
    "\"ON\",\n",
    "\"AS\",\n",
    "\"AZ\",\n",
    "\"US\",\n",
    "\"ES\",\n",
    "\"PE\",\n",
    "\"PH\",\n",
    "\"IM\",\n",
    "\"NS\",\n",
    "\"UE\",\n",
    "\"EI\",\n",
    "\"EY\",\n",
    "\"EU\",\n",
    "\"AU\",\n",
    "\"AN\",\n",
    "\"AC\",\n",
    "\"IC\",\n",
    "\"ICK\",\n",
    "\"IK\"\n",
    "]\n",
    "\n",
    "for suf in sufixos:\n",
    "    df.loc[df['REV'].str.startswith(suf[::-1]), 'SEXO'] = 'M'"
   ]
  },
  {
   "cell_type": "markdown",
   "metadata": {},
   "source": [
    "### 5) Feminino se terminar com ..."
   ]
  },
  {
   "cell_type": "code",
   "execution_count": null,
   "metadata": {},
   "outputs": [],
   "source": [
    "sufixos = [\n",
    "\"ELE\",\n",
    "\"ELLE\",\n",
    "\"LLE\",\n",
    "\"ETE\",\n",
    "\"ETTE\",\n",
    "\"ETI\",\n",
    "\"ETTI\",\n",
    "\"ETH\",\n",
    "\"ETHE\",\n",
    "\"ISE\",\n",
    "\"IZE\",\n",
    "\"ITE\"\n",
    "]\n",
    "\n",
    "for suf in sufixos:\n",
    "    df.loc[df['REV'].str.startswith(suf[::-1]), 'SEXO'] = 'F'"
   ]
  },
  {
   "cell_type": "markdown",
   "metadata": {},
   "source": [
    "### 6) Feminino se terminar com ..."
   ]
  },
  {
   "cell_type": "code",
   "execution_count": null,
   "metadata": {},
   "outputs": [],
   "source": [
    "sufixos = [\n",
    "\"NE\",\n",
    "\"LI\",\n",
    "\"LY\",\n",
    "\"LYN\",\n",
    "\"CE\",\n",
    "\"EN\",\n",
    "\"DE\",\n",
    "\"SE\",\n",
    "\"SY\",\n",
    "\"ANI\",\n",
    "\"AIS\",\n",
    "\"AH\",\n",
    "\"ENI\",\n",
    "\"IE\",\n",
    "\"IRE\"\n",
    "]\n",
    "\n",
    "for suf in sufixos:\n",
    "    df.loc[df['REV'].str.startswith(suf[::-1]), 'SEXO'] = 'F'"
   ]
  },
  {
   "cell_type": "markdown",
   "metadata": {},
   "source": [
    "### 8) Nomes Masculinos ainda não classificados ou reclassificados"
   ]
  },
  {
   "cell_type": "raw",
   "metadata": {},
   "source": [
    "nomes = [\n",
    "\"JOSE\",\n",
    "\"JORGE\",\n",
    "\"LUIZ\",\n",
    "]"
   ]
  },
  {
   "cell_type": "raw",
   "metadata": {},
   "source": [
    "with open('nomes-masculinos.txt', 'w') as f:\n",
    "    for nome in nomes:\n",
    "        f.write(\"%s\\n\" % nome)"
   ]
  },
  {
   "cell_type": "code",
   "execution_count": null,
   "metadata": {},
   "outputs": [],
   "source": [
    "nomes = []\n",
    "with open('nomes-masculinos.txt', 'r') as f:\n",
    "    nomes = [nome.rstrip() for nome in f.readlines()]"
   ]
  },
  {
   "cell_type": "code",
   "execution_count": null,
   "metadata": {},
   "outputs": [],
   "source": [
    "for nome in nomes:\n",
    "    df.loc[df['REV'] == nome[::-1], 'SEXO'] = 'M'"
   ]
  },
  {
   "cell_type": "markdown",
   "metadata": {},
   "source": [
    "### 9) Nomes Femininos ainda não classificados ou reclassificados"
   ]
  },
  {
   "cell_type": "raw",
   "metadata": {},
   "source": [
    "nomes = [\n",
    "\"RAQUEL\",\n",
    "\"ISABEL\",\n",
    "\"LEONOR\"\n",
    "]"
   ]
  },
  {
   "cell_type": "raw",
   "metadata": {},
   "source": [
    "with open('nomes-femininos.txt', 'w') as f:\n",
    "    for nome in nomes:\n",
    "        f.write(\"%s\\n\" % nome)"
   ]
  },
  {
   "cell_type": "code",
   "execution_count": null,
   "metadata": {},
   "outputs": [],
   "source": [
    "nomes = []\n",
    "with open('nomes-femininos.txt', 'r') as f:\n",
    "    nomes = [nome.rstrip() for nome in f.readlines()]"
   ]
  },
  {
   "cell_type": "code",
   "execution_count": null,
   "metadata": {},
   "outputs": [],
   "source": [
    "for nome in nomes:\n",
    "    df.loc[df['REV'] == nome[::-1], 'SEXO'] = 'F'"
   ]
  },
  {
   "cell_type": "markdown",
   "metadata": {},
   "source": [
    "### Casos indefinidos"
   ]
  },
  {
   "cell_type": "code",
   "execution_count": null,
   "metadata": {},
   "outputs": [],
   "source": [
    "df[df['SEXO'].isnull()].head(30)"
   ]
  },
  {
   "cell_type": "markdown",
   "metadata": {},
   "source": [
    "### Testes com outros casos"
   ]
  },
  {
   "cell_type": "raw",
   "metadata": {
    "scrolled": false
   },
   "source": [
    "df = df[df['REV'].str.startswith('IA')]\n",
    "\n",
    "df[df['SEXO'].isnull()].head(100)"
   ]
  },
  {
   "cell_type": "code",
   "execution_count": null,
   "metadata": {},
   "outputs": [],
   "source": [
    "df.describe(include=['O'])"
   ]
  },
  {
   "cell_type": "code",
   "execution_count": null,
   "metadata": {},
   "outputs": [],
   "source": [
    "df.head(200)"
   ]
  },
  {
   "cell_type": "markdown",
   "metadata": {},
   "source": [
    "### Testes com outros casos"
   ]
  },
  {
   "cell_type": "raw",
   "metadata": {},
   "source": [
    "df[df['REV'].str.startswith('EZI')]"
   ]
  },
  {
   "cell_type": "code",
   "execution_count": null,
   "metadata": {},
   "outputs": [],
   "source": [
    "#df.loc['PHILIP']"
   ]
  },
  {
   "cell_type": "markdown",
   "metadata": {},
   "source": [
    "### Geração do arquivo final"
   ]
  },
  {
   "cell_type": "code",
   "execution_count": null,
   "metadata": {},
   "outputs": [],
   "source": [
    "df.loc[df['SEXO'].isnull(), 'SEXO'] = 'X'"
   ]
  },
  {
   "cell_type": "code",
   "execution_count": null,
   "metadata": {
    "scrolled": false
   },
   "outputs": [],
   "source": [
    "df['SEXO'].to_csv(BASE + '-nomes-sexo.csv', float_format='%.4f')"
   ]
  }
 ],
 "metadata": {
  "kernelspec": {
   "display_name": "Python 3",
   "language": "python",
   "name": "python3"
  },
  "language_info": {
   "codemirror_mode": {
    "name": "ipython",
    "version": 3
   },
   "file_extension": ".py",
   "mimetype": "text/x-python",
   "name": "python",
   "nbconvert_exporter": "python",
   "pygments_lexer": "ipython3",
   "version": "3.6.7"
  }
 },
 "nbformat": 4,
 "nbformat_minor": 2
}
