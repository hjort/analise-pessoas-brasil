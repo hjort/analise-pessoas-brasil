{
 "cells": [
  {
   "cell_type": "code",
   "execution_count": 1,
   "id": "ff86e07c",
   "metadata": {},
   "outputs": [],
   "source": [
    "import numpy as np\n",
    "import re"
   ]
  },
  {
   "cell_type": "markdown",
   "id": "d833c98a",
   "metadata": {},
   "source": [
    "## Carregar modelo treinado"
   ]
  },
  {
   "cell_type": "code",
   "execution_count": 2,
   "id": "9901a789",
   "metadata": {},
   "outputs": [],
   "source": [
    "# definir arquivo Joblib de entrada\n",
    "modelo = 'modelos/modelo-genero-nome.joblib.bz2' # sklearn (best)\n",
    "#modelo = 'modelos/modelo-genero-nome-ABDT.joblib.bz2' # AdaBoost\n",
    "#modelo = 'modelos/modelo-genero-nome-RF.joblib.bz2' # RF\n",
    "#modelo = 'modelos/modelo-genero-nome-XGB.joblib.bz2' # XGBoost\n",
    "#modelo = 'modelos/modelo-genero-nome-XGB-npf.joblib.bz2' # XGBoost (+dados)\n",
    "#modelo = 'modelos/modelo-genero-nome-autoskl.joblib.bz2' # autosklearn"
   ]
  },
  {
   "cell_type": "code",
   "execution_count": 3,
   "id": "c8e71812",
   "metadata": {},
   "outputs": [
    {
     "data": {
      "text/plain": [
       "RandomForestClassifier(random_state=42)"
      ]
     },
     "execution_count": 3,
     "metadata": {},
     "output_type": "execute_result"
    }
   ],
   "source": [
    "# carregar um modelo previamente gravado em disco\n",
    "from joblib import load\n",
    "model = load(modelo)\n",
    "model"
   ]
  },
  {
   "cell_type": "markdown",
   "id": "69482fd9",
   "metadata": {},
   "source": [
    "## Avaliação de exemplos individuais"
   ]
  },
  {
   "cell_type": "code",
   "execution_count": 4,
   "id": "58ca72d7",
   "metadata": {},
   "outputs": [],
   "source": [
    "def obter_primeiro_nome(str):\n",
    "    if str:\n",
    "        return re.split(\"\\s\", str)[0].upper()\n",
    "\n",
    "MAIOR_QTDE_LETRAS = 16\n",
    "\n",
    "def obter_array_letras(str):\n",
    "    if not str:\n",
    "        return None\n",
    "    rev = str[::-1]\n",
    "    anome = []\n",
    "    for i in range(MAIOR_QTDE_LETRAS):\n",
    "        x = ord(rev[i]) - 64 if len(rev) > i else 0\n",
    "        anome.append(x)\n",
    "    return anome"
   ]
  },
  {
   "cell_type": "markdown",
   "id": "814d308e",
   "metadata": {},
   "source": [
    "### Nulo ou vazio"
   ]
  },
  {
   "cell_type": "code",
   "execution_count": 5,
   "id": "d5f60099",
   "metadata": {},
   "outputs": [],
   "source": [
    "obter_array_letras(obter_primeiro_nome(None))"
   ]
  },
  {
   "cell_type": "code",
   "execution_count": 6,
   "id": "e899cf78",
   "metadata": {},
   "outputs": [],
   "source": [
    "obter_array_letras(obter_primeiro_nome(\"\"))"
   ]
  },
  {
   "cell_type": "markdown",
   "id": "0d3d1efa",
   "metadata": {},
   "source": [
    "### Feminino"
   ]
  },
  {
   "cell_type": "code",
   "execution_count": 7,
   "id": "6a8a6d88",
   "metadata": {},
   "outputs": [
    {
     "name": "stdout",
     "output_type": "stream",
     "text": [
      "[1, 9, 3, 9, 18, 20, 1, 16, 0, 0, 0, 0, 0, 0, 0, 0]\n"
     ]
    },
    {
     "data": {
      "text/plain": [
       "0"
      ]
     },
     "execution_count": 7,
     "metadata": {},
     "output_type": "execute_result"
    }
   ],
   "source": [
    "nome = \"Patricia da Silva\"\n",
    "anome1 = obter_array_letras(obter_primeiro_nome(nome))\n",
    "print(anome1)\n",
    "model.predict(np.asarray([anome1]))[0]"
   ]
  },
  {
   "cell_type": "code",
   "execution_count": 8,
   "id": "52fb9de1",
   "metadata": {},
   "outputs": [
    {
     "data": {
      "text/plain": [
       "0"
      ]
     },
     "execution_count": 8,
     "metadata": {},
     "output_type": "execute_result"
    }
   ],
   "source": [
    "nome = \"LEONOR BRITO\"\n",
    "model.predict(np.asarray([obter_array_letras(obter_primeiro_nome(nome))]))[0]"
   ]
  },
  {
   "cell_type": "markdown",
   "id": "b5fcfd00",
   "metadata": {},
   "source": [
    "### Masculino"
   ]
  },
  {
   "cell_type": "code",
   "execution_count": 9,
   "id": "877c0839",
   "metadata": {},
   "outputs": [
    {
     "name": "stdout",
     "output_type": "stream",
     "text": [
      "[15, 4, 14, 9, 12, 18, 1, 0, 0, 0, 0, 0, 0, 0, 0, 0]\n"
     ]
    },
    {
     "data": {
      "text/plain": [
       "1"
      ]
     },
     "execution_count": 9,
     "metadata": {},
     "output_type": "execute_result"
    }
   ],
   "source": [
    "nome = \"Arlindo de Souza\"\n",
    "anome2 = obter_array_letras(obter_primeiro_nome(nome))\n",
    "print(anome2)\n",
    "model.predict(np.asarray([anome2]))[0]"
   ]
  },
  {
   "cell_type": "code",
   "execution_count": 10,
   "id": "ce081c76",
   "metadata": {},
   "outputs": [
    {
     "data": {
      "text/plain": [
       "1"
      ]
     },
     "execution_count": 10,
     "metadata": {},
     "output_type": "execute_result"
    }
   ],
   "source": [
    "nome = \"DJALMA DOS SANTOS\"\n",
    "model.predict(np.asarray([obter_array_letras(obter_primeiro_nome(nome))]))[0]"
   ]
  },
  {
   "cell_type": "code",
   "execution_count": null,
   "id": "b6a78da2",
   "metadata": {},
   "outputs": [],
   "source": []
  }
 ],
 "metadata": {
  "kernelspec": {
   "display_name": "Python 3",
   "language": "python",
   "name": "python3"
  },
  "language_info": {
   "codemirror_mode": {
    "name": "ipython",
    "version": 3
   },
   "file_extension": ".py",
   "mimetype": "text/x-python",
   "name": "python",
   "nbconvert_exporter": "python",
   "pygments_lexer": "ipython3",
   "version": "3.8.8"
  }
 },
 "nbformat": 4,
 "nbformat_minor": 5
}
