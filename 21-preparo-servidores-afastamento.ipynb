{
 "cells": [
  {
   "cell_type": "code",
   "execution_count": 1,
   "metadata": {},
   "outputs": [],
   "source": [
    "import pandas as pd"
   ]
  },
  {
   "cell_type": "code",
   "execution_count": 2,
   "metadata": {},
   "outputs": [
    {
     "name": "stdout",
     "output_type": "stream",
     "text": [
      "\"ANO\";\"MES\";\"Id_SERVIDOR_PORTAL\";\"CPF\";\"NOME\";\"DATA_INICIO_AFASTAMENTO\";\"DATA_FIM_AFASTAMENTO\"\r",
      "\r\n",
      "\"2020\";\"12\";\"5105492\";\"***.859.807-**\";\"AARAO SOARES\";\"15/08/2015\";\"Não informada\"\r",
      "\r\n",
      "\"2020\";\"12\";\"76402944\";\"***.430.802-**\";\"ABADIA APARECIDA FAUSTINO\";\"22/10/2020\";\"19/04/2021\"\r",
      "\r\n",
      "\"2020\";\"12\";\"5309978\";\"***.834.461-**\";\"ABADIA CANDIDA LEMES\";\"01/09/2010\";\"Não informada\"\r",
      "\r\n",
      "\"2020\";\"12\";\"6412792\";\"***.220.502-**\";\"ABADIAS CARDOSO MORAIS\";\"04/09/2020\";\"Não informada\"\r",
      "\r\n",
      "\"2020\";\"12\";\"8414882\";\"***.494.471-**\";\"ABADIO ALVES LIMA\";\"22/01/2018\";\"Não informada\"\r",
      "\r\n",
      "\"2020\";\"12\";\"2006768\";\"***.518.923-**\";\"ABAETE PINHEIRO DE HOLANDA\";\"31/01/2013\";\"Não informada\"\r",
      "\r\n",
      "\"2020\";\"12\";\"8608224\";\"***.531.136-**\";\"ABAPORANG PAES LEME ALBERTO\";\"25/10/2020\";\"Não informada\"\r",
      "\r\n",
      "\"2020\";\"12\";\"4516155\";\"***.372.512-**\";\"ABDELHAK RAZKY\";\"13/05/2016\";\"Não informada\"\r",
      "\r\n",
      "\"2020\";\"12\";\"3210067\";\"***.868.337-**\";\"ABDENAGA SILVA BELCHIOR DA CUNHA\";\"28/10/2020\";\"26/12/2020\"\r",
      "\r\n",
      "\r\n",
      "bzcat: I/O or other error, bailing out.  Possible reason follows.\r\n",
      "bzcat: Broken pipe\r\n",
      "\tInput file = origem/202012_Afastamentos.csv.bz2, output file = (stdout)\r\n"
     ]
    }
   ],
   "source": [
    "!bzcat origem/202012_Afastamentos.csv.bz2 | head"
   ]
  },
  {
   "cell_type": "code",
   "execution_count": 3,
   "metadata": {},
   "outputs": [
    {
     "data": {
      "text/html": [
       "<div>\n",
       "<style scoped>\n",
       "    .dataframe tbody tr th:only-of-type {\n",
       "        vertical-align: middle;\n",
       "    }\n",
       "\n",
       "    .dataframe tbody tr th {\n",
       "        vertical-align: top;\n",
       "    }\n",
       "\n",
       "    .dataframe thead th {\n",
       "        text-align: right;\n",
       "    }\n",
       "</style>\n",
       "<table border=\"1\" class=\"dataframe\">\n",
       "  <thead>\n",
       "    <tr style=\"text-align: right;\">\n",
       "      <th></th>\n",
       "      <th>NOME</th>\n",
       "    </tr>\n",
       "    <tr>\n",
       "      <th>Id_SERVIDOR_PORTAL</th>\n",
       "      <th></th>\n",
       "    </tr>\n",
       "  </thead>\n",
       "  <tbody>\n",
       "    <tr>\n",
       "      <th>5105492</th>\n",
       "      <td>AARAO SOARES</td>\n",
       "    </tr>\n",
       "    <tr>\n",
       "      <th>76402944</th>\n",
       "      <td>ABADIA APARECIDA FAUSTINO</td>\n",
       "    </tr>\n",
       "    <tr>\n",
       "      <th>5309978</th>\n",
       "      <td>ABADIA CANDIDA LEMES</td>\n",
       "    </tr>\n",
       "    <tr>\n",
       "      <th>6412792</th>\n",
       "      <td>ABADIAS CARDOSO MORAIS</td>\n",
       "    </tr>\n",
       "    <tr>\n",
       "      <th>8414882</th>\n",
       "      <td>ABADIO ALVES LIMA</td>\n",
       "    </tr>\n",
       "  </tbody>\n",
       "</table>\n",
       "</div>"
      ],
      "text/plain": [
       "                                         NOME\n",
       "Id_SERVIDOR_PORTAL                           \n",
       "5105492                          AARAO SOARES\n",
       "76402944            ABADIA APARECIDA FAUSTINO\n",
       "5309978                  ABADIA CANDIDA LEMES\n",
       "6412792                ABADIAS CARDOSO MORAIS\n",
       "8414882                     ABADIO ALVES LIMA"
      ]
     },
     "execution_count": 3,
     "metadata": {},
     "output_type": "execute_result"
    }
   ],
   "source": [
    "df = pd.read_csv('origem/202012_Afastamentos.csv.bz2', sep=';', \n",
    "                        usecols=['Id_SERVIDOR_PORTAL', 'NOME'], index_col=0)\n",
    "df.head()"
   ]
  },
  {
   "cell_type": "code",
   "execution_count": 4,
   "metadata": {},
   "outputs": [
    {
     "data": {
      "text/plain": [
       "Int64Index([ 5105492, 76402944,  5309978,  6412792,  8414882,  2006768,\n",
       "             8608224,  4516155,  3210067,  8611816,\n",
       "            ...\n",
       "             6606055,  6210236,  1210745,  2808629,  9507687,  3310728,\n",
       "             3211593,  8414919, 52501215,  3212375],\n",
       "           dtype='int64', name='Id_SERVIDOR_PORTAL', length=66834)"
      ]
     },
     "execution_count": 4,
     "metadata": {},
     "output_type": "execute_result"
    }
   ],
   "source": [
    "df.index"
   ]
  },
  {
   "cell_type": "code",
   "execution_count": 5,
   "metadata": {},
   "outputs": [],
   "source": [
    "df.drop_duplicates(inplace=True)"
   ]
  },
  {
   "cell_type": "code",
   "execution_count": 6,
   "metadata": {},
   "outputs": [],
   "source": [
    "df.to_csv('afastamentos.csv', sep=';')"
   ]
  },
  {
   "cell_type": "code",
   "execution_count": 7,
   "metadata": {},
   "outputs": [],
   "source": [
    "!rm -f afastamentos.csv.bz2 && bzip2 -9 afastamentos.csv"
   ]
  },
  {
   "cell_type": "code",
   "execution_count": 8,
   "metadata": {},
   "outputs": [
    {
     "name": "stdout",
     "output_type": "stream",
     "text": [
      "Id_SERVIDOR_PORTAL;NOME\r\n",
      "5105492;AARAO SOARES\r\n",
      "76402944;ABADIA APARECIDA FAUSTINO\r\n",
      "5309978;ABADIA CANDIDA LEMES\r\n",
      "6412792;ABADIAS CARDOSO MORAIS\r\n",
      "8414882;ABADIO ALVES LIMA\r\n",
      "2006768;ABAETE PINHEIRO DE HOLANDA\r\n",
      "8608224;ABAPORANG PAES LEME ALBERTO\r\n",
      "4516155;ABDELHAK RAZKY\r\n",
      "3210067;ABDENAGA SILVA BELCHIOR DA CUNHA\r\n",
      "\r\n",
      "bzcat: I/O or other error, bailing out.  Possible reason follows.\r\n",
      "bzcat: Broken pipe\r\n",
      "\tInput file = afastamentos.csv.bz2, output file = (stdout)\r\n"
     ]
    }
   ],
   "source": [
    "!bzcat afastamentos.csv.bz2 | head"
   ]
  }
 ],
 "metadata": {
  "kernelspec": {
   "display_name": "Python 3",
   "language": "python",
   "name": "python3"
  },
  "language_info": {
   "codemirror_mode": {
    "name": "ipython",
    "version": 3
   },
   "file_extension": ".py",
   "mimetype": "text/x-python",
   "name": "python",
   "nbconvert_exporter": "python",
   "pygments_lexer": "ipython3",
   "version": "3.8.5"
  }
 },
 "nbformat": 4,
 "nbformat_minor": 2
}
