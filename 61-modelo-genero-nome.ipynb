{
 "cells": [
  {
   "cell_type": "code",
   "execution_count": 1,
   "metadata": {
    "id": "NWJ6b5VDKBhs"
   },
   "outputs": [],
   "source": [
    "import pandas as pd\n",
    "import numpy as np"
   ]
  },
  {
   "cell_type": "code",
   "execution_count": 2,
   "metadata": {
    "id": "oYX28cEQKBjU"
   },
   "outputs": [],
   "source": [
    "# importar pacotes usados na seleção do modelo e na medição da precisão\n",
    "from sklearn.model_selection import cross_val_score\n",
    "from sklearn.model_selection import RandomizedSearchCV\n",
    "#from sklearn.model_selection import GridSearchCV\n",
    "from sklearn.model_selection import KFold\n",
    "from sklearn.metrics import confusion_matrix"
   ]
  },
  {
   "cell_type": "raw",
   "metadata": {},
   "source": [
    "BASE = 'afastamentos'\n",
    "#BASE = 'cadastro'"
   ]
  },
  {
   "cell_type": "raw",
   "metadata": {
    "colab": {
     "base_uri": "https://localhost:8080/"
    },
    "id": "kc_0T3obKBjf",
    "outputId": "e625eb49-89fb-43ca-cf17-cea77218609a"
   },
   "source": [
    "df = pd.read_csv(BASE + '-nomes-sexo.csv', index_col=0, \n",
    "                 dtype={'PERC': np.float32, 'LETRAS': 'uint8'})"
   ]
  },
  {
   "cell_type": "raw",
   "metadata": {
    "id": "J4WPELbkKBjk"
   },
   "source": [
    "df.drop(columns=['REV', 'QTDE'], inplace=True)"
   ]
  },
  {
   "cell_type": "code",
   "execution_count": 3,
   "metadata": {},
   "outputs": [
    {
     "data": {
      "text/html": [
       "<div>\n",
       "<style scoped>\n",
       "    .dataframe tbody tr th:only-of-type {\n",
       "        vertical-align: middle;\n",
       "    }\n",
       "\n",
       "    .dataframe tbody tr th {\n",
       "        vertical-align: top;\n",
       "    }\n",
       "\n",
       "    .dataframe thead th {\n",
       "        text-align: right;\n",
       "    }\n",
       "</style>\n",
       "<table border=\"1\" class=\"dataframe\">\n",
       "  <thead>\n",
       "    <tr style=\"text-align: right;\">\n",
       "      <th></th>\n",
       "      <th>sexo</th>\n",
       "    </tr>\n",
       "    <tr>\n",
       "      <th>nome</th>\n",
       "      <th></th>\n",
       "    </tr>\n",
       "  </thead>\n",
       "  <tbody>\n",
       "  </tbody>\n",
       "</table>\n",
       "</div>"
      ],
      "text/plain": [
       "Empty DataFrame\n",
       "Columns: [sexo]\n",
       "Index: []"
      ]
     },
     "execution_count": 3,
     "metadata": {},
     "output_type": "execute_result"
    }
   ],
   "source": [
    "df = pd.read_csv('extra/nome_sexo_pf50.csv', index_col=0)\n",
    "df = df.loc[~df.index.isna()]\n",
    "df[df.index.isnull()]"
   ]
  },
  {
   "cell_type": "raw",
   "metadata": {},
   "source": [
    "df.drop(df[df.index.isnull()].index, inplace=True)"
   ]
  },
  {
   "cell_type": "code",
   "execution_count": 4,
   "metadata": {},
   "outputs": [],
   "source": [
    "df.rename(columns={'sexo': 'SEXO'}, inplace=True)"
   ]
  },
  {
   "cell_type": "code",
   "execution_count": 5,
   "metadata": {
    "colab": {
     "base_uri": "https://localhost:8080/",
     "height": 390
    },
    "id": "5eczSwIWKBjn",
    "outputId": "7723b62d-9453-4717-af3e-8c64a253abce"
   },
   "outputs": [
    {
     "data": {
      "text/html": [
       "<div>\n",
       "<style scoped>\n",
       "    .dataframe tbody tr th:only-of-type {\n",
       "        vertical-align: middle;\n",
       "    }\n",
       "\n",
       "    .dataframe tbody tr th {\n",
       "        vertical-align: top;\n",
       "    }\n",
       "\n",
       "    .dataframe thead th {\n",
       "        text-align: right;\n",
       "    }\n",
       "</style>\n",
       "<table border=\"1\" class=\"dataframe\">\n",
       "  <thead>\n",
       "    <tr style=\"text-align: right;\">\n",
       "      <th></th>\n",
       "      <th>SEXO</th>\n",
       "    </tr>\n",
       "    <tr>\n",
       "      <th>nome</th>\n",
       "      <th></th>\n",
       "    </tr>\n",
       "  </thead>\n",
       "  <tbody>\n",
       "    <tr>\n",
       "      <th>ABENILDA</th>\n",
       "      <td>F</td>\n",
       "    </tr>\n",
       "    <tr>\n",
       "      <th>ADINAILZA</th>\n",
       "      <td>F</td>\n",
       "    </tr>\n",
       "    <tr>\n",
       "      <th>ADIRACI</th>\n",
       "      <td>F</td>\n",
       "    </tr>\n",
       "    <tr>\n",
       "      <th>ADISON</th>\n",
       "      <td>M</td>\n",
       "    </tr>\n",
       "    <tr>\n",
       "      <th>ADLER</th>\n",
       "      <td>M</td>\n",
       "    </tr>\n",
       "    <tr>\n",
       "      <th>ADSTON</th>\n",
       "      <td>M</td>\n",
       "    </tr>\n",
       "    <tr>\n",
       "      <th>ALDIMAR</th>\n",
       "      <td>F</td>\n",
       "    </tr>\n",
       "    <tr>\n",
       "      <th>ALDRINA</th>\n",
       "      <td>F</td>\n",
       "    </tr>\n",
       "    <tr>\n",
       "      <th>ALISANDRO</th>\n",
       "      <td>M</td>\n",
       "    </tr>\n",
       "    <tr>\n",
       "      <th>ALOIS</th>\n",
       "      <td>M</td>\n",
       "    </tr>\n",
       "  </tbody>\n",
       "</table>\n",
       "</div>"
      ],
      "text/plain": [
       "          SEXO\n",
       "nome          \n",
       "ABENILDA     F\n",
       "ADINAILZA    F\n",
       "ADIRACI      F\n",
       "ADISON       M\n",
       "ADLER        M\n",
       "ADSTON       M\n",
       "ALDIMAR      F\n",
       "ALDRINA      F\n",
       "ALISANDRO    M\n",
       "ALOIS        M"
      ]
     },
     "execution_count": 5,
     "metadata": {},
     "output_type": "execute_result"
    }
   ],
   "source": [
    "df.head(10)"
   ]
  },
  {
   "cell_type": "code",
   "execution_count": 6,
   "metadata": {
    "id": "zuAgZr2GKBj3"
   },
   "outputs": [],
   "source": [
    "df['SEXO'] = df['SEXO'].map({'F': 1, 'M': 2, 'X': 0}).astype('uint8')"
   ]
  },
  {
   "cell_type": "code",
   "execution_count": 7,
   "metadata": {},
   "outputs": [],
   "source": [
    "df['REV'] = df.index\n",
    "df['REV'] = df['REV'].apply(lambda x: x[::-1])"
   ]
  },
  {
   "cell_type": "code",
   "execution_count": 8,
   "metadata": {
    "scrolled": true
   },
   "outputs": [
    {
     "data": {
      "text/html": [
       "<div>\n",
       "<style scoped>\n",
       "    .dataframe tbody tr th:only-of-type {\n",
       "        vertical-align: middle;\n",
       "    }\n",
       "\n",
       "    .dataframe tbody tr th {\n",
       "        vertical-align: top;\n",
       "    }\n",
       "\n",
       "    .dataframe thead th {\n",
       "        text-align: right;\n",
       "    }\n",
       "</style>\n",
       "<table border=\"1\" class=\"dataframe\">\n",
       "  <thead>\n",
       "    <tr style=\"text-align: right;\">\n",
       "      <th></th>\n",
       "      <th>SEXO</th>\n",
       "      <th>REV</th>\n",
       "    </tr>\n",
       "    <tr>\n",
       "      <th>nome</th>\n",
       "      <th></th>\n",
       "      <th></th>\n",
       "    </tr>\n",
       "  </thead>\n",
       "  <tbody>\n",
       "    <tr>\n",
       "      <th>ABENILDA</th>\n",
       "      <td>1</td>\n",
       "      <td>ADLINEBA</td>\n",
       "    </tr>\n",
       "    <tr>\n",
       "      <th>ADINAILZA</th>\n",
       "      <td>1</td>\n",
       "      <td>AZLIANIDA</td>\n",
       "    </tr>\n",
       "    <tr>\n",
       "      <th>ADIRACI</th>\n",
       "      <td>1</td>\n",
       "      <td>ICARIDA</td>\n",
       "    </tr>\n",
       "    <tr>\n",
       "      <th>ADISON</th>\n",
       "      <td>2</td>\n",
       "      <td>NOSIDA</td>\n",
       "    </tr>\n",
       "    <tr>\n",
       "      <th>ADLER</th>\n",
       "      <td>2</td>\n",
       "      <td>RELDA</td>\n",
       "    </tr>\n",
       "  </tbody>\n",
       "</table>\n",
       "</div>"
      ],
      "text/plain": [
       "           SEXO        REV\n",
       "nome                      \n",
       "ABENILDA      1   ADLINEBA\n",
       "ADINAILZA     1  AZLIANIDA\n",
       "ADIRACI       1    ICARIDA\n",
       "ADISON        2     NOSIDA\n",
       "ADLER         2      RELDA"
      ]
     },
     "execution_count": 8,
     "metadata": {},
     "output_type": "execute_result"
    }
   ],
   "source": [
    "df.head()"
   ]
  },
  {
   "cell_type": "raw",
   "metadata": {},
   "source": [
    "df['LETRAS'] = 0\n",
    "df['LETRAS'] = df['REV'].apply(lambda x: len(x))\n",
    "maior = df['LETRAS'].max()\n",
    "maior"
   ]
  },
  {
   "cell_type": "code",
   "execution_count": 9,
   "metadata": {},
   "outputs": [],
   "source": [
    "MAIOR_QTDE_LETRAS = 16 # fixado para o maior arquivo\n",
    "\n",
    "for i in range(MAIOR_QTDE_LETRAS):\n",
    "    df['L' + str(i)] = df['REV'].apply(lambda x: ord(x[i]) - 64 if len(x) > i else 0).astype('uint8')"
   ]
  },
  {
   "cell_type": "raw",
   "metadata": {
    "id": "UyDGsCtvKBj8"
   },
   "source": [
    "for i in range(MAIOR_QTDE_LETRAS):\n",
    "    col = 'L' + str(i)\n",
    "    #df[col] = df['REV'].apply(lambda x: x[i] if len(x) > i else ' ')\n",
    "    #df.loc[df[col].isnull(), col] = ' '\n",
    "    df[col] = df[col].apply(lambda x: ord(x) - 64 if x != ' ' else 0).astype('uint8')"
   ]
  },
  {
   "cell_type": "code",
   "execution_count": 10,
   "metadata": {
    "colab": {
     "base_uri": "https://localhost:8080/"
    },
    "id": "VL2wi7EgKBkC",
    "outputId": "f74b5db2-7650-4ace-dba8-77bd81166a1f"
   },
   "outputs": [],
   "source": [
    "#df.dtypes"
   ]
  },
  {
   "cell_type": "code",
   "execution_count": 11,
   "metadata": {
    "colab": {
     "base_uri": "https://localhost:8080/",
     "height": 390
    },
    "id": "H_wvkeoJKBkH",
    "outputId": "6387995b-a1ed-4da7-af3b-f85435592ab7"
   },
   "outputs": [
    {
     "data": {
      "text/html": [
       "<div>\n",
       "<style scoped>\n",
       "    .dataframe tbody tr th:only-of-type {\n",
       "        vertical-align: middle;\n",
       "    }\n",
       "\n",
       "    .dataframe tbody tr th {\n",
       "        vertical-align: top;\n",
       "    }\n",
       "\n",
       "    .dataframe thead th {\n",
       "        text-align: right;\n",
       "    }\n",
       "</style>\n",
       "<table border=\"1\" class=\"dataframe\">\n",
       "  <thead>\n",
       "    <tr style=\"text-align: right;\">\n",
       "      <th></th>\n",
       "      <th>SEXO</th>\n",
       "      <th>REV</th>\n",
       "      <th>L0</th>\n",
       "      <th>L1</th>\n",
       "      <th>L2</th>\n",
       "      <th>L3</th>\n",
       "      <th>L4</th>\n",
       "      <th>L5</th>\n",
       "      <th>L6</th>\n",
       "      <th>L7</th>\n",
       "      <th>L8</th>\n",
       "      <th>L9</th>\n",
       "      <th>L10</th>\n",
       "      <th>L11</th>\n",
       "      <th>L12</th>\n",
       "      <th>L13</th>\n",
       "      <th>L14</th>\n",
       "      <th>L15</th>\n",
       "    </tr>\n",
       "    <tr>\n",
       "      <th>nome</th>\n",
       "      <th></th>\n",
       "      <th></th>\n",
       "      <th></th>\n",
       "      <th></th>\n",
       "      <th></th>\n",
       "      <th></th>\n",
       "      <th></th>\n",
       "      <th></th>\n",
       "      <th></th>\n",
       "      <th></th>\n",
       "      <th></th>\n",
       "      <th></th>\n",
       "      <th></th>\n",
       "      <th></th>\n",
       "      <th></th>\n",
       "      <th></th>\n",
       "      <th></th>\n",
       "      <th></th>\n",
       "    </tr>\n",
       "  </thead>\n",
       "  <tbody>\n",
       "    <tr>\n",
       "      <th>ABENILDA</th>\n",
       "      <td>1</td>\n",
       "      <td>ADLINEBA</td>\n",
       "      <td>1</td>\n",
       "      <td>4</td>\n",
       "      <td>12</td>\n",
       "      <td>9</td>\n",
       "      <td>14</td>\n",
       "      <td>5</td>\n",
       "      <td>2</td>\n",
       "      <td>1</td>\n",
       "      <td>0</td>\n",
       "      <td>0</td>\n",
       "      <td>0</td>\n",
       "      <td>0</td>\n",
       "      <td>0</td>\n",
       "      <td>0</td>\n",
       "      <td>0</td>\n",
       "      <td>0</td>\n",
       "    </tr>\n",
       "    <tr>\n",
       "      <th>ADINAILZA</th>\n",
       "      <td>1</td>\n",
       "      <td>AZLIANIDA</td>\n",
       "      <td>1</td>\n",
       "      <td>26</td>\n",
       "      <td>12</td>\n",
       "      <td>9</td>\n",
       "      <td>1</td>\n",
       "      <td>14</td>\n",
       "      <td>9</td>\n",
       "      <td>4</td>\n",
       "      <td>1</td>\n",
       "      <td>0</td>\n",
       "      <td>0</td>\n",
       "      <td>0</td>\n",
       "      <td>0</td>\n",
       "      <td>0</td>\n",
       "      <td>0</td>\n",
       "      <td>0</td>\n",
       "    </tr>\n",
       "    <tr>\n",
       "      <th>ADIRACI</th>\n",
       "      <td>1</td>\n",
       "      <td>ICARIDA</td>\n",
       "      <td>9</td>\n",
       "      <td>3</td>\n",
       "      <td>1</td>\n",
       "      <td>18</td>\n",
       "      <td>9</td>\n",
       "      <td>4</td>\n",
       "      <td>1</td>\n",
       "      <td>0</td>\n",
       "      <td>0</td>\n",
       "      <td>0</td>\n",
       "      <td>0</td>\n",
       "      <td>0</td>\n",
       "      <td>0</td>\n",
       "      <td>0</td>\n",
       "      <td>0</td>\n",
       "      <td>0</td>\n",
       "    </tr>\n",
       "    <tr>\n",
       "      <th>ADISON</th>\n",
       "      <td>2</td>\n",
       "      <td>NOSIDA</td>\n",
       "      <td>14</td>\n",
       "      <td>15</td>\n",
       "      <td>19</td>\n",
       "      <td>9</td>\n",
       "      <td>4</td>\n",
       "      <td>1</td>\n",
       "      <td>0</td>\n",
       "      <td>0</td>\n",
       "      <td>0</td>\n",
       "      <td>0</td>\n",
       "      <td>0</td>\n",
       "      <td>0</td>\n",
       "      <td>0</td>\n",
       "      <td>0</td>\n",
       "      <td>0</td>\n",
       "      <td>0</td>\n",
       "    </tr>\n",
       "    <tr>\n",
       "      <th>ADLER</th>\n",
       "      <td>2</td>\n",
       "      <td>RELDA</td>\n",
       "      <td>18</td>\n",
       "      <td>5</td>\n",
       "      <td>12</td>\n",
       "      <td>4</td>\n",
       "      <td>1</td>\n",
       "      <td>0</td>\n",
       "      <td>0</td>\n",
       "      <td>0</td>\n",
       "      <td>0</td>\n",
       "      <td>0</td>\n",
       "      <td>0</td>\n",
       "      <td>0</td>\n",
       "      <td>0</td>\n",
       "      <td>0</td>\n",
       "      <td>0</td>\n",
       "      <td>0</td>\n",
       "    </tr>\n",
       "    <tr>\n",
       "      <th>ADSTON</th>\n",
       "      <td>2</td>\n",
       "      <td>NOTSDA</td>\n",
       "      <td>14</td>\n",
       "      <td>15</td>\n",
       "      <td>20</td>\n",
       "      <td>19</td>\n",
       "      <td>4</td>\n",
       "      <td>1</td>\n",
       "      <td>0</td>\n",
       "      <td>0</td>\n",
       "      <td>0</td>\n",
       "      <td>0</td>\n",
       "      <td>0</td>\n",
       "      <td>0</td>\n",
       "      <td>0</td>\n",
       "      <td>0</td>\n",
       "      <td>0</td>\n",
       "      <td>0</td>\n",
       "    </tr>\n",
       "    <tr>\n",
       "      <th>ALDIMAR</th>\n",
       "      <td>1</td>\n",
       "      <td>RAMIDLA</td>\n",
       "      <td>18</td>\n",
       "      <td>1</td>\n",
       "      <td>13</td>\n",
       "      <td>9</td>\n",
       "      <td>4</td>\n",
       "      <td>12</td>\n",
       "      <td>1</td>\n",
       "      <td>0</td>\n",
       "      <td>0</td>\n",
       "      <td>0</td>\n",
       "      <td>0</td>\n",
       "      <td>0</td>\n",
       "      <td>0</td>\n",
       "      <td>0</td>\n",
       "      <td>0</td>\n",
       "      <td>0</td>\n",
       "    </tr>\n",
       "    <tr>\n",
       "      <th>ALDRINA</th>\n",
       "      <td>1</td>\n",
       "      <td>ANIRDLA</td>\n",
       "      <td>1</td>\n",
       "      <td>14</td>\n",
       "      <td>9</td>\n",
       "      <td>18</td>\n",
       "      <td>4</td>\n",
       "      <td>12</td>\n",
       "      <td>1</td>\n",
       "      <td>0</td>\n",
       "      <td>0</td>\n",
       "      <td>0</td>\n",
       "      <td>0</td>\n",
       "      <td>0</td>\n",
       "      <td>0</td>\n",
       "      <td>0</td>\n",
       "      <td>0</td>\n",
       "      <td>0</td>\n",
       "    </tr>\n",
       "    <tr>\n",
       "      <th>ALISANDRO</th>\n",
       "      <td>2</td>\n",
       "      <td>ORDNASILA</td>\n",
       "      <td>15</td>\n",
       "      <td>18</td>\n",
       "      <td>4</td>\n",
       "      <td>14</td>\n",
       "      <td>1</td>\n",
       "      <td>19</td>\n",
       "      <td>9</td>\n",
       "      <td>12</td>\n",
       "      <td>1</td>\n",
       "      <td>0</td>\n",
       "      <td>0</td>\n",
       "      <td>0</td>\n",
       "      <td>0</td>\n",
       "      <td>0</td>\n",
       "      <td>0</td>\n",
       "      <td>0</td>\n",
       "    </tr>\n",
       "    <tr>\n",
       "      <th>ALOIS</th>\n",
       "      <td>2</td>\n",
       "      <td>SIOLA</td>\n",
       "      <td>19</td>\n",
       "      <td>9</td>\n",
       "      <td>15</td>\n",
       "      <td>12</td>\n",
       "      <td>1</td>\n",
       "      <td>0</td>\n",
       "      <td>0</td>\n",
       "      <td>0</td>\n",
       "      <td>0</td>\n",
       "      <td>0</td>\n",
       "      <td>0</td>\n",
       "      <td>0</td>\n",
       "      <td>0</td>\n",
       "      <td>0</td>\n",
       "      <td>0</td>\n",
       "      <td>0</td>\n",
       "    </tr>\n",
       "  </tbody>\n",
       "</table>\n",
       "</div>"
      ],
      "text/plain": [
       "           SEXO        REV  L0  L1  L2  L3  L4  L5  L6  L7  L8  L9  L10  L11  \\\n",
       "nome                                                                           \n",
       "ABENILDA      1   ADLINEBA   1   4  12   9  14   5   2   1   0   0    0    0   \n",
       "ADINAILZA     1  AZLIANIDA   1  26  12   9   1  14   9   4   1   0    0    0   \n",
       "ADIRACI       1    ICARIDA   9   3   1  18   9   4   1   0   0   0    0    0   \n",
       "ADISON        2     NOSIDA  14  15  19   9   4   1   0   0   0   0    0    0   \n",
       "ADLER         2      RELDA  18   5  12   4   1   0   0   0   0   0    0    0   \n",
       "ADSTON        2     NOTSDA  14  15  20  19   4   1   0   0   0   0    0    0   \n",
       "ALDIMAR       1    RAMIDLA  18   1  13   9   4  12   1   0   0   0    0    0   \n",
       "ALDRINA       1    ANIRDLA   1  14   9  18   4  12   1   0   0   0    0    0   \n",
       "ALISANDRO     2  ORDNASILA  15  18   4  14   1  19   9  12   1   0    0    0   \n",
       "ALOIS         2      SIOLA  19   9  15  12   1   0   0   0   0   0    0    0   \n",
       "\n",
       "           L12  L13  L14  L15  \n",
       "nome                           \n",
       "ABENILDA     0    0    0    0  \n",
       "ADINAILZA    0    0    0    0  \n",
       "ADIRACI      0    0    0    0  \n",
       "ADISON       0    0    0    0  \n",
       "ADLER        0    0    0    0  \n",
       "ADSTON       0    0    0    0  \n",
       "ALDIMAR      0    0    0    0  \n",
       "ALDRINA      0    0    0    0  \n",
       "ALISANDRO    0    0    0    0  \n",
       "ALOIS        0    0    0    0  "
      ]
     },
     "execution_count": 11,
     "metadata": {},
     "output_type": "execute_result"
    }
   ],
   "source": [
    "df.head(10)"
   ]
  },
  {
   "cell_type": "code",
   "execution_count": 12,
   "metadata": {
    "id": "wV1JflwpKBkL"
   },
   "outputs": [],
   "source": [
    "#df.describe()"
   ]
  },
  {
   "cell_type": "code",
   "execution_count": 13,
   "metadata": {
    "colab": {
     "base_uri": "https://localhost:8080/"
    },
    "id": "dFztelfbKBkQ",
    "outputId": "0eae88b2-28e8-4b92-bfa2-90aed1c2be79"
   },
   "outputs": [
    {
     "name": "stdout",
     "output_type": "stream",
     "text": [
      "Forma dos dados originais: (74760, 16) (74760,)\n"
     ]
    }
   ],
   "source": [
    "# definir dados de entrada\n",
    "\n",
    "X = df.drop(['SEXO', 'REV'], axis=1) # tudo, exceto a coluna alvo\n",
    "y = df['SEXO'] # apenas a coluna alvo\n",
    "\n",
    "print('Forma dos dados originais:', X.shape, y.shape)"
   ]
  },
  {
   "cell_type": "raw",
   "metadata": {
    "id": "ADE2HILPiuxH"
   },
   "source": [
    "from sklearn.model_selection import cross_val_score\n",
    "from sklearn.model_selection import RepeatedStratifiedKFold\n",
    "from sklearn.feature_selection import RFE\n",
    "from sklearn.feature_selection import RFECV\n",
    "from sklearn.tree import DecisionTreeClassifier\n",
    "from sklearn.pipeline import Pipeline\n",
    "\n",
    "# create pipeline\n",
    "#rfe = RFE(estimator=DecisionTreeClassifier(), n_features_to_select=5)\n",
    "rfe = RFECV(estimator=DecisionTreeClassifier())\n",
    "model = DecisionTreeClassifier()\n",
    "pipeline = Pipeline(steps=[('s',rfe), ('m',model)])\n",
    "\n",
    "# evaluate model\n",
    "cv = RepeatedStratifiedKFold(n_splits=10, n_repeats=3, random_state=1)\n",
    "n_scores = cross_val_score(pipeline, X, y, scoring='accuracy', cv=cv, n_jobs=-1, error_score='raise')\n",
    "\n",
    "# report performance\n",
    "print('Accuracy: %.3f (%.3f)' % (np.mean(n_scores)*100, np.std(n_scores)*100))\n",
    "\n",
    "rfe.fit(X, y)\n",
    "\n",
    "# summarize all features\n",
    "for i in range(X.shape[1]):\n",
    "  print('Column: %d [%s], Rank: %.3f %s' % (\n",
    "      i, X.columns[i], rfe.ranking_[i],\n",
    "      'Selected ' if rfe.support_[i] else ''))"
   ]
  },
  {
   "cell_type": "raw",
   "metadata": {
    "id": "EqwDmDDbmJhi"
   },
   "source": [
    "#df = df[['PERC', 'L0', 'L1', 'L2', 'L3', 'L4', 'L5', 'SEXO']]\n",
    "#df.drop(['QTDE'], axis=1, inplace=True)"
   ]
  },
  {
   "cell_type": "code",
   "execution_count": 14,
   "metadata": {
    "id": "eLu3BAdlKBkT"
   },
   "outputs": [
    {
     "data": {
      "text/html": [
       "<div>\n",
       "<style scoped>\n",
       "    .dataframe tbody tr th:only-of-type {\n",
       "        vertical-align: middle;\n",
       "    }\n",
       "\n",
       "    .dataframe tbody tr th {\n",
       "        vertical-align: top;\n",
       "    }\n",
       "\n",
       "    .dataframe thead th {\n",
       "        text-align: right;\n",
       "    }\n",
       "</style>\n",
       "<table border=\"1\" class=\"dataframe\">\n",
       "  <thead>\n",
       "    <tr style=\"text-align: right;\">\n",
       "      <th></th>\n",
       "      <th>L0</th>\n",
       "      <th>L1</th>\n",
       "      <th>L2</th>\n",
       "      <th>L3</th>\n",
       "      <th>L4</th>\n",
       "      <th>L5</th>\n",
       "      <th>L6</th>\n",
       "      <th>L7</th>\n",
       "      <th>L8</th>\n",
       "      <th>L9</th>\n",
       "      <th>L10</th>\n",
       "      <th>L11</th>\n",
       "      <th>L12</th>\n",
       "      <th>L13</th>\n",
       "      <th>L14</th>\n",
       "      <th>L15</th>\n",
       "    </tr>\n",
       "    <tr>\n",
       "      <th>nome</th>\n",
       "      <th></th>\n",
       "      <th></th>\n",
       "      <th></th>\n",
       "      <th></th>\n",
       "      <th></th>\n",
       "      <th></th>\n",
       "      <th></th>\n",
       "      <th></th>\n",
       "      <th></th>\n",
       "      <th></th>\n",
       "      <th></th>\n",
       "      <th></th>\n",
       "      <th></th>\n",
       "      <th></th>\n",
       "      <th></th>\n",
       "      <th></th>\n",
       "    </tr>\n",
       "  </thead>\n",
       "  <tbody>\n",
       "    <tr>\n",
       "      <th>ABENILDA</th>\n",
       "      <td>1</td>\n",
       "      <td>4</td>\n",
       "      <td>12</td>\n",
       "      <td>9</td>\n",
       "      <td>14</td>\n",
       "      <td>5</td>\n",
       "      <td>2</td>\n",
       "      <td>1</td>\n",
       "      <td>0</td>\n",
       "      <td>0</td>\n",
       "      <td>0</td>\n",
       "      <td>0</td>\n",
       "      <td>0</td>\n",
       "      <td>0</td>\n",
       "      <td>0</td>\n",
       "      <td>0</td>\n",
       "    </tr>\n",
       "    <tr>\n",
       "      <th>ADINAILZA</th>\n",
       "      <td>1</td>\n",
       "      <td>26</td>\n",
       "      <td>12</td>\n",
       "      <td>9</td>\n",
       "      <td>1</td>\n",
       "      <td>14</td>\n",
       "      <td>9</td>\n",
       "      <td>4</td>\n",
       "      <td>1</td>\n",
       "      <td>0</td>\n",
       "      <td>0</td>\n",
       "      <td>0</td>\n",
       "      <td>0</td>\n",
       "      <td>0</td>\n",
       "      <td>0</td>\n",
       "      <td>0</td>\n",
       "    </tr>\n",
       "    <tr>\n",
       "      <th>ADIRACI</th>\n",
       "      <td>9</td>\n",
       "      <td>3</td>\n",
       "      <td>1</td>\n",
       "      <td>18</td>\n",
       "      <td>9</td>\n",
       "      <td>4</td>\n",
       "      <td>1</td>\n",
       "      <td>0</td>\n",
       "      <td>0</td>\n",
       "      <td>0</td>\n",
       "      <td>0</td>\n",
       "      <td>0</td>\n",
       "      <td>0</td>\n",
       "      <td>0</td>\n",
       "      <td>0</td>\n",
       "      <td>0</td>\n",
       "    </tr>\n",
       "    <tr>\n",
       "      <th>ADISON</th>\n",
       "      <td>14</td>\n",
       "      <td>15</td>\n",
       "      <td>19</td>\n",
       "      <td>9</td>\n",
       "      <td>4</td>\n",
       "      <td>1</td>\n",
       "      <td>0</td>\n",
       "      <td>0</td>\n",
       "      <td>0</td>\n",
       "      <td>0</td>\n",
       "      <td>0</td>\n",
       "      <td>0</td>\n",
       "      <td>0</td>\n",
       "      <td>0</td>\n",
       "      <td>0</td>\n",
       "      <td>0</td>\n",
       "    </tr>\n",
       "    <tr>\n",
       "      <th>ADLER</th>\n",
       "      <td>18</td>\n",
       "      <td>5</td>\n",
       "      <td>12</td>\n",
       "      <td>4</td>\n",
       "      <td>1</td>\n",
       "      <td>0</td>\n",
       "      <td>0</td>\n",
       "      <td>0</td>\n",
       "      <td>0</td>\n",
       "      <td>0</td>\n",
       "      <td>0</td>\n",
       "      <td>0</td>\n",
       "      <td>0</td>\n",
       "      <td>0</td>\n",
       "      <td>0</td>\n",
       "      <td>0</td>\n",
       "    </tr>\n",
       "  </tbody>\n",
       "</table>\n",
       "</div>"
      ],
      "text/plain": [
       "           L0  L1  L2  L3  L4  L5  L6  L7  L8  L9  L10  L11  L12  L13  L14  \\\n",
       "nome                                                                         \n",
       "ABENILDA    1   4  12   9  14   5   2   1   0   0    0    0    0    0    0   \n",
       "ADINAILZA   1  26  12   9   1  14   9   4   1   0    0    0    0    0    0   \n",
       "ADIRACI     9   3   1  18   9   4   1   0   0   0    0    0    0    0    0   \n",
       "ADISON     14  15  19   9   4   1   0   0   0   0    0    0    0    0    0   \n",
       "ADLER      18   5  12   4   1   0   0   0   0   0    0    0    0    0    0   \n",
       "\n",
       "           L15  \n",
       "nome            \n",
       "ABENILDA     0  \n",
       "ADINAILZA    0  \n",
       "ADIRACI      0  \n",
       "ADISON       0  \n",
       "ADLER        0  "
      ]
     },
     "execution_count": 14,
     "metadata": {},
     "output_type": "execute_result"
    }
   ],
   "source": [
    "X.head()"
   ]
  },
  {
   "cell_type": "code",
   "execution_count": 15,
   "metadata": {
    "id": "nE7LUtIkKBkV"
   },
   "outputs": [
    {
     "data": {
      "text/plain": [
       "nome\n",
       "ABENILDA     1\n",
       "ADINAILZA    1\n",
       "ADIRACI      1\n",
       "ADISON       2\n",
       "ADLER        2\n",
       "Name: SEXO, dtype: uint8"
      ]
     },
     "execution_count": 15,
     "metadata": {},
     "output_type": "execute_result"
    }
   ],
   "source": [
    "y.head()"
   ]
  },
  {
   "cell_type": "code",
   "execution_count": 16,
   "metadata": {
    "id": "ZwMDGS37iqNj"
   },
   "outputs": [],
   "source": [
    "NUMBER_KFOLD_SPLITS = 5 # number of splits in cross-validation\n",
    "NUMBER_GRID_ITERATIONS = 10 # number of grid iterations to parameters testing\n",
    "SCORING_METRIC = 'accuracy' # the scoring metric to be used"
   ]
  },
  {
   "cell_type": "code",
   "execution_count": 17,
   "metadata": {
    "id": "C08iaGbOKBkX"
   },
   "outputs": [],
   "source": [
    "from datetime import datetime\n",
    "\n",
    "models = {}\n",
    "\n",
    "def evaluate_model(name, model, X=X, y=y):\n",
    "\n",
    "  start = datetime.now()\n",
    "  kfold = KFold(n_splits=NUMBER_KFOLD_SPLITS, shuffle=True, random_state=42)\n",
    "  results = cross_val_score(model, X, y, cv=kfold,\n",
    "                            scoring=SCORING_METRIC, verbose=1, n_jobs=-1)\n",
    "  end = datetime.now()\n",
    "\n",
    "  elapsed = int((end - start).total_seconds() * 1000)\n",
    "  score = results.mean() * 100\n",
    "  stddev = results.std() * 100\n",
    "\n",
    "  models[name] = (model, score, stddev, elapsed)\n",
    "  print(model, '\\nCross-Validation Score: %.2f (+/- %.2f) [%5s ms]' % \\\n",
    "        (score, stddev, elapsed))\n",
    "  return score, stddev, elapsed"
   ]
  },
  {
   "cell_type": "code",
   "execution_count": 18,
   "metadata": {
    "id": "gt9-P6gDKBka"
   },
   "outputs": [],
   "source": [
    "# faz o ajuste fino do modelo, calculando os melhores hiperparâmetros\n",
    "def fine_tune_model(model, params, X=X, y=y):\n",
    "\n",
    "  print('\\nFine Tuning Model:')\n",
    "  print(model, \"\\nparams:\", params)\n",
    "  \n",
    "  kfold = KFold(n_splits=NUMBER_KFOLD_SPLITS, shuffle=True, random_state=42)\n",
    "\n",
    "  search = RandomizedSearchCV(model, param_distributions=params, \n",
    "                              n_iter=NUMBER_GRID_ITERATIONS, \n",
    "                              scoring=SCORING_METRIC, cv=kfold, \n",
    "                              verbose=1, n_jobs=-1)\n",
    "  #search = GridSearchCV(estimator=model, param_grid=params, scoring='accuracy', cv=kfold, verbose=1)\n",
    "\n",
    "  search.fit(X, y)\n",
    "  print('\\nBest Score: %.2f %%' % (search.best_score_ * 100))\n",
    "  print('Best Params:', search.best_params_)\n",
    "  return search"
   ]
  },
  {
   "cell_type": "code",
   "execution_count": 19,
   "metadata": {
    "id": "AKjSn0fiKBkd"
   },
   "outputs": [
    {
     "name": "stderr",
     "output_type": "stream",
     "text": [
      "[Parallel(n_jobs=-1)]: Using backend LokyBackend with 2 concurrent workers.\n"
     ]
    },
    {
     "name": "stdout",
     "output_type": "stream",
     "text": [
      "LogisticRegression(C=0.01, max_iter=1000, random_state=42, solver='liblinear') \n",
      "Cross-Validation Score: 78.98 (+/- 0.30) [ 4650 ms]\n"
     ]
    },
    {
     "name": "stderr",
     "output_type": "stream",
     "text": [
      "[Parallel(n_jobs=-1)]: Done   5 out of   5 | elapsed:    4.5s finished\n"
     ]
    }
   ],
   "source": [
    "# Logistic Regression\n",
    "from sklearn.linear_model import LogisticRegression\n",
    "\n",
    "model = LogisticRegression(random_state=42, multi_class='auto', max_iter=1000, solver='liblinear', C=0.01) # 85.18\n",
    "evaluate_model('LR', model)\n",
    "\n",
    "params = dict(solver=['liblinear','lbfgs'], C=np.logspace(-3,3,7))\n",
    "#fine_tune_model(model, params)"
   ]
  },
  {
   "cell_type": "raw",
   "metadata": {
    "id": "stLXLiv5KBkm"
   },
   "source": [
    "# Support Vector Machine (SVM)\n",
    "from sklearn.svm import SVC\n",
    "\n",
    "model = SVC(random_state=42, C=10, gamma=0.001, kernel='rbf') # 89.49\n",
    "evaluate_model('SVM', model)\n",
    "\n",
    "#params = dict(C=np.logspace(-1,1,3)) # 87.90\n",
    "#params = dict(gamma=np.logspace(-3,0,4)) # 89.46\n",
    "#params = dict(kernel=['linear','rbf','poly','sigmoid']) # 89.46\n",
    "params = dict(C=np.logspace(-1,1,3),\n",
    "              gamma=np.logspace(-3,0,4),\n",
    "              kernel=['linear','rbf','poly','sigmoid'])\n",
    "#fine_tune_model(model, params)"
   ]
  },
  {
   "cell_type": "code",
   "execution_count": 20,
   "metadata": {
    "id": "ESU3vXP1KBkx"
   },
   "outputs": [
    {
     "name": "stderr",
     "output_type": "stream",
     "text": [
      "[Parallel(n_jobs=-1)]: Using backend LokyBackend with 2 concurrent workers.\n"
     ]
    },
    {
     "name": "stdout",
     "output_type": "stream",
     "text": [
      "LinearSVC(C=0.001, random_state=42) \n",
      "Cross-Validation Score: 79.31 (+/- 0.32) [ 3924 ms]\n"
     ]
    },
    {
     "name": "stderr",
     "output_type": "stream",
     "text": [
      "[Parallel(n_jobs=-1)]: Done   5 out of   5 | elapsed:    3.8s finished\n"
     ]
    }
   ],
   "source": [
    "# Linear SVM\n",
    "from sklearn.svm import LinearSVC\n",
    "\n",
    "model = LinearSVC(random_state=42, max_iter=1000, C=0.001) # 85.27\n",
    "evaluate_model('LSVM', model)\n",
    "\n",
    "#from scipy.stats import reciprocal, uniform\n",
    "#params = dict(C=uniform(1, 10))\n",
    "params = dict(C=np.logspace(-4,3,8))\n",
    "#fine_tune_model(model, params)"
   ]
  },
  {
   "cell_type": "code",
   "execution_count": 21,
   "metadata": {
    "id": "I1ZG1hT_KBkj"
   },
   "outputs": [
    {
     "name": "stderr",
     "output_type": "stream",
     "text": [
      "[Parallel(n_jobs=-1)]: Using backend LokyBackend with 2 concurrent workers.\n"
     ]
    },
    {
     "name": "stdout",
     "output_type": "stream",
     "text": [
      "KNeighborsClassifier(n_neighbors=1) \n",
      "Cross-Validation Score: 76.49 (+/- 0.34) [15568 ms]\n"
     ]
    },
    {
     "name": "stderr",
     "output_type": "stream",
     "text": [
      "[Parallel(n_jobs=-1)]: Done   5 out of   5 | elapsed:   15.5s finished\n"
     ]
    }
   ],
   "source": [
    "# K-Nearest Neighbours (KNN)\n",
    "from sklearn.neighbors import KNeighborsClassifier\n",
    "\n",
    "model = KNeighborsClassifier(n_neighbors=1) # 87.45\n",
    "evaluate_model('KNN', model)\n",
    "\n",
    "params = dict(n_neighbors=[1,3,5,7,9,11])\n",
    "#fine_tune_model(model, params)"
   ]
  },
  {
   "cell_type": "code",
   "execution_count": 22,
   "metadata": {
    "id": "iWdLq2ULKBk3"
   },
   "outputs": [
    {
     "name": "stderr",
     "output_type": "stream",
     "text": [
      "[Parallel(n_jobs=-1)]: Using backend LokyBackend with 2 concurrent workers.\n"
     ]
    },
    {
     "name": "stdout",
     "output_type": "stream",
     "text": [
      "LinearDiscriminantAnalysis() \n",
      "Cross-Validation Score: 78.97 (+/- 0.29) [ 1556 ms]\n"
     ]
    },
    {
     "name": "stderr",
     "output_type": "stream",
     "text": [
      "[Parallel(n_jobs=-1)]: Done   5 out of   5 | elapsed:    1.4s finished\n"
     ]
    }
   ],
   "source": [
    "# Linear Discriminant Analysis (LDA)\n",
    "from sklearn.discriminant_analysis import LinearDiscriminantAnalysis\n",
    "\n",
    "model = LinearDiscriminantAnalysis(solver='svd') # 84.45\n",
    "evaluate_model('LDA', model)\n",
    "\n",
    "params = dict(solver=['svd','lsqr','eigen'])\n",
    "#fine_tune_model(model, params)"
   ]
  },
  {
   "cell_type": "code",
   "execution_count": 23,
   "metadata": {
    "id": "n1gzX_b395Q4"
   },
   "outputs": [
    {
     "name": "stderr",
     "output_type": "stream",
     "text": [
      "[Parallel(n_jobs=-1)]: Using backend LokyBackend with 2 concurrent workers.\n"
     ]
    },
    {
     "name": "stdout",
     "output_type": "stream",
     "text": [
      "QuadraticDiscriminantAnalysis() \n",
      "Cross-Validation Score: 54.03 (+/- 0.16) [  746 ms]\n"
     ]
    },
    {
     "name": "stderr",
     "output_type": "stream",
     "text": [
      "[Parallel(n_jobs=-1)]: Done   5 out of   5 | elapsed:    0.6s finished\n"
     ]
    }
   ],
   "source": [
    "# Quadratic Discriminant Analysis (QDA)\n",
    "from sklearn.discriminant_analysis import QuadraticDiscriminantAnalysis\n",
    "\n",
    "model = QuadraticDiscriminantAnalysis() # 44.99\n",
    "evaluate_model('QDA', model)\n",
    "\n",
    "params = dict()\n",
    "#fine_tune_model(model, params)"
   ]
  },
  {
   "cell_type": "code",
   "execution_count": 24,
   "metadata": {
    "id": "sTI50bmiKBkv"
   },
   "outputs": [
    {
     "name": "stderr",
     "output_type": "stream",
     "text": [
      "[Parallel(n_jobs=-1)]: Using backend LokyBackend with 2 concurrent workers.\n"
     ]
    },
    {
     "name": "stdout",
     "output_type": "stream",
     "text": [
      "GaussianNB(var_smoothing=0.1) \n",
      "Cross-Validation Score: 78.99 (+/- 0.50) [  651 ms]\n"
     ]
    },
    {
     "name": "stderr",
     "output_type": "stream",
     "text": [
      "[Parallel(n_jobs=-1)]: Done   5 out of   5 | elapsed:    0.5s finished\n"
     ]
    }
   ],
   "source": [
    "# Naïve Bayes - Gaussian\n",
    "from sklearn.naive_bayes import GaussianNB\n",
    "\n",
    "model = GaussianNB(priors=None, var_smoothing=0.1) # 67.62\n",
    "evaluate_model('GNB', model)\n",
    "\n",
    "params = dict(var_smoothing=np.logspace(0,-9,num=10))\n",
    "#fine_tune_model(model, params)"
   ]
  },
  {
   "cell_type": "code",
   "execution_count": 25,
   "metadata": {
    "id": "I-ML--bl-abs"
   },
   "outputs": [
    {
     "name": "stderr",
     "output_type": "stream",
     "text": [
      "[Parallel(n_jobs=-1)]: Using backend LokyBackend with 2 concurrent workers.\n"
     ]
    },
    {
     "name": "stdout",
     "output_type": "stream",
     "text": [
      "BernoulliNB() \n",
      "Cross-Validation Score: 54.45 (+/- 0.40) [  698 ms]\n"
     ]
    },
    {
     "name": "stderr",
     "output_type": "stream",
     "text": [
      "[Parallel(n_jobs=-1)]: Done   5 out of   5 | elapsed:    0.6s finished\n"
     ]
    }
   ],
   "source": [
    "# Naïve Bayes - Bernoulli\n",
    "from sklearn.naive_bayes import BernoulliNB\n",
    "\n",
    "model = BernoulliNB() # 43.37\n",
    "evaluate_model('BNB', model)\n",
    "\n",
    "params = dict(var_smoothing=np.logspace(0,-9,num=10))\n",
    "#fine_tune_model(model, params)"
   ]
  },
  {
   "cell_type": "code",
   "execution_count": 26,
   "metadata": {
    "id": "LFta0nqyKBkg"
   },
   "outputs": [
    {
     "name": "stderr",
     "output_type": "stream",
     "text": [
      "[Parallel(n_jobs=-1)]: Using backend LokyBackend with 2 concurrent workers.\n"
     ]
    },
    {
     "name": "stdout",
     "output_type": "stream",
     "text": [
      "DecisionTreeClassifier(criterion='entropy', max_depth=17, random_state=42) \n",
      "Cross-Validation Score: 84.22 (+/- 0.31) [ 1790 ms]\n"
     ]
    },
    {
     "name": "stderr",
     "output_type": "stream",
     "text": [
      "[Parallel(n_jobs=-1)]: Done   5 out of   5 | elapsed:    1.6s finished\n"
     ]
    }
   ],
   "source": [
    "# Decision Tree\n",
    "from sklearn.tree import DecisionTreeClassifier\n",
    "\n",
    "model = DecisionTreeClassifier(random_state=42, criterion='entropy', max_depth=17) # 96.37\n",
    "evaluate_model('DT', model)\n",
    "\n",
    "params = dict(criterion=['gini','entropy'], max_depth=[3,5,7,11,13,17,19])\n",
    "#fine_tune_model(model, params)"
   ]
  },
  {
   "cell_type": "code",
   "execution_count": 27,
   "metadata": {
    "id": "zi5Wzk_iKBko"
   },
   "outputs": [
    {
     "name": "stderr",
     "output_type": "stream",
     "text": [
      "[Parallel(n_jobs=-1)]: Using backend LokyBackend with 2 concurrent workers.\n"
     ]
    },
    {
     "name": "stdout",
     "output_type": "stream",
     "text": [
      "RandomForestClassifier(n_estimators=500, random_state=42) \n",
      "Cross-Validation Score: 82.63 (+/- 0.31) [164547 ms]\n"
     ]
    },
    {
     "name": "stderr",
     "output_type": "stream",
     "text": [
      "[Parallel(n_jobs=-1)]: Done   5 out of   5 | elapsed:  2.7min finished\n"
     ]
    }
   ],
   "source": [
    "# Ensemble - Random Forest\n",
    "from sklearn.ensemble import RandomForestClassifier\n",
    "\n",
    "model = RandomForestClassifier(random_state=42, max_features='auto', n_estimators=500) # 93.86\n",
    "evaluate_model('RF', model)\n",
    "\n",
    "params = dict(n_estimators=[10,50,100,500], max_features=['auto','sqrt','log2'])\n",
    "#fine_tune_model(model, params)"
   ]
  },
  {
   "cell_type": "code",
   "execution_count": 28,
   "metadata": {
    "id": "U6AvlHQkKBky"
   },
   "outputs": [
    {
     "name": "stderr",
     "output_type": "stream",
     "text": [
      "[Parallel(n_jobs=-1)]: Using backend LokyBackend with 2 concurrent workers.\n"
     ]
    },
    {
     "name": "stdout",
     "output_type": "stream",
     "text": [
      "AdaBoostClassifier(base_estimator=DecisionTreeClassifier(criterion='entropy',\n",
      "                                                         max_depth=17,\n",
      "                                                         random_state=42),\n",
      "                   n_estimators=13) \n",
      "Cross-Validation Score: 80.85 (+/- 0.34) [17655 ms]\n"
     ]
    },
    {
     "name": "stderr",
     "output_type": "stream",
     "text": [
      "[Parallel(n_jobs=-1)]: Done   5 out of   5 | elapsed:   17.5s finished\n"
     ]
    }
   ],
   "source": [
    "# Ensemble - Ada Boost\n",
    "from sklearn.ensemble import AdaBoostClassifier\n",
    "\n",
    "model = AdaBoostClassifier(DecisionTreeClassifier(random_state=42, criterion='entropy', max_depth=17), n_estimators=13) # 96.41\n",
    "evaluate_model('ABDT', model)\n",
    "\n",
    "params = dict(n_estimators=[1,3,5,7,9,11,13])\n",
    "#fine_tune_model(model, params)"
   ]
  },
  {
   "cell_type": "code",
   "execution_count": null,
   "metadata": {
    "id": "MNsYeL07KBk0"
   },
   "outputs": [
    {
     "name": "stderr",
     "output_type": "stream",
     "text": [
      "[Parallel(n_jobs=-1)]: Using backend LokyBackend with 2 concurrent workers.\n"
     ]
    }
   ],
   "source": [
    "# Ensemble - Gradient Boosting\n",
    "from sklearn.ensemble import GradientBoostingClassifier\n",
    "\n",
    "model = GradientBoostingClassifier(random_state=42, max_depth=35, n_estimators=250, learning_rate=0.1) # 96.75\n",
    "evaluate_model('GB', model)\n",
    "\n",
    "params = dict(max_depth=[1,3,5,7,9], n_estimators=[5,50,250,500], learning_rate=[0.01,0.1,1,10,100])\n",
    "#fine_tune_model(model, params)"
   ]
  },
  {
   "cell_type": "code",
   "execution_count": null,
   "metadata": {
    "id": "67Y9pbl-KBkq"
   },
   "outputs": [],
   "source": [
    "# Stochastic Gradient Descent (SGD)\n",
    "from sklearn.linear_model import SGDClassifier\n",
    "\n",
    "model = SGDClassifier(random_state=42, max_iter=500, tol=0.1) # 77.02\n",
    "evaluate_model('SGD', model)\n",
    "\n",
    "params = dict(max_iter=[100, 200, 350, 500, 1000], tol=[0.01, 0.1, 1.0])\n",
    "#fine_tune_model(model, params)"
   ]
  },
  {
   "cell_type": "code",
   "execution_count": null,
   "metadata": {
    "id": "xbBC6p2wKBkt"
   },
   "outputs": [],
   "source": [
    "# Perceptron\n",
    "from sklearn.linear_model import Perceptron\n",
    "\n",
    "model = Perceptron(random_state=42, max_iter=500, tol=0.001) # 75.58\n",
    "evaluate_model('PCT', model)\n",
    "\n",
    "params = dict(max_iter=[100, 200, 350, 500, 750, 1000], tol=[0.1, 0.01, 0.001])\n",
    "#fine_tune_model(model, params)"
   ]
  },
  {
   "cell_type": "code",
   "execution_count": null,
   "metadata": {
    "id": "d1VQL0brKBk1"
   },
   "outputs": [],
   "source": [
    "# Multi-Layer Perceptron (MLP)\n",
    "from sklearn.neural_network import MLPClassifier\n",
    "\n",
    "model = MLPClassifier(random_state=42, solver='lbfgs', alpha=1e-07, hidden_layer_sizes=(50, 100, 50)) # 88.67\n",
    "evaluate_model('MLP', model)\n",
    "\n",
    "params = dict(alpha=np.logspace(-9,-1,5), \n",
    "              solver=['lbfgs','sgd','adam'], \n",
    "              hidden_layer_sizes=[(50,50,50), (50,100,50), (100,)])\n",
    "#fine_tune_model(model, params)"
   ]
  },
  {
   "cell_type": "code",
   "execution_count": null,
   "metadata": {
    "id": "LwPteD3pTyih"
   },
   "outputs": [],
   "source": [
    "# Extreme Gradient Boosting Machine (XGBM)\n",
    "from xgboost import XGBClassifier\n",
    "\n",
    "model = XGBClassifier(max_depth=9, min_child_weight=1, gamma=0.1, subsample=0.9, colsample_bytree=0.7, reg_alpha=1e-05) # 97.67\n",
    "evaluate_model('XGB', model)\n",
    "\n",
    "params = dict(max_depth=range(3,10,2), min_child_weight=range(1,6,2)) # 97.60\n",
    "#params = dict(gamma=[i/10.0 for i in range(0,5)]) # 97.68\n",
    "#params = dict(subsample=[i/10.0 for i in range(6,10)], colsample_bytree=[i/10.0 for i in range(6,10)]) # 97.72\n",
    "#params = dict(reg_alpha=[1e-5, 1e-2, 0.1, 1, 100]) # 97.74\n",
    "#fine_tune_model(model, params)"
   ]
  },
  {
   "cell_type": "code",
   "execution_count": null,
   "metadata": {
    "id": "KBmR5q4c_X0A"
   },
   "outputs": [],
   "source": [
    "# LightGBM\n",
    "from lightgbm import LGBMClassifier\n",
    "#!pip install lightgbm\n",
    "\n",
    "model = LGBMClassifier(num_leaves=73, max_depth=24, learning_rate=0.5, feature_fraction=0.75) # 97.51\n",
    "evaluate_model('LGBM', model)\n",
    "\n",
    "#params = dict(num_leaves=range(10,100), max_depth=range(1,30)) # 97.18\n",
    "#params = dict(learning_rate=[0.01,0.05,0.1,0.5]) # 97.51\n",
    "#params = dict(feature_fraction=[0.1,0.25,0.5,0.75,1.0]) # 97.62\n",
    "#fine_tune_model(model, params)"
   ]
  },
  {
   "cell_type": "code",
   "execution_count": null,
   "metadata": {
    "id": "7JVuRL_xIXLQ"
   },
   "outputs": [],
   "source": [
    "# CatBoost\n",
    "from catboost import CatBoostClassifier\n",
    "#!pip install catboost\n",
    "\n",
    "model = CatBoostClassifier(silent=True) # 97.04\n",
    "#learning_rate=0.1, iterations=1000, depth=5\n",
    "evaluate_model('CB', model)\n",
    "\n",
    "params = dict(iterations=[10,50,100,250,500,1000],\n",
    "              learning_rate=[0.01,0.05,0.1,0.5],\n",
    "              depth=range(1,11,2)) \n",
    "#fine_tune_model(model, params)"
   ]
  },
  {
   "cell_type": "code",
   "execution_count": null,
   "metadata": {
    "id": "ikE7JK4TnsmA"
   },
   "outputs": [],
   "source": [
    "names = []\n",
    "estimators = []\n",
    "scores = []\n",
    "stdevs = []\n",
    "times = []\n",
    "\n",
    "for key, value in models.items():\n",
    "  (model, score, stdev, elapsed) = value\n",
    "  names.append(key)\n",
    "  estimators.append(model)\n",
    "  scores.append(score)\n",
    "  stdevs.append(stdev)\n",
    "  times.append(elapsed)"
   ]
  },
  {
   "cell_type": "code",
   "execution_count": null,
   "metadata": {
    "id": "4rTFKNKxKBlI"
   },
   "outputs": [],
   "source": [
    "results_df = pd.DataFrame({\n",
    "    'Model': names,\n",
    "    'Score': scores,\n",
    "    'Std Dev': stdevs,\n",
    "    'Time (ms)': times,\n",
    "    'Estimator': estimators})\n",
    "\n",
    "results_df.sort_values(by='Score', ascending=False)"
   ]
  },
  {
   "cell_type": "code",
   "execution_count": null,
   "metadata": {
    "id": "dGp1H7jqY4Vu"
   },
   "outputs": [],
   "source": [
    "model = models['CB'][0]\n",
    "model"
   ]
  },
  {
   "cell_type": "code",
   "execution_count": null,
   "metadata": {
    "id": "_mAciwGo5iOE",
    "scrolled": true
   },
   "outputs": [],
   "source": [
    "model.fit(X, y)"
   ]
  },
  {
   "cell_type": "code",
   "execution_count": null,
   "metadata": {},
   "outputs": [],
   "source": []
  },
  {
   "cell_type": "code",
   "execution_count": null,
   "metadata": {
    "id": "Pwcb-2OeY_Fv"
   },
   "outputs": [],
   "source": [
    "y_pred = model.predict(X)\n",
    "y_pred"
   ]
  },
  {
   "cell_type": "code",
   "execution_count": null,
   "metadata": {},
   "outputs": [],
   "source": [
    "dados = pd.DataFrame({'REAL': y, 'PREV': y_pred}, index=X.index)\n",
    "for col in dados.columns:\n",
    "    dados[col] = dados[col].map({0: 'X', 1: 'F', 2: 'M'})\n",
    "dados.head()"
   ]
  },
  {
   "cell_type": "code",
   "execution_count": null,
   "metadata": {},
   "outputs": [],
   "source": [
    "from sklearn.metrics import accuracy_score\n",
    "\n",
    "accuracy_score(y, y_pred)"
   ]
  },
  {
   "cell_type": "code",
   "execution_count": null,
   "metadata": {
    "id": "F8w7q7WlaxYG"
   },
   "outputs": [],
   "source": [
    "from sklearn.metrics import confusion_matrix\n",
    "\n",
    "confusion_matrix(y, y_pred)"
   ]
  },
  {
   "cell_type": "code",
   "execution_count": null,
   "metadata": {
    "id": "POsNbYe9Zhou"
   },
   "outputs": [],
   "source": [
    "dados[dados['REAL'] != dados['PREV']]"
   ]
  },
  {
   "cell_type": "code",
   "execution_count": null,
   "metadata": {
    "id": "wTbd2uMKv_2v"
   },
   "outputs": [],
   "source": []
  }
 ],
 "metadata": {
  "colab": {
   "collapsed_sections": [],
   "name": "61-modelo-genero-nome.ipynb",
   "provenance": []
  },
  "kernelspec": {
   "display_name": "Python 3",
   "language": "python",
   "name": "python3"
  },
  "language_info": {
   "codemirror_mode": {
    "name": "ipython",
    "version": 3
   },
   "file_extension": ".py",
   "mimetype": "text/x-python",
   "name": "python",
   "nbconvert_exporter": "python",
   "pygments_lexer": "ipython3",
   "version": "3.8.5"
  }
 },
 "nbformat": 4,
 "nbformat_minor": 1
}
