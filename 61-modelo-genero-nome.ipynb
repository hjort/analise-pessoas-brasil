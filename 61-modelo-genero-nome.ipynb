{
 "cells": [
  {
   "cell_type": "code",
   "execution_count": 1,
   "metadata": {
    "id": "NWJ6b5VDKBhs"
   },
   "outputs": [],
   "source": [
    "import pandas as pd\n",
    "import numpy as np"
   ]
  },
  {
   "cell_type": "code",
   "execution_count": 2,
   "metadata": {
    "id": "oYX28cEQKBjU"
   },
   "outputs": [],
   "source": [
    "# importar pacotes usados na seleção do modelo e na medição da precisão\n",
    "from sklearn.model_selection import cross_val_score\n",
    "from sklearn.model_selection import RandomizedSearchCV\n",
    "#from sklearn.model_selection import GridSearchCV\n",
    "from sklearn.model_selection import KFold\n",
    "from sklearn.metrics import confusion_matrix"
   ]
  },
  {
   "cell_type": "code",
   "execution_count": 3,
   "metadata": {},
   "outputs": [],
   "source": [
    "BASE = 'afastamentos'\n",
    "#BASE = 'cadastro'\n",
    "df = pd.read_csv(BASE + '-nomes-sexo.csv', index_col=0)"
   ]
  },
  {
   "cell_type": "raw",
   "metadata": {},
   "source": [
    "!ls -lah extra/*.csv"
   ]
  },
  {
   "cell_type": "raw",
   "metadata": {},
   "source": [
    "df = pd.read_csv('extra/nome_sexo_pf05.csv', index_col=0)\n",
    "df = df.loc[~df.index.isna()]\n",
    "df[df.index.isnull()]"
   ]
  },
  {
   "cell_type": "raw",
   "metadata": {},
   "source": [
    "df.drop(df[df.index.isnull()].index, inplace=True)"
   ]
  },
  {
   "cell_type": "code",
   "execution_count": 122,
   "metadata": {},
   "outputs": [],
   "source": [
    "df.rename(columns={'sexo': 'SEXO'}, inplace=True)"
   ]
  },
  {
   "cell_type": "code",
   "execution_count": 123,
   "metadata": {
    "colab": {
     "base_uri": "https://localhost:8080/",
     "height": 390
    },
    "id": "5eczSwIWKBjn",
    "outputId": "7723b62d-9453-4717-af3e-8c64a253abce"
   },
   "outputs": [
    {
     "data": {
      "text/html": [
       "<div>\n",
       "<style scoped>\n",
       "    .dataframe tbody tr th:only-of-type {\n",
       "        vertical-align: middle;\n",
       "    }\n",
       "\n",
       "    .dataframe tbody tr th {\n",
       "        vertical-align: top;\n",
       "    }\n",
       "\n",
       "    .dataframe thead th {\n",
       "        text-align: right;\n",
       "    }\n",
       "</style>\n",
       "<table border=\"1\" class=\"dataframe\">\n",
       "  <thead>\n",
       "    <tr style=\"text-align: right;\">\n",
       "      <th></th>\n",
       "      <th>SEXO</th>\n",
       "    </tr>\n",
       "    <tr>\n",
       "      <th>nome</th>\n",
       "      <th></th>\n",
       "    </tr>\n",
       "  </thead>\n",
       "  <tbody>\n",
       "    <tr>\n",
       "      <th>ABDEMES</th>\n",
       "      <td>M</td>\n",
       "    </tr>\n",
       "    <tr>\n",
       "      <th>ABILIS</th>\n",
       "      <td>M</td>\n",
       "    </tr>\n",
       "    <tr>\n",
       "      <th>ABNALDO</th>\n",
       "      <td>M</td>\n",
       "    </tr>\n",
       "    <tr>\n",
       "      <th>ADAILZA</th>\n",
       "      <td>M</td>\n",
       "    </tr>\n",
       "    <tr>\n",
       "      <th>ADALBERSON</th>\n",
       "      <td>M</td>\n",
       "    </tr>\n",
       "    <tr>\n",
       "      <th>ADALTINA</th>\n",
       "      <td>F</td>\n",
       "    </tr>\n",
       "    <tr>\n",
       "      <th>ADAMUS</th>\n",
       "      <td>M</td>\n",
       "    </tr>\n",
       "    <tr>\n",
       "      <th>ADEMILDA</th>\n",
       "      <td>F</td>\n",
       "    </tr>\n",
       "    <tr>\n",
       "      <th>ADEMISSON</th>\n",
       "      <td>M</td>\n",
       "    </tr>\n",
       "    <tr>\n",
       "      <th>ADERCE</th>\n",
       "      <td>F</td>\n",
       "    </tr>\n",
       "  </tbody>\n",
       "</table>\n",
       "</div>"
      ],
      "text/plain": [
       "           SEXO\n",
       "nome           \n",
       "ABDEMES       M\n",
       "ABILIS        M\n",
       "ABNALDO       M\n",
       "ADAILZA       M\n",
       "ADALBERSON    M\n",
       "ADALTINA      F\n",
       "ADAMUS        M\n",
       "ADEMILDA      F\n",
       "ADEMISSON     M\n",
       "ADERCE        F"
      ]
     },
     "execution_count": 123,
     "metadata": {},
     "output_type": "execute_result"
    }
   ],
   "source": [
    "df.head(10)"
   ]
  },
  {
   "cell_type": "code",
   "execution_count": 124,
   "metadata": {
    "id": "zuAgZr2GKBj3"
   },
   "outputs": [],
   "source": [
    "df['SEXO'] = df['SEXO'].map({'F': 1, 'M': 2, 'X': 0}).astype('uint8')"
   ]
  },
  {
   "cell_type": "code",
   "execution_count": 125,
   "metadata": {},
   "outputs": [],
   "source": [
    "df['REV'] = df.index\n",
    "df['REV'] = df['REV'].apply(lambda x: x[::-1])"
   ]
  },
  {
   "cell_type": "code",
   "execution_count": 126,
   "metadata": {
    "scrolled": true
   },
   "outputs": [
    {
     "data": {
      "text/html": [
       "<div>\n",
       "<style scoped>\n",
       "    .dataframe tbody tr th:only-of-type {\n",
       "        vertical-align: middle;\n",
       "    }\n",
       "\n",
       "    .dataframe tbody tr th {\n",
       "        vertical-align: top;\n",
       "    }\n",
       "\n",
       "    .dataframe thead th {\n",
       "        text-align: right;\n",
       "    }\n",
       "</style>\n",
       "<table border=\"1\" class=\"dataframe\">\n",
       "  <thead>\n",
       "    <tr style=\"text-align: right;\">\n",
       "      <th></th>\n",
       "      <th>SEXO</th>\n",
       "      <th>REV</th>\n",
       "    </tr>\n",
       "    <tr>\n",
       "      <th>nome</th>\n",
       "      <th></th>\n",
       "      <th></th>\n",
       "    </tr>\n",
       "  </thead>\n",
       "  <tbody>\n",
       "    <tr>\n",
       "      <th>ABDEMES</th>\n",
       "      <td>2</td>\n",
       "      <td>SEMEDBA</td>\n",
       "    </tr>\n",
       "    <tr>\n",
       "      <th>ABILIS</th>\n",
       "      <td>2</td>\n",
       "      <td>SILIBA</td>\n",
       "    </tr>\n",
       "    <tr>\n",
       "      <th>ABNALDO</th>\n",
       "      <td>2</td>\n",
       "      <td>ODLANBA</td>\n",
       "    </tr>\n",
       "    <tr>\n",
       "      <th>ADAILZA</th>\n",
       "      <td>2</td>\n",
       "      <td>AZLIADA</td>\n",
       "    </tr>\n",
       "    <tr>\n",
       "      <th>ADALBERSON</th>\n",
       "      <td>2</td>\n",
       "      <td>NOSREBLADA</td>\n",
       "    </tr>\n",
       "  </tbody>\n",
       "</table>\n",
       "</div>"
      ],
      "text/plain": [
       "            SEXO         REV\n",
       "nome                        \n",
       "ABDEMES        2     SEMEDBA\n",
       "ABILIS         2      SILIBA\n",
       "ABNALDO        2     ODLANBA\n",
       "ADAILZA        2     AZLIADA\n",
       "ADALBERSON     2  NOSREBLADA"
      ]
     },
     "execution_count": 126,
     "metadata": {},
     "output_type": "execute_result"
    }
   ],
   "source": [
    "df.head()"
   ]
  },
  {
   "cell_type": "raw",
   "metadata": {},
   "source": [
    "df['LETRAS'] = 0\n",
    "df['LETRAS'] = df['REV'].apply(lambda x: len(x))\n",
    "maior = df['LETRAS'].max()\n",
    "maior"
   ]
  },
  {
   "cell_type": "code",
   "execution_count": 127,
   "metadata": {},
   "outputs": [],
   "source": [
    "MAIOR_QTDE_LETRAS = 16 # fixado para o maior arquivo\n",
    "\n",
    "for i in range(MAIOR_QTDE_LETRAS):\n",
    "    df['L' + str(i)] = df['REV'].apply(\n",
    "        lambda x: ord(x[i]) - 64 if len(x) > i else 0\n",
    "    ).astype('uint8')"
   ]
  },
  {
   "cell_type": "raw",
   "metadata": {
    "id": "UyDGsCtvKBj8"
   },
   "source": [
    "for i in range(MAIOR_QTDE_LETRAS):\n",
    "    col = 'L' + str(i)\n",
    "    #df[col] = df['REV'].apply(lambda x: x[i] if len(x) > i else ' ')\n",
    "    #df.loc[df[col].isnull(), col] = ' '\n",
    "    df[col] = df[col].apply(lambda x: ord(x) - 64 if x != ' ' else 0).astype('uint8')"
   ]
  },
  {
   "cell_type": "code",
   "execution_count": 128,
   "metadata": {
    "colab": {
     "base_uri": "https://localhost:8080/"
    },
    "id": "VL2wi7EgKBkC",
    "outputId": "f74b5db2-7650-4ace-dba8-77bd81166a1f"
   },
   "outputs": [],
   "source": [
    "#df.dtypes"
   ]
  },
  {
   "cell_type": "code",
   "execution_count": 129,
   "metadata": {
    "colab": {
     "base_uri": "https://localhost:8080/",
     "height": 390
    },
    "id": "H_wvkeoJKBkH",
    "outputId": "6387995b-a1ed-4da7-af3b-f85435592ab7"
   },
   "outputs": [
    {
     "data": {
      "text/html": [
       "<div>\n",
       "<style scoped>\n",
       "    .dataframe tbody tr th:only-of-type {\n",
       "        vertical-align: middle;\n",
       "    }\n",
       "\n",
       "    .dataframe tbody tr th {\n",
       "        vertical-align: top;\n",
       "    }\n",
       "\n",
       "    .dataframe thead th {\n",
       "        text-align: right;\n",
       "    }\n",
       "</style>\n",
       "<table border=\"1\" class=\"dataframe\">\n",
       "  <thead>\n",
       "    <tr style=\"text-align: right;\">\n",
       "      <th></th>\n",
       "      <th>SEXO</th>\n",
       "      <th>REV</th>\n",
       "      <th>L0</th>\n",
       "      <th>L1</th>\n",
       "      <th>L2</th>\n",
       "      <th>L3</th>\n",
       "      <th>L4</th>\n",
       "      <th>L5</th>\n",
       "      <th>L6</th>\n",
       "      <th>L7</th>\n",
       "      <th>L8</th>\n",
       "      <th>L9</th>\n",
       "      <th>L10</th>\n",
       "      <th>L11</th>\n",
       "      <th>L12</th>\n",
       "      <th>L13</th>\n",
       "      <th>L14</th>\n",
       "      <th>L15</th>\n",
       "    </tr>\n",
       "    <tr>\n",
       "      <th>nome</th>\n",
       "      <th></th>\n",
       "      <th></th>\n",
       "      <th></th>\n",
       "      <th></th>\n",
       "      <th></th>\n",
       "      <th></th>\n",
       "      <th></th>\n",
       "      <th></th>\n",
       "      <th></th>\n",
       "      <th></th>\n",
       "      <th></th>\n",
       "      <th></th>\n",
       "      <th></th>\n",
       "      <th></th>\n",
       "      <th></th>\n",
       "      <th></th>\n",
       "      <th></th>\n",
       "      <th></th>\n",
       "    </tr>\n",
       "  </thead>\n",
       "  <tbody>\n",
       "    <tr>\n",
       "      <th>ABDEMES</th>\n",
       "      <td>2</td>\n",
       "      <td>SEMEDBA</td>\n",
       "      <td>19</td>\n",
       "      <td>5</td>\n",
       "      <td>13</td>\n",
       "      <td>5</td>\n",
       "      <td>4</td>\n",
       "      <td>2</td>\n",
       "      <td>1</td>\n",
       "      <td>0</td>\n",
       "      <td>0</td>\n",
       "      <td>0</td>\n",
       "      <td>0</td>\n",
       "      <td>0</td>\n",
       "      <td>0</td>\n",
       "      <td>0</td>\n",
       "      <td>0</td>\n",
       "      <td>0</td>\n",
       "    </tr>\n",
       "    <tr>\n",
       "      <th>ABILIS</th>\n",
       "      <td>2</td>\n",
       "      <td>SILIBA</td>\n",
       "      <td>19</td>\n",
       "      <td>9</td>\n",
       "      <td>12</td>\n",
       "      <td>9</td>\n",
       "      <td>2</td>\n",
       "      <td>1</td>\n",
       "      <td>0</td>\n",
       "      <td>0</td>\n",
       "      <td>0</td>\n",
       "      <td>0</td>\n",
       "      <td>0</td>\n",
       "      <td>0</td>\n",
       "      <td>0</td>\n",
       "      <td>0</td>\n",
       "      <td>0</td>\n",
       "      <td>0</td>\n",
       "    </tr>\n",
       "    <tr>\n",
       "      <th>ABNALDO</th>\n",
       "      <td>2</td>\n",
       "      <td>ODLANBA</td>\n",
       "      <td>15</td>\n",
       "      <td>4</td>\n",
       "      <td>12</td>\n",
       "      <td>1</td>\n",
       "      <td>14</td>\n",
       "      <td>2</td>\n",
       "      <td>1</td>\n",
       "      <td>0</td>\n",
       "      <td>0</td>\n",
       "      <td>0</td>\n",
       "      <td>0</td>\n",
       "      <td>0</td>\n",
       "      <td>0</td>\n",
       "      <td>0</td>\n",
       "      <td>0</td>\n",
       "      <td>0</td>\n",
       "    </tr>\n",
       "    <tr>\n",
       "      <th>ADAILZA</th>\n",
       "      <td>2</td>\n",
       "      <td>AZLIADA</td>\n",
       "      <td>1</td>\n",
       "      <td>26</td>\n",
       "      <td>12</td>\n",
       "      <td>9</td>\n",
       "      <td>1</td>\n",
       "      <td>4</td>\n",
       "      <td>1</td>\n",
       "      <td>0</td>\n",
       "      <td>0</td>\n",
       "      <td>0</td>\n",
       "      <td>0</td>\n",
       "      <td>0</td>\n",
       "      <td>0</td>\n",
       "      <td>0</td>\n",
       "      <td>0</td>\n",
       "      <td>0</td>\n",
       "    </tr>\n",
       "    <tr>\n",
       "      <th>ADALBERSON</th>\n",
       "      <td>2</td>\n",
       "      <td>NOSREBLADA</td>\n",
       "      <td>14</td>\n",
       "      <td>15</td>\n",
       "      <td>19</td>\n",
       "      <td>18</td>\n",
       "      <td>5</td>\n",
       "      <td>2</td>\n",
       "      <td>12</td>\n",
       "      <td>1</td>\n",
       "      <td>4</td>\n",
       "      <td>1</td>\n",
       "      <td>0</td>\n",
       "      <td>0</td>\n",
       "      <td>0</td>\n",
       "      <td>0</td>\n",
       "      <td>0</td>\n",
       "      <td>0</td>\n",
       "    </tr>\n",
       "    <tr>\n",
       "      <th>ADALTINA</th>\n",
       "      <td>1</td>\n",
       "      <td>ANITLADA</td>\n",
       "      <td>1</td>\n",
       "      <td>14</td>\n",
       "      <td>9</td>\n",
       "      <td>20</td>\n",
       "      <td>12</td>\n",
       "      <td>1</td>\n",
       "      <td>4</td>\n",
       "      <td>1</td>\n",
       "      <td>0</td>\n",
       "      <td>0</td>\n",
       "      <td>0</td>\n",
       "      <td>0</td>\n",
       "      <td>0</td>\n",
       "      <td>0</td>\n",
       "      <td>0</td>\n",
       "      <td>0</td>\n",
       "    </tr>\n",
       "    <tr>\n",
       "      <th>ADAMUS</th>\n",
       "      <td>2</td>\n",
       "      <td>SUMADA</td>\n",
       "      <td>19</td>\n",
       "      <td>21</td>\n",
       "      <td>13</td>\n",
       "      <td>1</td>\n",
       "      <td>4</td>\n",
       "      <td>1</td>\n",
       "      <td>0</td>\n",
       "      <td>0</td>\n",
       "      <td>0</td>\n",
       "      <td>0</td>\n",
       "      <td>0</td>\n",
       "      <td>0</td>\n",
       "      <td>0</td>\n",
       "      <td>0</td>\n",
       "      <td>0</td>\n",
       "      <td>0</td>\n",
       "    </tr>\n",
       "    <tr>\n",
       "      <th>ADEMILDA</th>\n",
       "      <td>1</td>\n",
       "      <td>ADLIMEDA</td>\n",
       "      <td>1</td>\n",
       "      <td>4</td>\n",
       "      <td>12</td>\n",
       "      <td>9</td>\n",
       "      <td>13</td>\n",
       "      <td>5</td>\n",
       "      <td>4</td>\n",
       "      <td>1</td>\n",
       "      <td>0</td>\n",
       "      <td>0</td>\n",
       "      <td>0</td>\n",
       "      <td>0</td>\n",
       "      <td>0</td>\n",
       "      <td>0</td>\n",
       "      <td>0</td>\n",
       "      <td>0</td>\n",
       "    </tr>\n",
       "    <tr>\n",
       "      <th>ADEMISSON</th>\n",
       "      <td>2</td>\n",
       "      <td>NOSSIMEDA</td>\n",
       "      <td>14</td>\n",
       "      <td>15</td>\n",
       "      <td>19</td>\n",
       "      <td>19</td>\n",
       "      <td>9</td>\n",
       "      <td>13</td>\n",
       "      <td>5</td>\n",
       "      <td>4</td>\n",
       "      <td>1</td>\n",
       "      <td>0</td>\n",
       "      <td>0</td>\n",
       "      <td>0</td>\n",
       "      <td>0</td>\n",
       "      <td>0</td>\n",
       "      <td>0</td>\n",
       "      <td>0</td>\n",
       "    </tr>\n",
       "    <tr>\n",
       "      <th>ADERCE</th>\n",
       "      <td>1</td>\n",
       "      <td>ECREDA</td>\n",
       "      <td>5</td>\n",
       "      <td>3</td>\n",
       "      <td>18</td>\n",
       "      <td>5</td>\n",
       "      <td>4</td>\n",
       "      <td>1</td>\n",
       "      <td>0</td>\n",
       "      <td>0</td>\n",
       "      <td>0</td>\n",
       "      <td>0</td>\n",
       "      <td>0</td>\n",
       "      <td>0</td>\n",
       "      <td>0</td>\n",
       "      <td>0</td>\n",
       "      <td>0</td>\n",
       "      <td>0</td>\n",
       "    </tr>\n",
       "  </tbody>\n",
       "</table>\n",
       "</div>"
      ],
      "text/plain": [
       "            SEXO         REV  L0  L1  L2  L3  L4  L5  L6  L7  L8  L9  L10  \\\n",
       "nome                                                                        \n",
       "ABDEMES        2     SEMEDBA  19   5  13   5   4   2   1   0   0   0    0   \n",
       "ABILIS         2      SILIBA  19   9  12   9   2   1   0   0   0   0    0   \n",
       "ABNALDO        2     ODLANBA  15   4  12   1  14   2   1   0   0   0    0   \n",
       "ADAILZA        2     AZLIADA   1  26  12   9   1   4   1   0   0   0    0   \n",
       "ADALBERSON     2  NOSREBLADA  14  15  19  18   5   2  12   1   4   1    0   \n",
       "ADALTINA       1    ANITLADA   1  14   9  20  12   1   4   1   0   0    0   \n",
       "ADAMUS         2      SUMADA  19  21  13   1   4   1   0   0   0   0    0   \n",
       "ADEMILDA       1    ADLIMEDA   1   4  12   9  13   5   4   1   0   0    0   \n",
       "ADEMISSON      2   NOSSIMEDA  14  15  19  19   9  13   5   4   1   0    0   \n",
       "ADERCE         1      ECREDA   5   3  18   5   4   1   0   0   0   0    0   \n",
       "\n",
       "            L11  L12  L13  L14  L15  \n",
       "nome                                 \n",
       "ABDEMES       0    0    0    0    0  \n",
       "ABILIS        0    0    0    0    0  \n",
       "ABNALDO       0    0    0    0    0  \n",
       "ADAILZA       0    0    0    0    0  \n",
       "ADALBERSON    0    0    0    0    0  \n",
       "ADALTINA      0    0    0    0    0  \n",
       "ADAMUS        0    0    0    0    0  \n",
       "ADEMILDA      0    0    0    0    0  \n",
       "ADEMISSON     0    0    0    0    0  \n",
       "ADERCE        0    0    0    0    0  "
      ]
     },
     "execution_count": 129,
     "metadata": {},
     "output_type": "execute_result"
    }
   ],
   "source": [
    "df.head(10)"
   ]
  },
  {
   "cell_type": "code",
   "execution_count": 130,
   "metadata": {
    "id": "wV1JflwpKBkL"
   },
   "outputs": [],
   "source": [
    "#df.describe()"
   ]
  },
  {
   "cell_type": "code",
   "execution_count": 131,
   "metadata": {},
   "outputs": [
    {
     "data": {
      "text/plain": [
       "array([[-13.52078631,  -6.66969255,   0.47062714,   1.46881889],\n",
       "       [-14.66849263,  -2.49468877,   2.10916993,   3.92817915],\n",
       "       [-10.21309109,  -8.48051482,  -7.49893459,  -3.10800101],\n",
       "       [ -5.47898324,  16.33064614,  -3.66964771,  -3.15743948],\n",
       "       [ -3.58103396,   0.388545  ,   0.29250288,   9.99972082]])"
      ]
     },
     "execution_count": 131,
     "metadata": {},
     "output_type": "execute_result"
    }
   ],
   "source": [
    "from sklearn.decomposition import PCA\n",
    "\n",
    "X_reduced = PCA(n_components=4).fit_transform(df.drop(['SEXO', 'REV'], axis=1))\n",
    "X_reduced[:5]"
   ]
  },
  {
   "cell_type": "code",
   "execution_count": 132,
   "metadata": {},
   "outputs": [
    {
     "name": "stdout",
     "output_type": "stream",
     "text": [
      "Forma dos dados originais: (384846, 4) (384846,)\n"
     ]
    }
   ],
   "source": [
    "X = pd.DataFrame(X_reduced, index=df.index)\n",
    "y = df['SEXO'] # apenas a coluna alvo\n",
    "\n",
    "print('Forma dos dados originais:', X.shape, y.shape)"
   ]
  },
  {
   "cell_type": "raw",
   "metadata": {
    "colab": {
     "base_uri": "https://localhost:8080/"
    },
    "id": "dFztelfbKBkQ",
    "outputId": "0eae88b2-28e8-4b92-bfa2-90aed1c2be79"
   },
   "source": [
    "# definir dados de entrada\n",
    "\n",
    "X = df.drop(['SEXO', 'REV'], axis=1) # tudo, exceto a coluna alvo\n",
    "y = df['SEXO'] # apenas a coluna alvo\n",
    "\n",
    "print('Forma dos dados originais:', X.shape, y.shape)"
   ]
  },
  {
   "cell_type": "raw",
   "metadata": {
    "id": "ADE2HILPiuxH"
   },
   "source": [
    "from sklearn.model_selection import cross_val_score\n",
    "from sklearn.model_selection import RepeatedStratifiedKFold\n",
    "from sklearn.feature_selection import RFE\n",
    "from sklearn.feature_selection import RFECV\n",
    "from sklearn.tree import DecisionTreeClassifier\n",
    "from sklearn.pipeline import Pipeline\n",
    "\n",
    "# create pipeline\n",
    "#rfe = RFE(estimator=DecisionTreeClassifier(), n_features_to_select=5)\n",
    "rfe = RFECV(estimator=DecisionTreeClassifier())\n",
    "model = DecisionTreeClassifier()\n",
    "pipeline = Pipeline(steps=[('s',rfe), ('m',model)])\n",
    "\n",
    "# evaluate model\n",
    "cv = RepeatedStratifiedKFold(n_splits=10, n_repeats=3, random_state=1)\n",
    "n_scores = cross_val_score(pipeline, X, y, scoring='accuracy', cv=cv, n_jobs=-1, error_score='raise')\n",
    "\n",
    "# report performance\n",
    "print('Accuracy: %.3f (%.3f)' % (np.mean(n_scores)*100, np.std(n_scores)*100))\n",
    "\n",
    "rfe.fit(X, y)\n",
    "\n",
    "# summarize all features\n",
    "for i in range(X.shape[1]):\n",
    "  print('Column: %d [%s], Rank: %.3f %s' % (\n",
    "      i, X.columns[i], rfe.ranking_[i],\n",
    "      'Selected ' if rfe.support_[i] else ''))"
   ]
  },
  {
   "cell_type": "raw",
   "metadata": {
    "id": "EqwDmDDbmJhi"
   },
   "source": [
    "#df = df[['PERC', 'L0', 'L1', 'L2', 'L3', 'L4', 'L5', 'SEXO']]\n",
    "#df.drop(['QTDE'], axis=1, inplace=True)"
   ]
  },
  {
   "cell_type": "code",
   "execution_count": 133,
   "metadata": {
    "id": "eLu3BAdlKBkT"
   },
   "outputs": [
    {
     "data": {
      "text/html": [
       "<div>\n",
       "<style scoped>\n",
       "    .dataframe tbody tr th:only-of-type {\n",
       "        vertical-align: middle;\n",
       "    }\n",
       "\n",
       "    .dataframe tbody tr th {\n",
       "        vertical-align: top;\n",
       "    }\n",
       "\n",
       "    .dataframe thead th {\n",
       "        text-align: right;\n",
       "    }\n",
       "</style>\n",
       "<table border=\"1\" class=\"dataframe\">\n",
       "  <thead>\n",
       "    <tr style=\"text-align: right;\">\n",
       "      <th></th>\n",
       "      <th>0</th>\n",
       "      <th>1</th>\n",
       "      <th>2</th>\n",
       "      <th>3</th>\n",
       "    </tr>\n",
       "    <tr>\n",
       "      <th>nome</th>\n",
       "      <th></th>\n",
       "      <th></th>\n",
       "      <th></th>\n",
       "      <th></th>\n",
       "    </tr>\n",
       "  </thead>\n",
       "  <tbody>\n",
       "    <tr>\n",
       "      <th>ABDEMES</th>\n",
       "      <td>-13.520786</td>\n",
       "      <td>-6.669693</td>\n",
       "      <td>0.470627</td>\n",
       "      <td>1.468819</td>\n",
       "    </tr>\n",
       "    <tr>\n",
       "      <th>ABILIS</th>\n",
       "      <td>-14.668493</td>\n",
       "      <td>-2.494689</td>\n",
       "      <td>2.109170</td>\n",
       "      <td>3.928179</td>\n",
       "    </tr>\n",
       "    <tr>\n",
       "      <th>ABNALDO</th>\n",
       "      <td>-10.213091</td>\n",
       "      <td>-8.480515</td>\n",
       "      <td>-7.498935</td>\n",
       "      <td>-3.108001</td>\n",
       "    </tr>\n",
       "    <tr>\n",
       "      <th>ADAILZA</th>\n",
       "      <td>-5.478983</td>\n",
       "      <td>16.330646</td>\n",
       "      <td>-3.669648</td>\n",
       "      <td>-3.157439</td>\n",
       "    </tr>\n",
       "    <tr>\n",
       "      <th>ADALBERSON</th>\n",
       "      <td>-3.581034</td>\n",
       "      <td>0.388545</td>\n",
       "      <td>0.292503</td>\n",
       "      <td>9.999721</td>\n",
       "    </tr>\n",
       "  </tbody>\n",
       "</table>\n",
       "</div>"
      ],
      "text/plain": [
       "                    0          1         2         3\n",
       "nome                                                \n",
       "ABDEMES    -13.520786  -6.669693  0.470627  1.468819\n",
       "ABILIS     -14.668493  -2.494689  2.109170  3.928179\n",
       "ABNALDO    -10.213091  -8.480515 -7.498935 -3.108001\n",
       "ADAILZA     -5.478983  16.330646 -3.669648 -3.157439\n",
       "ADALBERSON  -3.581034   0.388545  0.292503  9.999721"
      ]
     },
     "execution_count": 133,
     "metadata": {},
     "output_type": "execute_result"
    }
   ],
   "source": [
    "X.head()"
   ]
  },
  {
   "cell_type": "code",
   "execution_count": 134,
   "metadata": {
    "id": "nE7LUtIkKBkV"
   },
   "outputs": [
    {
     "data": {
      "text/plain": [
       "nome\n",
       "ABDEMES       2\n",
       "ABILIS        2\n",
       "ABNALDO       2\n",
       "ADAILZA       2\n",
       "ADALBERSON    2\n",
       "Name: SEXO, dtype: uint8"
      ]
     },
     "execution_count": 134,
     "metadata": {},
     "output_type": "execute_result"
    }
   ],
   "source": [
    "y.head()"
   ]
  },
  {
   "cell_type": "code",
   "execution_count": 96,
   "metadata": {
    "id": "ZwMDGS37iqNj"
   },
   "outputs": [],
   "source": [
    "NUMBER_KFOLD_SPLITS = 5 # number of splits in cross-validation\n",
    "NUMBER_GRID_ITERATIONS = 10 # number of grid iterations to parameters testing\n",
    "SCORING_METRIC = 'accuracy' # the scoring metric to be used"
   ]
  },
  {
   "cell_type": "code",
   "execution_count": 97,
   "metadata": {
    "id": "C08iaGbOKBkX"
   },
   "outputs": [],
   "source": [
    "from datetime import datetime\n",
    "\n",
    "models = {}\n",
    "\n",
    "def evaluate_model(name, model, X=X, y=y):\n",
    "\n",
    "  start = datetime.now()\n",
    "  kfold = KFold(n_splits=NUMBER_KFOLD_SPLITS, shuffle=True, random_state=42)\n",
    "  results = cross_val_score(model, X, y, cv=kfold,\n",
    "                            scoring=SCORING_METRIC, verbose=1, n_jobs=-1)\n",
    "  end = datetime.now()\n",
    "\n",
    "  elapsed = int((end - start).total_seconds() * 1000)\n",
    "  score = results.mean() * 100\n",
    "  stddev = results.std() * 100\n",
    "\n",
    "  models[name] = (model, score, stddev, elapsed)\n",
    "  print(model, '\\nCross-Validation Score: %.2f (+/- %.2f) [%5s ms]' % \\\n",
    "        (score, stddev, elapsed))\n",
    "  return score, stddev, elapsed"
   ]
  },
  {
   "cell_type": "code",
   "execution_count": 98,
   "metadata": {
    "id": "gt9-P6gDKBka"
   },
   "outputs": [],
   "source": [
    "# faz o ajuste fino do modelo, calculando os melhores hiperparâmetros\n",
    "def fine_tune_model(model, params, X=X, y=y):\n",
    "\n",
    "  print('\\nFine Tuning Model:')\n",
    "  print(model, \"\\nparams:\", params)\n",
    "  \n",
    "  kfold = KFold(n_splits=NUMBER_KFOLD_SPLITS, shuffle=True, random_state=42)\n",
    "\n",
    "  search = RandomizedSearchCV(model, param_distributions=params, \n",
    "                              n_iter=NUMBER_GRID_ITERATIONS, \n",
    "                              scoring=SCORING_METRIC, cv=kfold, \n",
    "                              verbose=1, n_jobs=-1)\n",
    "  #search = GridSearchCV(estimator=model, param_grid=params, scoring='accuracy', cv=kfold, verbose=1)\n",
    "\n",
    "  search.fit(X, y)\n",
    "  print('\\nBest Score: %.2f %%' % (search.best_score_ * 100))\n",
    "  print('Best Params:', search.best_params_)\n",
    "  return search"
   ]
  },
  {
   "cell_type": "code",
   "execution_count": 99,
   "metadata": {
    "id": "AKjSn0fiKBkd"
   },
   "outputs": [
    {
     "name": "stderr",
     "output_type": "stream",
     "text": [
      "[Parallel(n_jobs=-1)]: Using backend LokyBackend with 2 concurrent workers.\n"
     ]
    },
    {
     "name": "stdout",
     "output_type": "stream",
     "text": [
      "LogisticRegression(max_iter=1000, random_state=42, solver='liblinear') \n",
      "Cross-Validation Score: 79.22 (+/- 0.30) [ 2834 ms]\n"
     ]
    },
    {
     "name": "stderr",
     "output_type": "stream",
     "text": [
      "[Parallel(n_jobs=-1)]: Done   5 out of   5 | elapsed:    2.7s finished\n"
     ]
    }
   ],
   "source": [
    "# Logistic Regression\n",
    "from sklearn.linear_model import LogisticRegression\n",
    "\n",
    "model = LogisticRegression(\n",
    "    random_state=42, multi_class='auto', \n",
    "    max_iter=1000, solver='liblinear', C=1.0) # 85.18\n",
    "evaluate_model('LR', model)\n",
    "\n",
    "params = dict(\n",
    "    solver=['liblinear','lbfgs'], \n",
    "    C=np.logspace(-3,3,7)\n",
    ")\n",
    "#fine_tune_model(model, params)"
   ]
  },
  {
   "cell_type": "raw",
   "metadata": {
    "id": "stLXLiv5KBkm"
   },
   "source": [
    "# Support Vector Machine (SVM)\n",
    "from sklearn.svm import SVC\n",
    "\n",
    "model = SVC(random_state=42, C=10, gamma=0.001, kernel='rbf') # 89.49\n",
    "evaluate_model('SVM', model)\n",
    "\n",
    "#params = dict(C=np.logspace(-1,1,3)) # 87.90\n",
    "#params = dict(gamma=np.logspace(-3,0,4)) # 89.46\n",
    "#params = dict(kernel=['linear','rbf','poly','sigmoid']) # 89.46\n",
    "params = dict(C=np.logspace(-1,1,3),\n",
    "              gamma=np.logspace(-3,0,4),\n",
    "              kernel=['linear','rbf','poly','sigmoid'])\n",
    "#fine_tune_model(model, params)"
   ]
  },
  {
   "cell_type": "code",
   "execution_count": 100,
   "metadata": {
    "id": "ESU3vXP1KBkx"
   },
   "outputs": [
    {
     "name": "stderr",
     "output_type": "stream",
     "text": [
      "[Parallel(n_jobs=-1)]: Using backend LokyBackend with 2 concurrent workers.\n"
     ]
    },
    {
     "name": "stdout",
     "output_type": "stream",
     "text": [
      "LinearSVC(C=0.001, random_state=42) \n",
      "Cross-Validation Score: 79.42 (+/- 0.32) [ 1816 ms]\n"
     ]
    },
    {
     "name": "stderr",
     "output_type": "stream",
     "text": [
      "[Parallel(n_jobs=-1)]: Done   5 out of   5 | elapsed:    1.7s finished\n"
     ]
    }
   ],
   "source": [
    "# Linear SVM\n",
    "from sklearn.svm import LinearSVC\n",
    "\n",
    "model = LinearSVC(random_state=42, max_iter=1000, C=0.001) # 85.27\n",
    "evaluate_model('LSVM', model)\n",
    "\n",
    "#from scipy.stats import reciprocal, uniform\n",
    "#params = dict(C=uniform(1, 10))\n",
    "params = dict(\n",
    "    C=np.logspace(-4,3,8)\n",
    ")\n",
    "#fine_tune_model(model, params)"
   ]
  },
  {
   "cell_type": "code",
   "execution_count": 101,
   "metadata": {
    "id": "I1ZG1hT_KBkj"
   },
   "outputs": [
    {
     "name": "stderr",
     "output_type": "stream",
     "text": [
      "[Parallel(n_jobs=-1)]: Using backend LokyBackend with 2 concurrent workers.\n"
     ]
    },
    {
     "name": "stdout",
     "output_type": "stream",
     "text": [
      "KNeighborsClassifier(n_neighbors=11) \n",
      "Cross-Validation Score: 81.31 (+/- 0.31) [ 5846 ms]\n"
     ]
    },
    {
     "name": "stderr",
     "output_type": "stream",
     "text": [
      "[Parallel(n_jobs=-1)]: Done   5 out of   5 | elapsed:    5.7s finished\n"
     ]
    }
   ],
   "source": [
    "# K-Nearest Neighbours (KNN)\n",
    "from sklearn.neighbors import KNeighborsClassifier\n",
    "\n",
    "model = KNeighborsClassifier(n_neighbors=11) # 87.45\n",
    "evaluate_model('KNN', model)\n",
    "\n",
    "params = dict(\n",
    "    n_neighbors=[1,3,5,7,9,11]\n",
    ")\n",
    "#fine_tune_model(model, params)"
   ]
  },
  {
   "cell_type": "code",
   "execution_count": 102,
   "metadata": {
    "id": "iWdLq2ULKBk3"
   },
   "outputs": [
    {
     "name": "stderr",
     "output_type": "stream",
     "text": [
      "[Parallel(n_jobs=-1)]: Using backend LokyBackend with 2 concurrent workers.\n"
     ]
    },
    {
     "name": "stdout",
     "output_type": "stream",
     "text": [
      "LinearDiscriminantAnalysis() \n",
      "Cross-Validation Score: 79.40 (+/- 0.33) [  872 ms]\n"
     ]
    },
    {
     "name": "stderr",
     "output_type": "stream",
     "text": [
      "[Parallel(n_jobs=-1)]: Done   5 out of   5 | elapsed:    0.8s finished\n"
     ]
    }
   ],
   "source": [
    "# Linear Discriminant Analysis (LDA)\n",
    "from sklearn.discriminant_analysis import LinearDiscriminantAnalysis\n",
    "\n",
    "model = LinearDiscriminantAnalysis(solver='svd') # 84.45\n",
    "evaluate_model('LDA', model)\n",
    "\n",
    "params = dict(\n",
    "    solver=['svd','lsqr','eigen']\n",
    ")\n",
    "#fine_tune_model(model, params)"
   ]
  },
  {
   "cell_type": "code",
   "execution_count": 103,
   "metadata": {
    "id": "n1gzX_b395Q4"
   },
   "outputs": [
    {
     "name": "stderr",
     "output_type": "stream",
     "text": [
      "[Parallel(n_jobs=-1)]: Using backend LokyBackend with 2 concurrent workers.\n"
     ]
    },
    {
     "name": "stdout",
     "output_type": "stream",
     "text": [
      "QuadraticDiscriminantAnalysis() \n",
      "Cross-Validation Score: 80.49 (+/- 0.25) [  623 ms]\n"
     ]
    },
    {
     "name": "stderr",
     "output_type": "stream",
     "text": [
      "[Parallel(n_jobs=-1)]: Done   5 out of   5 | elapsed:    0.5s finished\n"
     ]
    }
   ],
   "source": [
    "# Quadratic Discriminant Analysis (QDA)\n",
    "from sklearn.discriminant_analysis import QuadraticDiscriminantAnalysis\n",
    "\n",
    "model = QuadraticDiscriminantAnalysis() # 44.99\n",
    "evaluate_model('QDA', model)\n",
    "\n",
    "params = dict()\n",
    "#fine_tune_model(model, params)"
   ]
  },
  {
   "cell_type": "code",
   "execution_count": 104,
   "metadata": {
    "id": "sTI50bmiKBkv"
   },
   "outputs": [
    {
     "name": "stderr",
     "output_type": "stream",
     "text": [
      "[Parallel(n_jobs=-1)]: Using backend LokyBackend with 2 concurrent workers.\n"
     ]
    },
    {
     "name": "stdout",
     "output_type": "stream",
     "text": [
      "GaussianNB(var_smoothing=1.0) \n",
      "Cross-Validation Score: 77.87 (+/- 0.20) [  604 ms]\n"
     ]
    },
    {
     "name": "stderr",
     "output_type": "stream",
     "text": [
      "[Parallel(n_jobs=-1)]: Done   5 out of   5 | elapsed:    0.5s finished\n"
     ]
    }
   ],
   "source": [
    "# Naïve Bayes - Gaussian\n",
    "from sklearn.naive_bayes import GaussianNB\n",
    "\n",
    "model = GaussianNB(priors=None, var_smoothing=1.0) # 67.62\n",
    "evaluate_model('GNB', model)\n",
    "\n",
    "params = dict(\n",
    "    var_smoothing=np.logspace(0,-9,num=10)\n",
    ")\n",
    "#fine_tune_model(model, params)"
   ]
  },
  {
   "cell_type": "code",
   "execution_count": 105,
   "metadata": {
    "id": "I-ML--bl-abs"
   },
   "outputs": [
    {
     "name": "stderr",
     "output_type": "stream",
     "text": [
      "[Parallel(n_jobs=-1)]: Using backend LokyBackend with 2 concurrent workers.\n"
     ]
    },
    {
     "name": "stdout",
     "output_type": "stream",
     "text": [
      "BernoulliNB() \n",
      "Cross-Validation Score: 70.91 (+/- 0.16) [  667 ms]\n"
     ]
    },
    {
     "name": "stderr",
     "output_type": "stream",
     "text": [
      "[Parallel(n_jobs=-1)]: Done   5 out of   5 | elapsed:    0.6s finished\n"
     ]
    },
    {
     "data": {
      "text/plain": [
       "(70.9055644729802, 0.15607149138866988, 667)"
      ]
     },
     "execution_count": 105,
     "metadata": {},
     "output_type": "execute_result"
    }
   ],
   "source": [
    "# Naïve Bayes - Bernoulli\n",
    "from sklearn.naive_bayes import BernoulliNB\n",
    "\n",
    "model = BernoulliNB() # 43.37\n",
    "evaluate_model('BNB', model)\n",
    "\n",
    "#params = dict(var_smoothing=np.logspace(0,-9,num=10))\n",
    "#fine_tune_model(model, params)"
   ]
  },
  {
   "cell_type": "code",
   "execution_count": 106,
   "metadata": {
    "id": "LFta0nqyKBkg"
   },
   "outputs": [
    {
     "name": "stderr",
     "output_type": "stream",
     "text": [
      "[Parallel(n_jobs=-1)]: Using backend LokyBackend with 2 concurrent workers.\n"
     ]
    },
    {
     "name": "stdout",
     "output_type": "stream",
     "text": [
      "DecisionTreeClassifier(criterion='entropy', max_depth=7, random_state=42) \n",
      "Cross-Validation Score: 78.32 (+/- 0.27) [ 2378 ms]\n"
     ]
    },
    {
     "name": "stderr",
     "output_type": "stream",
     "text": [
      "[Parallel(n_jobs=-1)]: Done   5 out of   5 | elapsed:    2.3s finished\n"
     ]
    }
   ],
   "source": [
    "# Decision Tree\n",
    "from sklearn.tree import DecisionTreeClassifier\n",
    "\n",
    "model = DecisionTreeClassifier(\n",
    "    random_state=42, criterion='entropy', max_depth=7) # 96.37\n",
    "evaluate_model('DT', model)\n",
    "\n",
    "params = dict(\n",
    "    criterion=['gini','entropy'],\n",
    "    max_depth=[3,5,7,11,13,17,19]\n",
    ")\n",
    "#fine_tune_model(model, params)"
   ]
  },
  {
   "cell_type": "code",
   "execution_count": 107,
   "metadata": {
    "id": "zi5Wzk_iKBko"
   },
   "outputs": [
    {
     "name": "stderr",
     "output_type": "stream",
     "text": [
      "[Parallel(n_jobs=-1)]: Using backend LokyBackend with 2 concurrent workers.\n",
      "/home/rodrigo/anaconda3/lib/python3.8/site-packages/joblib/externals/loky/process_executor.py:688: UserWarning: A worker stopped while some jobs were given to the executor. This can be caused by a too short worker timeout or by a memory leak.\n",
      "  warnings.warn(\n"
     ]
    },
    {
     "name": "stdout",
     "output_type": "stream",
     "text": [
      "RandomForestClassifier(max_features='sqrt', n_estimators=500, random_state=42) \n",
      "Cross-Validation Score: 76.43 (+/- 0.33) [504775 ms]\n"
     ]
    },
    {
     "name": "stderr",
     "output_type": "stream",
     "text": [
      "[Parallel(n_jobs=-1)]: Done   5 out of   5 | elapsed:  8.4min finished\n"
     ]
    }
   ],
   "source": [
    "# Ensemble - Random Forest\n",
    "from sklearn.ensemble import RandomForestClassifier\n",
    "\n",
    "model = RandomForestClassifier(\n",
    "    random_state=42, max_features='sqrt', n_estimators=500) # 93.86\n",
    "evaluate_model('RF', model)\n",
    "\n",
    "params = dict(\n",
    "    n_estimators=[10,50,100,500], \n",
    "    max_features=['auto','sqrt','log2']\n",
    ")\n",
    "#fine_tune_model(model, params)"
   ]
  },
  {
   "cell_type": "code",
   "execution_count": 108,
   "metadata": {
    "id": "U6AvlHQkKBky"
   },
   "outputs": [
    {
     "name": "stderr",
     "output_type": "stream",
     "text": [
      "[Parallel(n_jobs=-1)]: Using backend LokyBackend with 2 concurrent workers.\n"
     ]
    },
    {
     "name": "stdout",
     "output_type": "stream",
     "text": [
      "AdaBoostClassifier(base_estimator=DecisionTreeClassifier(criterion='entropy',\n",
      "                                                         max_depth=17,\n",
      "                                                         random_state=42),\n",
      "                   n_estimators=11) \n",
      "Cross-Validation Score: 72.45 (+/- 0.56) [51655 ms]\n"
     ]
    },
    {
     "name": "stderr",
     "output_type": "stream",
     "text": [
      "[Parallel(n_jobs=-1)]: Done   5 out of   5 | elapsed:   51.5s finished\n"
     ]
    }
   ],
   "source": [
    "# Ensemble - Ada Boost\n",
    "from sklearn.ensemble import AdaBoostClassifier\n",
    "\n",
    "model = AdaBoostClassifier(\n",
    "    DecisionTreeClassifier(random_state=42, criterion='entropy', max_depth=17), \n",
    "    n_estimators=11) # 96.41\n",
    "evaluate_model('ABDT', model)\n",
    "\n",
    "params = dict(\n",
    "    n_estimators=[1,3,5,7,9,11,13]\n",
    ")\n",
    "#fine_tune_model(model, params)"
   ]
  },
  {
   "cell_type": "raw",
   "metadata": {
    "id": "MNsYeL07KBk0"
   },
   "source": [
    "# Ensemble - Gradient Boosting\n",
    "from sklearn.ensemble import GradientBoostingClassifier\n",
    "\n",
    "model = GradientBoostingClassifier(random_state=42, max_depth=35, n_estimators=250, learning_rate=0.1) # 96.75\n",
    "evaluate_model('GB', model)\n",
    "\n",
    "params = dict(max_depth=[1,3,5,7,9], n_estimators=[5,50,250,500], learning_rate=[0.01,0.1,1,10,100])\n",
    "#fine_tune_model(model, params)"
   ]
  },
  {
   "cell_type": "code",
   "execution_count": 109,
   "metadata": {
    "id": "67Y9pbl-KBkq"
   },
   "outputs": [
    {
     "name": "stderr",
     "output_type": "stream",
     "text": [
      "[Parallel(n_jobs=-1)]: Using backend LokyBackend with 2 concurrent workers.\n"
     ]
    },
    {
     "name": "stdout",
     "output_type": "stream",
     "text": [
      "SGDClassifier(max_iter=350, random_state=42, tol=0.01) \n",
      "Cross-Validation Score: 74.38 (+/- 1.82) [ 2049 ms]\n"
     ]
    },
    {
     "name": "stderr",
     "output_type": "stream",
     "text": [
      "[Parallel(n_jobs=-1)]: Done   5 out of   5 | elapsed:    1.9s finished\n"
     ]
    }
   ],
   "source": [
    "# Stochastic Gradient Descent (SGD)\n",
    "from sklearn.linear_model import SGDClassifier\n",
    "\n",
    "model = SGDClassifier(random_state=42, max_iter=350, tol=0.01) # 77.02\n",
    "evaluate_model('SGD', model)\n",
    "\n",
    "params = dict(\n",
    "    max_iter=[100, 200, 350, 500, 1000], \n",
    "    tol=[0.01, 0.1, 1.0]\n",
    ")\n",
    "#fine_tune_model(model, params)"
   ]
  },
  {
   "cell_type": "code",
   "execution_count": 110,
   "metadata": {
    "id": "xbBC6p2wKBkt"
   },
   "outputs": [
    {
     "name": "stderr",
     "output_type": "stream",
     "text": [
      "[Parallel(n_jobs=-1)]: Using backend LokyBackend with 2 concurrent workers.\n"
     ]
    },
    {
     "name": "stdout",
     "output_type": "stream",
     "text": [
      "Perceptron(max_iter=500, random_state=42, tol=0.1) \n",
      "Cross-Validation Score: 73.00 (+/- 3.95) [ 1007 ms]\n"
     ]
    },
    {
     "name": "stderr",
     "output_type": "stream",
     "text": [
      "[Parallel(n_jobs=-1)]: Done   5 out of   5 | elapsed:    0.9s finished\n"
     ]
    }
   ],
   "source": [
    "# Perceptron\n",
    "from sklearn.linear_model import Perceptron\n",
    "\n",
    "model = Perceptron(random_state=42, max_iter=500, tol=0.1) # 75.58\n",
    "evaluate_model('PCT', model)\n",
    "\n",
    "params = dict(\n",
    "    max_iter=[100, 200, 350, 500, 750, 1000], \n",
    "    tol=[0.1, 0.01, 0.001]\n",
    ")\n",
    "#fine_tune_model(model, params)"
   ]
  },
  {
   "cell_type": "raw",
   "metadata": {
    "id": "d1VQL0brKBk1"
   },
   "source": [
    "# Multi-Layer Perceptron (MLP)\n",
    "from sklearn.neural_network import MLPClassifier\n",
    "\n",
    "model = MLPClassifier(random_state=42, solver='lbfgs', alpha=1e-07, hidden_layer_sizes=(50, 100, 50)) # 88.67\n",
    "evaluate_model('MLP', model)\n",
    "\n",
    "params = dict(alpha=np.logspace(-9,-1,5), \n",
    "              solver=['lbfgs','sgd','adam'], \n",
    "              hidden_layer_sizes=[(50,50,50), (50,100,50), (100,)])\n",
    "#fine_tune_model(model, params)"
   ]
  },
  {
   "cell_type": "code",
   "execution_count": 111,
   "metadata": {
    "id": "LwPteD3pTyih"
   },
   "outputs": [
    {
     "name": "stderr",
     "output_type": "stream",
     "text": [
      "[Parallel(n_jobs=-1)]: Using backend LokyBackend with 2 concurrent workers.\n"
     ]
    },
    {
     "name": "stdout",
     "output_type": "stream",
     "text": [
      "XGBClassifier(base_score=None, booster=None, colsample_bylevel=None,\n",
      "              colsample_bynode=None, colsample_bytree=0.8, gamma=0.4,\n",
      "              gpu_id=None, importance_type='gain', interaction_constraints=None,\n",
      "              learning_rate=None, max_delta_step=None, max_depth=3,\n",
      "              min_child_weight=3, missing=nan, monotone_constraints=None,\n",
      "              n_estimators=100, n_jobs=None, num_parallel_tree=None,\n",
      "              random_state=None, reg_alpha=1e-05, reg_lambda=None,\n",
      "              scale_pos_weight=None, subsample=0.7, tree_method=None,\n",
      "              validate_parameters=None, verbosity=None) \n",
      "Cross-Validation Score: 80.00 (+/- 0.32) [26539 ms]\n"
     ]
    },
    {
     "name": "stderr",
     "output_type": "stream",
     "text": [
      "[Parallel(n_jobs=-1)]: Done   5 out of   5 | elapsed:   26.4s finished\n"
     ]
    }
   ],
   "source": [
    "# Extreme Gradient Boosting Machine (XGBM)\n",
    "from xgboost import XGBClassifier\n",
    "\n",
    "model = XGBClassifier(\n",
    "    max_depth=3, min_child_weight=3, gamma=0.4, \n",
    "    subsample=0.7, colsample_bytree=0.8, reg_alpha=1e-05) # 97.67\n",
    "evaluate_model('XGB', model)\n",
    "\n",
    "params = dict(max_depth=range(3,10,2), min_child_weight=range(1,6,2)) # 97.60\n",
    "#params = dict(gamma=[i/10.0 for i in range(0,5)]) # 97.68\n",
    "#params = dict(subsample=[i/10.0 for i in range(6,10)], colsample_bytree=[i/10.0 for i in range(6,10)]) # 97.72\n",
    "#params = dict(reg_alpha=[1e-5, 1e-2, 0.1, 1, 100]) # 97.74\n",
    "#fine_tune_model(model, params)"
   ]
  },
  {
   "cell_type": "code",
   "execution_count": 112,
   "metadata": {
    "id": "KBmR5q4c_X0A"
   },
   "outputs": [
    {
     "name": "stderr",
     "output_type": "stream",
     "text": [
      "[Parallel(n_jobs=-1)]: Using backend LokyBackend with 2 concurrent workers.\n"
     ]
    },
    {
     "name": "stdout",
     "output_type": "stream",
     "text": [
      "LGBMClassifier(feature_fraction=1.0, max_depth=3, num_leaves=20) \n",
      "Cross-Validation Score: 79.50 (+/- 0.36) [ 4598 ms]\n"
     ]
    },
    {
     "name": "stderr",
     "output_type": "stream",
     "text": [
      "[Parallel(n_jobs=-1)]: Done   5 out of   5 | elapsed:    4.5s finished\n"
     ]
    }
   ],
   "source": [
    "# LightGBM\n",
    "from lightgbm import LGBMClassifier\n",
    "#!pip install lightgbm\n",
    "\n",
    "model = LGBMClassifier(\n",
    "    num_leaves=20, max_depth=3, \n",
    "    learning_rate=0.1, feature_fraction=1.0) # 97.51\n",
    "evaluate_model('LGBM', model)\n",
    "\n",
    "params = dict(num_leaves=range(10,100), max_depth=range(1,30)) # 97.18\n",
    "#params = dict(learning_rate=[0.01,0.05,0.1,0.5]) # 97.51\n",
    "#params = dict(feature_fraction=[0.1,0.25,0.5,0.75,1.0]) # 97.62\n",
    "#fine_tune_model(model, params)"
   ]
  },
  {
   "cell_type": "code",
   "execution_count": 113,
   "metadata": {
    "id": "7JVuRL_xIXLQ"
   },
   "outputs": [
    {
     "name": "stderr",
     "output_type": "stream",
     "text": [
      "[Parallel(n_jobs=-1)]: Using backend LokyBackend with 2 concurrent workers.\n"
     ]
    },
    {
     "name": "stdout",
     "output_type": "stream",
     "text": [
      "<catboost.core.CatBoostClassifier object at 0x7ff617e71970> \n",
      "Cross-Validation Score: 81.46 (+/- 0.36) [43896 ms]\n"
     ]
    },
    {
     "name": "stderr",
     "output_type": "stream",
     "text": [
      "[Parallel(n_jobs=-1)]: Done   5 out of   5 | elapsed:   43.8s finished\n"
     ]
    }
   ],
   "source": [
    "# CatBoost\n",
    "from catboost import CatBoostClassifier\n",
    "#!pip install catboost\n",
    "\n",
    "model = CatBoostClassifier(\n",
    "    silent=True, iterations=250,\n",
    "    learning_rate=0.05, depth=7) # 97.04\n",
    "#learning_rate=0.1, iterations=1000, depth=5\n",
    "evaluate_model('CB', model)\n",
    "\n",
    "params = dict(\n",
    "    iterations=[10,50,100,250,500,1000],\n",
    "    learning_rate=[0.01,0.05,0.1,0.5],\n",
    "    depth=range(1,11,2)\n",
    ") \n",
    "#fine_tune_model(model, params)"
   ]
  },
  {
   "cell_type": "code",
   "execution_count": 114,
   "metadata": {
    "id": "ikE7JK4TnsmA"
   },
   "outputs": [],
   "source": [
    "names = []\n",
    "estimators = []\n",
    "scores = []\n",
    "stdevs = []\n",
    "times = []\n",
    "\n",
    "for key, value in models.items():\n",
    "  (model, score, stdev, elapsed) = value\n",
    "  names.append(key)\n",
    "  estimators.append(model)\n",
    "  scores.append(score)\n",
    "  stdevs.append(stdev)\n",
    "  times.append(elapsed)"
   ]
  },
  {
   "cell_type": "code",
   "execution_count": 115,
   "metadata": {
    "id": "4rTFKNKxKBlI"
   },
   "outputs": [
    {
     "data": {
      "text/html": [
       "<div>\n",
       "<style scoped>\n",
       "    .dataframe tbody tr th:only-of-type {\n",
       "        vertical-align: middle;\n",
       "    }\n",
       "\n",
       "    .dataframe tbody tr th {\n",
       "        vertical-align: top;\n",
       "    }\n",
       "\n",
       "    .dataframe thead th {\n",
       "        text-align: right;\n",
       "    }\n",
       "</style>\n",
       "<table border=\"1\" class=\"dataframe\">\n",
       "  <thead>\n",
       "    <tr style=\"text-align: right;\">\n",
       "      <th></th>\n",
       "      <th>Model</th>\n",
       "      <th>Score</th>\n",
       "      <th>Std Dev</th>\n",
       "      <th>Time (ms)</th>\n",
       "      <th>Estimator</th>\n",
       "    </tr>\n",
       "  </thead>\n",
       "  <tbody>\n",
       "    <tr>\n",
       "      <th>14</th>\n",
       "      <td>CB</td>\n",
       "      <td>81.457999</td>\n",
       "      <td>0.361765</td>\n",
       "      <td>43896</td>\n",
       "      <td>&lt;catboost.core.CatBoostClassifier object at 0x...</td>\n",
       "    </tr>\n",
       "    <tr>\n",
       "      <th>2</th>\n",
       "      <td>KNN</td>\n",
       "      <td>81.310861</td>\n",
       "      <td>0.309148</td>\n",
       "      <td>5846</td>\n",
       "      <td>KNeighborsClassifier(n_neighbors=11)</td>\n",
       "    </tr>\n",
       "    <tr>\n",
       "      <th>4</th>\n",
       "      <td>QDA</td>\n",
       "      <td>80.488229</td>\n",
       "      <td>0.246629</td>\n",
       "      <td>623</td>\n",
       "      <td>QuadraticDiscriminantAnalysis()</td>\n",
       "    </tr>\n",
       "    <tr>\n",
       "      <th>12</th>\n",
       "      <td>XGB</td>\n",
       "      <td>79.997325</td>\n",
       "      <td>0.316124</td>\n",
       "      <td>26539</td>\n",
       "      <td>XGBClassifier(base_score=None, booster=None, c...</td>\n",
       "    </tr>\n",
       "    <tr>\n",
       "      <th>13</th>\n",
       "      <td>LGBM</td>\n",
       "      <td>79.497057</td>\n",
       "      <td>0.361814</td>\n",
       "      <td>4598</td>\n",
       "      <td>LGBMClassifier(feature_fraction=1.0, max_depth...</td>\n",
       "    </tr>\n",
       "    <tr>\n",
       "      <th>1</th>\n",
       "      <td>LSVM</td>\n",
       "      <td>79.416800</td>\n",
       "      <td>0.323653</td>\n",
       "      <td>1816</td>\n",
       "      <td>LinearSVC(C=0.001, random_state=42)</td>\n",
       "    </tr>\n",
       "    <tr>\n",
       "      <th>3</th>\n",
       "      <td>LDA</td>\n",
       "      <td>79.398074</td>\n",
       "      <td>0.325609</td>\n",
       "      <td>872</td>\n",
       "      <td>LinearDiscriminantAnalysis()</td>\n",
       "    </tr>\n",
       "    <tr>\n",
       "      <th>0</th>\n",
       "      <td>LR</td>\n",
       "      <td>79.218834</td>\n",
       "      <td>0.299709</td>\n",
       "      <td>2834</td>\n",
       "      <td>LogisticRegression(max_iter=1000, random_state...</td>\n",
       "    </tr>\n",
       "    <tr>\n",
       "      <th>7</th>\n",
       "      <td>DT</td>\n",
       "      <td>78.318620</td>\n",
       "      <td>0.270925</td>\n",
       "      <td>2378</td>\n",
       "      <td>DecisionTreeClassifier(criterion='entropy', ma...</td>\n",
       "    </tr>\n",
       "    <tr>\n",
       "      <th>5</th>\n",
       "      <td>GNB</td>\n",
       "      <td>77.874532</td>\n",
       "      <td>0.204371</td>\n",
       "      <td>604</td>\n",
       "      <td>GaussianNB(var_smoothing=1.0)</td>\n",
       "    </tr>\n",
       "    <tr>\n",
       "      <th>8</th>\n",
       "      <td>RF</td>\n",
       "      <td>76.431247</td>\n",
       "      <td>0.326279</td>\n",
       "      <td>504775</td>\n",
       "      <td>RandomForestClassifier(max_features='sqrt', n_...</td>\n",
       "    </tr>\n",
       "    <tr>\n",
       "      <th>10</th>\n",
       "      <td>SGD</td>\n",
       "      <td>74.383360</td>\n",
       "      <td>1.818286</td>\n",
       "      <td>2049</td>\n",
       "      <td>SGDClassifier(max_iter=350, random_state=42, t...</td>\n",
       "    </tr>\n",
       "    <tr>\n",
       "      <th>11</th>\n",
       "      <td>PCT</td>\n",
       "      <td>73.004280</td>\n",
       "      <td>3.951961</td>\n",
       "      <td>1007</td>\n",
       "      <td>Perceptron(max_iter=500, random_state=42, tol=...</td>\n",
       "    </tr>\n",
       "    <tr>\n",
       "      <th>9</th>\n",
       "      <td>ABDT</td>\n",
       "      <td>72.445158</td>\n",
       "      <td>0.556807</td>\n",
       "      <td>51655</td>\n",
       "      <td>AdaBoostClassifier(base_estimator=DecisionTree...</td>\n",
       "    </tr>\n",
       "    <tr>\n",
       "      <th>6</th>\n",
       "      <td>BNB</td>\n",
       "      <td>70.905564</td>\n",
       "      <td>0.156071</td>\n",
       "      <td>667</td>\n",
       "      <td>BernoulliNB()</td>\n",
       "    </tr>\n",
       "  </tbody>\n",
       "</table>\n",
       "</div>"
      ],
      "text/plain": [
       "   Model      Score   Std Dev  Time (ms)  \\\n",
       "14    CB  81.457999  0.361765      43896   \n",
       "2    KNN  81.310861  0.309148       5846   \n",
       "4    QDA  80.488229  0.246629        623   \n",
       "12   XGB  79.997325  0.316124      26539   \n",
       "13  LGBM  79.497057  0.361814       4598   \n",
       "1   LSVM  79.416800  0.323653       1816   \n",
       "3    LDA  79.398074  0.325609        872   \n",
       "0     LR  79.218834  0.299709       2834   \n",
       "7     DT  78.318620  0.270925       2378   \n",
       "5    GNB  77.874532  0.204371        604   \n",
       "8     RF  76.431247  0.326279     504775   \n",
       "10   SGD  74.383360  1.818286       2049   \n",
       "11   PCT  73.004280  3.951961       1007   \n",
       "9   ABDT  72.445158  0.556807      51655   \n",
       "6    BNB  70.905564  0.156071        667   \n",
       "\n",
       "                                            Estimator  \n",
       "14  <catboost.core.CatBoostClassifier object at 0x...  \n",
       "2                KNeighborsClassifier(n_neighbors=11)  \n",
       "4                     QuadraticDiscriminantAnalysis()  \n",
       "12  XGBClassifier(base_score=None, booster=None, c...  \n",
       "13  LGBMClassifier(feature_fraction=1.0, max_depth...  \n",
       "1                 LinearSVC(C=0.001, random_state=42)  \n",
       "3                        LinearDiscriminantAnalysis()  \n",
       "0   LogisticRegression(max_iter=1000, random_state...  \n",
       "7   DecisionTreeClassifier(criterion='entropy', ma...  \n",
       "5                       GaussianNB(var_smoothing=1.0)  \n",
       "8   RandomForestClassifier(max_features='sqrt', n_...  \n",
       "10  SGDClassifier(max_iter=350, random_state=42, t...  \n",
       "11  Perceptron(max_iter=500, random_state=42, tol=...  \n",
       "9   AdaBoostClassifier(base_estimator=DecisionTree...  \n",
       "6                                       BernoulliNB()  "
      ]
     },
     "execution_count": 115,
     "metadata": {},
     "output_type": "execute_result"
    }
   ],
   "source": [
    "results_df = pd.DataFrame({\n",
    "    'Model': names,\n",
    "    'Score': scores,\n",
    "    'Std Dev': stdevs,\n",
    "    'Time (ms)': times,\n",
    "    'Estimator': estimators})\n",
    "\n",
    "results_df.sort_values(by='Score', ascending=False)"
   ]
  },
  {
   "cell_type": "code",
   "execution_count": 118,
   "metadata": {
    "id": "dGp1H7jqY4Vu"
   },
   "outputs": [
    {
     "data": {
      "text/plain": [
       "<catboost.core.CatBoostClassifier at 0x7ff617e71970>"
      ]
     },
     "execution_count": 118,
     "metadata": {},
     "output_type": "execute_result"
    }
   ],
   "source": [
    "model = models['CB'][0]\n",
    "model"
   ]
  },
  {
   "cell_type": "code",
   "execution_count": 119,
   "metadata": {
    "id": "_mAciwGo5iOE",
    "scrolled": true
   },
   "outputs": [
    {
     "data": {
      "text/plain": [
       "<catboost.core.CatBoostClassifier at 0x7ff617e71970>"
      ]
     },
     "execution_count": 119,
     "metadata": {},
     "output_type": "execute_result"
    }
   ],
   "source": [
    "model.fit(X, y)"
   ]
  },
  {
   "cell_type": "code",
   "execution_count": null,
   "metadata": {},
   "outputs": [],
   "source": []
  },
  {
   "cell_type": "code",
   "execution_count": 135,
   "metadata": {
    "id": "Pwcb-2OeY_Fv"
   },
   "outputs": [
    {
     "data": {
      "text/plain": [
       "array([2, 2, 2, ..., 2, 1, 1])"
      ]
     },
     "execution_count": 135,
     "metadata": {},
     "output_type": "execute_result"
    }
   ],
   "source": [
    "y_pred = model.predict(X)\n",
    "y_pred"
   ]
  },
  {
   "cell_type": "code",
   "execution_count": 136,
   "metadata": {},
   "outputs": [
    {
     "data": {
      "text/html": [
       "<div>\n",
       "<style scoped>\n",
       "    .dataframe tbody tr th:only-of-type {\n",
       "        vertical-align: middle;\n",
       "    }\n",
       "\n",
       "    .dataframe tbody tr th {\n",
       "        vertical-align: top;\n",
       "    }\n",
       "\n",
       "    .dataframe thead th {\n",
       "        text-align: right;\n",
       "    }\n",
       "</style>\n",
       "<table border=\"1\" class=\"dataframe\">\n",
       "  <thead>\n",
       "    <tr style=\"text-align: right;\">\n",
       "      <th></th>\n",
       "      <th>REAL</th>\n",
       "      <th>PREV</th>\n",
       "    </tr>\n",
       "    <tr>\n",
       "      <th>nome</th>\n",
       "      <th></th>\n",
       "      <th></th>\n",
       "    </tr>\n",
       "  </thead>\n",
       "  <tbody>\n",
       "    <tr>\n",
       "      <th>ABDEMES</th>\n",
       "      <td>M</td>\n",
       "      <td>M</td>\n",
       "    </tr>\n",
       "    <tr>\n",
       "      <th>ABILIS</th>\n",
       "      <td>M</td>\n",
       "      <td>M</td>\n",
       "    </tr>\n",
       "    <tr>\n",
       "      <th>ABNALDO</th>\n",
       "      <td>M</td>\n",
       "      <td>M</td>\n",
       "    </tr>\n",
       "    <tr>\n",
       "      <th>ADAILZA</th>\n",
       "      <td>M</td>\n",
       "      <td>F</td>\n",
       "    </tr>\n",
       "    <tr>\n",
       "      <th>ADALBERSON</th>\n",
       "      <td>M</td>\n",
       "      <td>M</td>\n",
       "    </tr>\n",
       "  </tbody>\n",
       "</table>\n",
       "</div>"
      ],
      "text/plain": [
       "           REAL PREV\n",
       "nome                \n",
       "ABDEMES       M    M\n",
       "ABILIS        M    M\n",
       "ABNALDO       M    M\n",
       "ADAILZA       M    F\n",
       "ADALBERSON    M    M"
      ]
     },
     "execution_count": 136,
     "metadata": {},
     "output_type": "execute_result"
    }
   ],
   "source": [
    "dados = pd.DataFrame({'REAL': y, 'PREV': y_pred}, index=X.index)\n",
    "for col in dados.columns:\n",
    "    dados[col] = dados[col].map({0: 'X', 1: 'F', 2: 'M'})\n",
    "dados.head()"
   ]
  },
  {
   "cell_type": "code",
   "execution_count": 137,
   "metadata": {},
   "outputs": [
    {
     "data": {
      "text/plain": [
       "0.7844670335666735"
      ]
     },
     "execution_count": 137,
     "metadata": {},
     "output_type": "execute_result"
    }
   ],
   "source": [
    "from sklearn.metrics import accuracy_score\n",
    "\n",
    "accuracy_score(y, y_pred)"
   ]
  },
  {
   "cell_type": "code",
   "execution_count": 138,
   "metadata": {
    "id": "F8w7q7WlaxYG"
   },
   "outputs": [
    {
     "data": {
      "text/plain": [
       "array([[153126,  47749],\n",
       "       [ 35198, 148773]])"
      ]
     },
     "execution_count": 138,
     "metadata": {},
     "output_type": "execute_result"
    }
   ],
   "source": [
    "from sklearn.metrics import confusion_matrix\n",
    "\n",
    "confusion_matrix(y, y_pred)"
   ]
  },
  {
   "cell_type": "code",
   "execution_count": 139,
   "metadata": {
    "id": "POsNbYe9Zhou"
   },
   "outputs": [
    {
     "data": {
      "text/html": [
       "<div>\n",
       "<style scoped>\n",
       "    .dataframe tbody tr th:only-of-type {\n",
       "        vertical-align: middle;\n",
       "    }\n",
       "\n",
       "    .dataframe tbody tr th {\n",
       "        vertical-align: top;\n",
       "    }\n",
       "\n",
       "    .dataframe thead th {\n",
       "        text-align: right;\n",
       "    }\n",
       "</style>\n",
       "<table border=\"1\" class=\"dataframe\">\n",
       "  <thead>\n",
       "    <tr style=\"text-align: right;\">\n",
       "      <th></th>\n",
       "      <th>REAL</th>\n",
       "      <th>PREV</th>\n",
       "    </tr>\n",
       "    <tr>\n",
       "      <th>nome</th>\n",
       "      <th></th>\n",
       "      <th></th>\n",
       "    </tr>\n",
       "  </thead>\n",
       "  <tbody>\n",
       "    <tr>\n",
       "      <th>ADAILZA</th>\n",
       "      <td>M</td>\n",
       "      <td>F</td>\n",
       "    </tr>\n",
       "    <tr>\n",
       "      <th>ADERCE</th>\n",
       "      <td>F</td>\n",
       "      <td>M</td>\n",
       "    </tr>\n",
       "    <tr>\n",
       "      <th>ADEVIR</th>\n",
       "      <td>F</td>\n",
       "      <td>M</td>\n",
       "    </tr>\n",
       "    <tr>\n",
       "      <th>AGAONE</th>\n",
       "      <td>M</td>\n",
       "      <td>F</td>\n",
       "    </tr>\n",
       "    <tr>\n",
       "      <th>AGMAIR</th>\n",
       "      <td>F</td>\n",
       "      <td>M</td>\n",
       "    </tr>\n",
       "    <tr>\n",
       "      <th>ALDEIDI</th>\n",
       "      <td>F</td>\n",
       "      <td>M</td>\n",
       "    </tr>\n",
       "    <tr>\n",
       "      <th>ALDOMAR</th>\n",
       "      <td>F</td>\n",
       "      <td>M</td>\n",
       "    </tr>\n",
       "    <tr>\n",
       "      <th>ALDRIAN</th>\n",
       "      <td>F</td>\n",
       "      <td>M</td>\n",
       "    </tr>\n",
       "    <tr>\n",
       "      <th>ALDRIM</th>\n",
       "      <td>F</td>\n",
       "      <td>M</td>\n",
       "    </tr>\n",
       "    <tr>\n",
       "      <th>ALHAGIE</th>\n",
       "      <td>M</td>\n",
       "      <td>F</td>\n",
       "    </tr>\n",
       "    <tr>\n",
       "      <th>ALLYSON</th>\n",
       "      <td>F</td>\n",
       "      <td>M</td>\n",
       "    </tr>\n",
       "    <tr>\n",
       "      <th>ALODY</th>\n",
       "      <td>F</td>\n",
       "      <td>M</td>\n",
       "    </tr>\n",
       "    <tr>\n",
       "      <th>ALTAMIRO</th>\n",
       "      <td>F</td>\n",
       "      <td>M</td>\n",
       "    </tr>\n",
       "    <tr>\n",
       "      <th>ALVERIDES</th>\n",
       "      <td>F</td>\n",
       "      <td>M</td>\n",
       "    </tr>\n",
       "    <tr>\n",
       "      <th>AMYNTHAS</th>\n",
       "      <td>M</td>\n",
       "      <td>F</td>\n",
       "    </tr>\n",
       "    <tr>\n",
       "      <th>ANAI</th>\n",
       "      <td>F</td>\n",
       "      <td>M</td>\n",
       "    </tr>\n",
       "    <tr>\n",
       "      <th>ANEELY</th>\n",
       "      <td>F</td>\n",
       "      <td>M</td>\n",
       "    </tr>\n",
       "    <tr>\n",
       "      <th>ARACEL</th>\n",
       "      <td>F</td>\n",
       "      <td>M</td>\n",
       "    </tr>\n",
       "    <tr>\n",
       "      <th>ARCIZO</th>\n",
       "      <td>M</td>\n",
       "      <td>F</td>\n",
       "    </tr>\n",
       "    <tr>\n",
       "      <th>ARDLEY</th>\n",
       "      <td>M</td>\n",
       "      <td>F</td>\n",
       "    </tr>\n",
       "  </tbody>\n",
       "</table>\n",
       "</div>"
      ],
      "text/plain": [
       "          REAL PREV\n",
       "nome               \n",
       "ADAILZA      M    F\n",
       "ADERCE       F    M\n",
       "ADEVIR       F    M\n",
       "AGAONE       M    F\n",
       "AGMAIR       F    M\n",
       "ALDEIDI      F    M\n",
       "ALDOMAR      F    M\n",
       "ALDRIAN      F    M\n",
       "ALDRIM       F    M\n",
       "ALHAGIE      M    F\n",
       "ALLYSON      F    M\n",
       "ALODY        F    M\n",
       "ALTAMIRO     F    M\n",
       "ALVERIDES    F    M\n",
       "AMYNTHAS     M    F\n",
       "ANAI         F    M\n",
       "ANEELY       F    M\n",
       "ARACEL       F    M\n",
       "ARCIZO       M    F\n",
       "ARDLEY       M    F"
      ]
     },
     "execution_count": 139,
     "metadata": {},
     "output_type": "execute_result"
    }
   ],
   "source": [
    "dados[dados['REAL'] != dados['PREV']].head(20)"
   ]
  },
  {
   "cell_type": "code",
   "execution_count": null,
   "metadata": {
    "id": "wTbd2uMKv_2v"
   },
   "outputs": [],
   "source": []
  }
 ],
 "metadata": {
  "colab": {
   "collapsed_sections": [],
   "name": "61-modelo-genero-nome.ipynb",
   "provenance": []
  },
  "kernelspec": {
   "display_name": "Python 3",
   "language": "python",
   "name": "python3"
  },
  "language_info": {
   "codemirror_mode": {
    "name": "ipython",
    "version": 3
   },
   "file_extension": ".py",
   "mimetype": "text/x-python",
   "name": "python",
   "nbconvert_exporter": "python",
   "pygments_lexer": "ipython3",
   "version": "3.8.5"
  }
 },
 "nbformat": 4,
 "nbformat_minor": 1
}
