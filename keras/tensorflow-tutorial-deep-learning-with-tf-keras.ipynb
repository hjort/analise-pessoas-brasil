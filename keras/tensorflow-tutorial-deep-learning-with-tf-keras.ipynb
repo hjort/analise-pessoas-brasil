{
 "cells": [
  {
   "cell_type": "markdown",
   "id": "faa817f9",
   "metadata": {},
   "source": [
    "https://machinelearningmastery.com/tensorflow-tutorial-deep-learning-with-tf-keras/"
   ]
  },
  {
   "cell_type": "code",
   "execution_count": 22,
   "id": "6b4702da",
   "metadata": {},
   "outputs": [
    {
     "name": "stdout",
     "output_type": "stream",
     "text": [
      "2.5.0\n"
     ]
    }
   ],
   "source": [
    "import tensorflow as tf\n",
    "print(tf.__version__)"
   ]
  },
  {
   "cell_type": "markdown",
   "id": "71837a02",
   "metadata": {},
   "source": [
    "## Examples"
   ]
  },
  {
   "cell_type": "code",
   "execution_count": 47,
   "id": "b490f6a4",
   "metadata": {},
   "outputs": [
    {
     "data": {
      "text/plain": [
       "<tensorflow.python.keras.engine.sequential.Sequential at 0x7f61f0b44160>"
      ]
     },
     "execution_count": 47,
     "metadata": {},
     "output_type": "execute_result"
    }
   ],
   "source": [
    "# example of a model defined with the sequential api\n",
    "from tensorflow.keras import Sequential\n",
    "from tensorflow.keras.layers import Dense\n",
    "\n",
    "# define the model\n",
    "model = Sequential()\n",
    "model.add(Dense(10, input_shape=(8,)))\n",
    "model.add(Dense(1))\n",
    "model"
   ]
  },
  {
   "cell_type": "code",
   "execution_count": 48,
   "id": "52bdb4d7",
   "metadata": {},
   "outputs": [
    {
     "data": {
      "text/plain": [
       "<tensorflow.python.keras.engine.sequential.Sequential at 0x7f61f09a3160>"
      ]
     },
     "execution_count": 48,
     "metadata": {},
     "output_type": "execute_result"
    }
   ],
   "source": [
    "# example of a model defined with the sequential api\n",
    "from tensorflow.keras import Sequential\n",
    "from tensorflow.keras.layers import Dense\n",
    "\n",
    "# define the model\n",
    "model = Sequential()\n",
    "model.add(Dense(100, input_shape=(8,)))\n",
    "model.add(Dense(80))\n",
    "model.add(Dense(30))\n",
    "model.add(Dense(10))\n",
    "model.add(Dense(5))\n",
    "model.add(Dense(1))\n",
    "model"
   ]
  },
  {
   "cell_type": "code",
   "execution_count": 49,
   "id": "1524a742",
   "metadata": {},
   "outputs": [
    {
     "data": {
      "text/plain": [
       "<tensorflow.python.keras.engine.functional.Functional at 0x7f61f097d610>"
      ]
     },
     "execution_count": 49,
     "metadata": {},
     "output_type": "execute_result"
    }
   ],
   "source": [
    "# example of a model defined with the functional api\n",
    "from tensorflow.keras import Model\n",
    "from tensorflow.keras import Input\n",
    "from tensorflow.keras.layers import Dense\n",
    "\n",
    "# define the layers\n",
    "x_in = Input(shape=(8,))\n",
    "x = Dense(10)(x_in)\n",
    "x_out = Dense(1)(x)\n",
    "\n",
    "# define the model\n",
    "model = Model(inputs=x_in, outputs=x_out)\n",
    "model"
   ]
  },
  {
   "cell_type": "markdown",
   "id": "263264d9",
   "metadata": {},
   "source": [
    "## Develop Multilayer Perceptron Models (MLP)"
   ]
  },
  {
   "cell_type": "markdown",
   "id": "770b8aa7",
   "metadata": {},
   "source": [
    "### MLP for Binary Classification"
   ]
  },
  {
   "cell_type": "raw",
   "id": "3f269387",
   "metadata": {},
   "source": [
    "!wget --no-check-certificate https://raw.githubusercontent.com/jbrownlee/Datasets/master/ionosphere.csv"
   ]
  },
  {
   "cell_type": "code",
   "execution_count": 51,
   "id": "ef2577e7",
   "metadata": {},
   "outputs": [
    {
     "name": "stdout",
     "output_type": "stream",
     "text": [
      "(235, 34) (116, 34) (235,) (116,)\n",
      "Test Accuracy: 0.905\n",
      "Predicted: 0.993\n"
     ]
    }
   ],
   "source": [
    "# mlp for binary classification\n",
    "from pandas import read_csv\n",
    "from sklearn.model_selection import train_test_split\n",
    "from sklearn.preprocessing import LabelEncoder\n",
    "from tensorflow.keras import Sequential\n",
    "from tensorflow.keras.layers import Dense\n",
    "\n",
    "# load the dataset\n",
    "df = read_csv('ionosphere.csv', header=None)\n",
    "\n",
    "# split into input and output columns\n",
    "X, y = df.values[:, :-1], df.values[:, -1]\n",
    "\n",
    "# ensure all data are floating point values\n",
    "X = X.astype('float32')\n",
    "\n",
    "# encode strings to integer\n",
    "y = LabelEncoder().fit_transform(y)\n",
    "\n",
    "# split into train and test datasets\n",
    "X_train, X_test, y_train, y_test = train_test_split(X, y, test_size=0.33)\n",
    "print(X_train.shape, X_test.shape, y_train.shape, y_test.shape)\n",
    "\n",
    "# determine the number of input features\n",
    "n_features = X_train.shape[1]\n",
    "\n",
    "# define model\n",
    "model = Sequential()\n",
    "model.add(Dense(10, activation='relu', kernel_initializer='he_normal', input_shape=(n_features,)))\n",
    "model.add(Dense(8, activation='relu', kernel_initializer='he_normal'))\n",
    "model.add(Dense(1, activation='sigmoid'))\n",
    "\n",
    "# compile the model\n",
    "model.compile(optimizer='adam', loss='binary_crossentropy', metrics=['accuracy'])\n",
    "\n",
    "# fit the model\n",
    "model.fit(X_train, y_train, epochs=150, batch_size=32, verbose=0)\n",
    "\n",
    "# evaluate the model\n",
    "loss, acc = model.evaluate(X_test, y_test, verbose=0)\n",
    "print('Test Accuracy: %.3f' % acc)\n",
    "\n",
    "# make a prediction\n",
    "row = [1,0,0.99539,-0.05889,0.85243,0.02306,0.83398,-0.37708,\n",
    "       1,0.03760,0.85243,-0.17755,0.59755,-0.44945,0.60536,\n",
    "       -0.38223,0.84356,-0.38542,0.58212,-0.32192,0.56971,\n",
    "       -0.29674,0.36946,-0.47357,0.56811,-0.51171,0.41078,\n",
    "       -0.46168,0.21266,-0.34090,0.42267,-0.54487,0.18641,-0.45300]\n",
    "yhat = model.predict([row])\n",
    "print('Predicted: %.3f' % yhat)"
   ]
  },
  {
   "cell_type": "code",
   "execution_count": 24,
   "id": "de0cf647",
   "metadata": {},
   "outputs": [
    {
     "data": {
      "text/plain": [
       "array([[ 1.     ,  0.     ,  0.     ,  0.     ,  0.     ,  0.     ,\n",
       "         0.     ,  0.     ,  0.     ,  0.     ,  0.     ,  0.     ,\n",
       "        -1.     ,  1.     ,  1.     ,  0.55172,  0.     ,  0.     ,\n",
       "         0.     ,  0.     ,  0.     ,  0.     ,  0.     ,  0.     ,\n",
       "         0.     ,  0.     ,  1.     ,  1.     ,  0.     ,  0.     ,\n",
       "         0.     ,  0.     ,  0.     ,  0.     ],\n",
       "       [ 1.     ,  0.     ,  1.     ,  0.08013,  0.96775, -0.00482,\n",
       "         0.96683, -0.00722,  0.8798 , -0.03923,  1.     ,  0.01419,\n",
       "         0.96186, -0.01436,  0.95947, -0.01671,  0.98497,  0.01002,\n",
       "         0.91152, -0.08848,  0.95016, -0.02364,  0.94636, -0.02591,\n",
       "         0.98164,  0.02003,  0.93772, -0.03034,  1.     , -0.05843,\n",
       "         0.92774, -0.03464,  0.92226, -0.03673]], dtype=float32)"
      ]
     },
     "execution_count": 24,
     "metadata": {},
     "output_type": "execute_result"
    }
   ],
   "source": [
    "X_train[:2]"
   ]
  },
  {
   "cell_type": "code",
   "execution_count": 25,
   "id": "f3ac229d",
   "metadata": {},
   "outputs": [
    {
     "data": {
      "text/plain": [
       "array([0, 1, 0, 1, 1, 1, 0, 1, 1, 1, 1, 0, 0, 0, 1, 1, 1, 1, 1, 0])"
      ]
     },
     "execution_count": 25,
     "metadata": {},
     "output_type": "execute_result"
    }
   ],
   "source": [
    "y_train[:20]"
   ]
  },
  {
   "cell_type": "markdown",
   "id": "9fdb6a3d",
   "metadata": {},
   "source": [
    "### MLP for Multiclass Classification"
   ]
  },
  {
   "cell_type": "raw",
   "id": "a1fc556c",
   "metadata": {},
   "source": [
    "!wget --no-check-certificate https://raw.githubusercontent.com/jbrownlee/Datasets/master/iris.csv"
   ]
  },
  {
   "cell_type": "code",
   "execution_count": 26,
   "id": "7450addf",
   "metadata": {},
   "outputs": [
    {
     "name": "stdout",
     "output_type": "stream",
     "text": [
      "(100, 4) (50, 4) (100,) (50,)\n",
      "Test Accuracy: 0.780\n",
      "Predicted: [[0.97428775 0.00474996 0.02096232]] (class=0)\n"
     ]
    }
   ],
   "source": [
    "# mlp for multiclass classification\n",
    "from numpy import argmax\n",
    "from pandas import read_csv\n",
    "from sklearn.model_selection import train_test_split\n",
    "from sklearn.preprocessing import LabelEncoder\n",
    "from tensorflow.keras import Sequential\n",
    "from tensorflow.keras.layers import Dense\n",
    "\n",
    "# load the dataset\n",
    "df = read_csv('iris.csv', header=None)\n",
    "\n",
    "# split into input and output columns\n",
    "X, y = df.values[:, :-1], df.values[:, -1]\n",
    "\n",
    "# ensure all data are floating point values\n",
    "X = X.astype('float32')\n",
    "\n",
    "# encode strings to integer\n",
    "y = LabelEncoder().fit_transform(y)\n",
    "\n",
    "# split into train and test datasets\n",
    "X_train, X_test, y_train, y_test = train_test_split(X, y, test_size=0.33)\n",
    "print(X_train.shape, X_test.shape, y_train.shape, y_test.shape)\n",
    "\n",
    "# determine the number of input features\n",
    "n_features = X_train.shape[1]\n",
    "\n",
    "# define model\n",
    "model = Sequential()\n",
    "model.add(Dense(10, activation='relu', kernel_initializer='he_normal', input_shape=(n_features,)))\n",
    "model.add(Dense(8, activation='relu', kernel_initializer='he_normal'))\n",
    "model.add(Dense(3, activation='softmax'))\n",
    "\n",
    "# compile the model\n",
    "model.compile(optimizer='adam', loss='sparse_categorical_crossentropy', metrics=['accuracy'])\n",
    "\n",
    "# fit the model\n",
    "model.fit(X_train, y_train, epochs=150, batch_size=32, verbose=0)\n",
    "\n",
    "# evaluate the model\n",
    "loss, acc = model.evaluate(X_test, y_test, verbose=0)\n",
    "print('Test Accuracy: %.3f' % acc)\n",
    "\n",
    "# make a prediction\n",
    "row = [5.1,3.5,1.4,0.2]\n",
    "yhat = model.predict([row])\n",
    "print('Predicted: %s (class=%d)' % (yhat, argmax(yhat)))"
   ]
  },
  {
   "cell_type": "code",
   "execution_count": 27,
   "id": "e2a2e1cb",
   "metadata": {},
   "outputs": [
    {
     "data": {
      "text/plain": [
       "array([[6.8, 3.2, 5.9, 2.3],\n",
       "       [5. , 3.3, 1.4, 0.2],\n",
       "       [6.7, 3. , 5. , 1.7],\n",
       "       [5.9, 3. , 5.1, 1.8],\n",
       "       [4.6, 3.1, 1.5, 0.2]], dtype=float32)"
      ]
     },
     "execution_count": 27,
     "metadata": {},
     "output_type": "execute_result"
    }
   ],
   "source": [
    "X_train[:5]"
   ]
  },
  {
   "cell_type": "code",
   "execution_count": 28,
   "id": "618809dd",
   "metadata": {},
   "outputs": [
    {
     "data": {
      "text/plain": [
       "array([2, 0, 1, 2, 0, 0, 2, 0, 2, 2, 2, 2, 2, 1, 0, 1, 1, 1, 1, 0])"
      ]
     },
     "execution_count": 28,
     "metadata": {},
     "output_type": "execute_result"
    }
   ],
   "source": [
    "y_train[:20]"
   ]
  },
  {
   "cell_type": "markdown",
   "id": "495bdc69",
   "metadata": {},
   "source": [
    "### MLP for Regression"
   ]
  },
  {
   "cell_type": "raw",
   "id": "a5d7744b",
   "metadata": {},
   "source": [
    "!wget --no-check-certificate https://raw.githubusercontent.com/jbrownlee/Datasets/master/housing.csv"
   ]
  },
  {
   "cell_type": "code",
   "execution_count": 29,
   "id": "99d10937",
   "metadata": {},
   "outputs": [
    {
     "name": "stdout",
     "output_type": "stream",
     "text": [
      "(339, 13) (167, 13) (339,) (167,)\n",
      "MSE: 58.092, RMSE: 7.622\n",
      "Predicted: 26.922\n"
     ]
    }
   ],
   "source": [
    "# mlp for regression\n",
    "from numpy import sqrt\n",
    "from pandas import read_csv\n",
    "from sklearn.model_selection import train_test_split\n",
    "from tensorflow.keras import Sequential\n",
    "from tensorflow.keras.layers import Dense\n",
    "\n",
    "# load the dataset\n",
    "df = read_csv('housing.csv', header=None)\n",
    "\n",
    "# split into input and output columns\n",
    "X, y = df.values[:, :-1], df.values[:, -1]\n",
    "\n",
    "# split into train and test datasets\n",
    "X_train, X_test, y_train, y_test = train_test_split(X, y, test_size=0.33)\n",
    "print(X_train.shape, X_test.shape, y_train.shape, y_test.shape)\n",
    "\n",
    "# determine the number of input features\n",
    "n_features = X_train.shape[1]\n",
    "\n",
    "# define model\n",
    "model = Sequential()\n",
    "model.add(Dense(10, activation='relu', kernel_initializer='he_normal', input_shape=(n_features,)))\n",
    "model.add(Dense(8, activation='relu', kernel_initializer='he_normal'))\n",
    "model.add(Dense(1))\n",
    "\n",
    "# compile the model\n",
    "model.compile(optimizer='adam', loss='mse')\n",
    "\n",
    "# fit the model\n",
    "model.fit(X_train, y_train, epochs=150, batch_size=32, verbose=0)\n",
    "\n",
    "# evaluate the model\n",
    "error = model.evaluate(X_test, y_test, verbose=0)\n",
    "print('MSE: %.3f, RMSE: %.3f' % (error, sqrt(error)))\n",
    "\n",
    "# make a prediction\n",
    "row = [0.00632,18.00,2.310,0,0.5380,6.5750,65.20,4.0900,1,296.0,15.30,396.90,4.98]\n",
    "yhat = model.predict([row])\n",
    "print('Predicted: %.3f' % yhat)"
   ]
  },
  {
   "cell_type": "code",
   "execution_count": 30,
   "id": "b5f42c2c",
   "metadata": {},
   "outputs": [
    {
     "data": {
      "text/plain": [
       "array([[5.6020e-02, 0.0000e+00, 2.4600e+00, 0.0000e+00, 4.8800e-01,\n",
       "        7.8310e+00, 5.3600e+01, 3.1992e+00, 3.0000e+00, 1.9300e+02,\n",
       "        1.7800e+01, 3.9263e+02, 4.4500e+00],\n",
       "       [8.8290e-02, 1.2500e+01, 7.8700e+00, 0.0000e+00, 5.2400e-01,\n",
       "        6.0120e+00, 6.6600e+01, 5.5605e+00, 5.0000e+00, 3.1100e+02,\n",
       "        1.5200e+01, 3.9560e+02, 1.2430e+01]])"
      ]
     },
     "execution_count": 30,
     "metadata": {},
     "output_type": "execute_result"
    }
   ],
   "source": [
    "X_train[:2]"
   ]
  },
  {
   "cell_type": "code",
   "execution_count": 31,
   "id": "c53a628b",
   "metadata": {},
   "outputs": [
    {
     "data": {
      "text/plain": [
       "array([50. , 22.9, 16.4, 11.3, 18.6, 23.8, 22.9, 20.6, 18.5, 17.8, 25. ,\n",
       "       12.7, 18.5, 15. , 10.2, 16. , 19.7, 15.7, 22.4, 29.1])"
      ]
     },
     "execution_count": 31,
     "metadata": {},
     "output_type": "execute_result"
    }
   ],
   "source": [
    "y_train[:20]"
   ]
  },
  {
   "cell_type": "markdown",
   "id": "7cb6db8c",
   "metadata": {},
   "source": [
    "## Develop Convolutional Neural Network Models (CNN)"
   ]
  },
  {
   "cell_type": "markdown",
   "id": "cff42678",
   "metadata": {},
   "source": [
    "### CNN for image classification in MNIST handwritten digits"
   ]
  },
  {
   "cell_type": "code",
   "execution_count": 32,
   "id": "eb4686f4",
   "metadata": {},
   "outputs": [
    {
     "name": "stdout",
     "output_type": "stream",
     "text": [
      "Train: X=(60000, 28, 28), y=(60000,)\n",
      "Test: X=(10000, 28, 28), y=(10000,)\n"
     ]
    },
    {
     "data": {
      "image/png": "[encoded data removed]",
      "text/plain": [
       "<Figure size 432x288 with 25 Axes>"
      ]
     },
     "metadata": {
      "needs_background": "light"
     },
     "output_type": "display_data"
    }
   ],
   "source": [
    "# example of loading and plotting the mnist dataset\n",
    "from tensorflow.keras.datasets.mnist import load_data\n",
    "from matplotlib import pyplot\n",
    "\n",
    "# load dataset\n",
    "(trainX, trainy), (testX, testy) = load_data()\n",
    "\n",
    "# summarize loaded dataset\n",
    "print('Train: X=%s, y=%s' % (trainX.shape, trainy.shape))\n",
    "print('Test: X=%s, y=%s' % (testX.shape, testy.shape))\n",
    "\n",
    "# plot first few images\n",
    "for i in range(25):\n",
    "    # define subplot\n",
    "    pyplot.subplot(5, 5, i+1)\n",
    "    # plot raw pixel data\n",
    "    pyplot.imshow(trainX[i], cmap=pyplot.get_cmap('gray'))\n",
    "\n",
    "# show the figure\n",
    "pyplot.show()"
   ]
  },
  {
   "cell_type": "markdown",
   "id": "17172213",
   "metadata": {},
   "source": [
    "### CNN model on the MNIST dataset"
   ]
  },
  {
   "cell_type": "code",
   "execution_count": 44,
   "id": "69a013c8",
   "metadata": {},
   "outputs": [
    {
     "name": "stdout",
     "output_type": "stream",
     "text": [
      "(28, 28, 1) 10\n",
      "Accuracy: 0.986\n",
      "Predicted: class=5\n"
     ]
    }
   ],
   "source": [
    "# example of a cnn for image classification\n",
    "from numpy import asarray\n",
    "from numpy import unique\n",
    "from numpy import argmax\n",
    "from tensorflow.keras.datasets.mnist import load_data\n",
    "from tensorflow.keras import Sequential\n",
    "from tensorflow.keras.layers import Dense\n",
    "from tensorflow.keras.layers import Conv2D\n",
    "from tensorflow.keras.layers import MaxPool2D\n",
    "from tensorflow.keras.layers import Flatten\n",
    "from tensorflow.keras.layers import Dropout\n",
    "\n",
    "# load dataset\n",
    "(x_train, y_train), (x_test, y_test) = load_data()\n",
    "\n",
    "# reshape data to have a single channel\n",
    "x_train = x_train.reshape((x_train.shape[0], x_train.shape[1], x_train.shape[2], 1))\n",
    "x_test = x_test.reshape((x_test.shape[0], x_test.shape[1], x_test.shape[2], 1))\n",
    "\n",
    "# determine the shape of the input images\n",
    "in_shape = x_train.shape[1:]\n",
    "\n",
    "# determine the number of classes\n",
    "n_classes = len(unique(y_train))\n",
    "print(in_shape, n_classes)\n",
    "\n",
    "# normalize pixel values\n",
    "x_train = x_train.astype('float32') / 255.0\n",
    "x_test = x_test.astype('float32') / 255.0\n",
    "\n",
    "# define model\n",
    "model = Sequential()\n",
    "model.add(Conv2D(32, (3,3), activation='relu', kernel_initializer='he_uniform', input_shape=in_shape))\n",
    "model.add(MaxPool2D((2, 2)))\n",
    "model.add(Flatten())\n",
    "model.add(Dense(100, activation='relu', kernel_initializer='he_uniform'))\n",
    "model.add(Dropout(0.5))\n",
    "model.add(Dense(n_classes, activation='softmax'))\n",
    "\n",
    "# define loss and optimizer\n",
    "model.compile(optimizer='adam', loss='sparse_categorical_crossentropy', metrics=['accuracy'])\n",
    "\n",
    "# fit the model\n",
    "model.fit(x_train, y_train, epochs=10, batch_size=128, verbose=0)\n",
    "\n",
    "# evaluate the model\n",
    "loss, acc = model.evaluate(x_test, y_test, verbose=0)\n",
    "print('Accuracy: %.3f' % acc)\n",
    "\n",
    "# make a prediction\n",
    "image = x_train[0]\n",
    "yhat = model.predict(asarray([image]))\n",
    "print('Predicted: class=%d' % argmax(yhat))"
   ]
  },
  {
   "cell_type": "code",
   "execution_count": 45,
   "id": "5f6c5325",
   "metadata": {},
   "outputs": [
    {
     "data": {
      "text/plain": [
       "array([[[ 6550.],\n",
       "        [ 8728.],\n",
       "        [12026.],\n",
       "        [14395.],\n",
       "        [14587.]]], dtype=float32)"
      ]
     },
     "execution_count": 45,
     "metadata": {},
     "output_type": "execute_result"
    }
   ],
   "source": [
    "X_train[:1]"
   ]
  },
  {
   "cell_type": "code",
   "execution_count": 46,
   "id": "415a16d0",
   "metadata": {},
   "outputs": [
    {
     "data": {
      "text/plain": [
       "array([5, 0, 4, 1, 9, 2, 1, 3, 1, 4, 3, 5, 3, 6, 1, 7, 2, 8, 6, 9],\n",
       "      dtype=uint8)"
      ]
     },
     "execution_count": 46,
     "metadata": {},
     "output_type": "execute_result"
    }
   ],
   "source": [
    "y_train[:20]"
   ]
  },
  {
   "cell_type": "markdown",
   "id": "0c766be1",
   "metadata": {},
   "source": [
    "## Develop Recurrent Neural Network Models (RNN)"
   ]
  },
  {
   "cell_type": "markdown",
   "id": "56ffa644",
   "metadata": {},
   "source": [
    "### LSTM for a univariate time series forecasting problem"
   ]
  },
  {
   "cell_type": "raw",
   "id": "8d656a2a",
   "metadata": {},
   "source": [
    "!wget --no-check-certificate https://raw.githubusercontent.com/jbrownlee/Datasets/master/monthly-car-sales.csv"
   ]
  },
  {
   "cell_type": "code",
   "execution_count": 36,
   "id": "5039486b",
   "metadata": {},
   "outputs": [
    {
     "name": "stdout",
     "output_type": "stream",
     "text": [
      "(91, 5, 1) (12, 5, 1) (91,) (12,)\n",
      "Epoch 1/350\n",
      "3/3 - 1s - loss: 10156506112.0000 - mae: 98028.5859 - val_loss: 9313387520.0000 - val_mae: 95925.7734\n",
      "Epoch 2/350\n",
      "3/3 - 0s - loss: 4993944064.0000 - mae: 69143.2891 - val_loss: 5219676672.0000 - val_mae: 71877.4766\n",
      "Epoch 3/350\n",
      "3/3 - 0s - loss: 2773488384.0000 - mae: 51360.2656 - val_loss: 2666469376.0000 - val_mae: 51184.1250\n",
      "Epoch 4/350\n",
      "3/3 - 0s - loss: 1412088832.0000 - mae: 36627.3906 - val_loss: 1245964160.0000 - val_mae: 34913.1680\n",
      "Epoch 5/350\n",
      "3/3 - 0s - loss: 636040448.0000 - mae: 24402.3711 - val_loss: 454653600.0000 - val_mae: 20788.7676\n",
      "Epoch 6/350\n",
      "3/3 - 0s - loss: 215616976.0000 - mae: 13839.2266 - val_loss: 97145608.0000 - val_mae: 8787.5459\n",
      "Epoch 7/350\n",
      "3/3 - 0s - loss: 42022460.0000 - mae: 5368.4473 - val_loss: 23293942.0000 - val_mae: 4348.4067\n",
      "Epoch 8/350\n",
      "3/3 - 0s - loss: 21568114.0000 - mae: 3690.3547 - val_loss: 77725800.0000 - val_mae: 7603.9995\n",
      "Epoch 9/350\n",
      "3/3 - 0s - loss: 66285564.0000 - mae: 6961.9438 - val_loss: 168894768.0000 - val_mae: 12098.8320\n",
      "Epoch 10/350\n",
      "3/3 - 0s - loss: 118084008.0000 - mae: 9773.7207 - val_loss: 206828592.0000 - val_mae: 13526.7812\n",
      "Epoch 11/350\n",
      "3/3 - 0s - loss: 135115424.0000 - mae: 10590.6172 - val_loss: 192547056.0000 - val_mae: 13004.9561\n",
      "Epoch 12/350\n",
      "3/3 - 0s - loss: 116658336.0000 - mae: 9701.0771 - val_loss: 140328496.0000 - val_mae: 10750.6396\n",
      "Epoch 13/350\n",
      "3/3 - 0s - loss: 80580976.0000 - mae: 7854.5576 - val_loss: 80142456.0000 - val_mae: 7721.3901\n",
      "Epoch 14/350\n",
      "3/3 - 0s - loss: 47064068.0000 - mae: 5723.4565 - val_loss: 40156188.0000 - val_mae: 5330.5151\n",
      "Epoch 15/350\n",
      "3/3 - 0s - loss: 24778198.0000 - mae: 4041.2769 - val_loss: 20991422.0000 - val_mae: 4071.2488\n",
      "Epoch 16/350\n",
      "3/3 - 0s - loss: 14242674.0000 - mae: 3165.1318 - val_loss: 14425784.0000 - val_mae: 3573.8066\n",
      "Epoch 17/350\n",
      "3/3 - 0s - loss: 11518357.0000 - mae: 2663.7544 - val_loss: 14519731.0000 - val_mae: 2891.0198\n",
      "Epoch 18/350\n",
      "3/3 - 0s - loss: 13559459.0000 - mae: 2862.3074 - val_loss: 17700592.0000 - val_mae: 2922.3411\n",
      "Epoch 19/350\n",
      "3/3 - 0s - loss: 16289255.0000 - mae: 3156.5007 - val_loss: 20433102.0000 - val_mae: 3201.9602\n",
      "Epoch 20/350\n",
      "3/3 - 0s - loss: 17615150.0000 - mae: 3312.4841 - val_loss: 20869046.0000 - val_mae: 3272.9807\n",
      "Epoch 21/350\n",
      "3/3 - 0s - loss: 17236138.0000 - mae: 3260.6167 - val_loss: 19530488.0000 - val_mae: 3115.9961\n",
      "Epoch 22/350\n",
      "3/3 - 0s - loss: 15818898.0000 - mae: 3125.7080 - val_loss: 17338186.0000 - val_mae: 2919.3704\n",
      "Epoch 23/350\n",
      "3/3 - 0s - loss: 14103099.0000 - mae: 2927.3372 - val_loss: 15242555.0000 - val_mae: 2910.6504\n",
      "Epoch 24/350\n",
      "3/3 - 0s - loss: 12445780.0000 - mae: 2727.0830 - val_loss: 13766679.0000 - val_mae: 2928.9153\n",
      "Epoch 25/350\n",
      "3/3 - 0s - loss: 11456380.0000 - mae: 2621.7112 - val_loss: 13132753.0000 - val_mae: 3130.5154\n",
      "Epoch 26/350\n",
      "3/3 - 0s - loss: 11112801.0000 - mae: 2614.7366 - val_loss: 13177359.0000 - val_mae: 3325.4739\n",
      "Epoch 27/350\n",
      "3/3 - 0s - loss: 11022937.0000 - mae: 2620.2991 - val_loss: 13422891.0000 - val_mae: 3440.2539\n",
      "Epoch 28/350\n",
      "3/3 - 0s - loss: 11150091.0000 - mae: 2649.6750 - val_loss: 13659476.0000 - val_mae: 3503.8984\n",
      "Epoch 29/350\n",
      "3/3 - 0s - loss: 11272041.0000 - mae: 2665.4573 - val_loss: 13764555.0000 - val_mae: 3528.2664\n",
      "Epoch 30/350\n",
      "3/3 - 0s - loss: 11251835.0000 - mae: 2653.8091 - val_loss: 13619392.0000 - val_mae: 3495.3391\n",
      "Epoch 31/350\n",
      "3/3 - 0s - loss: 11107883.0000 - mae: 2620.2075 - val_loss: 13434541.0000 - val_mae: 3445.8623\n",
      "Epoch 32/350\n",
      "3/3 - 0s - loss: 10947131.0000 - mae: 2593.9480 - val_loss: 13267316.0000 - val_mae: 3389.3333\n",
      "Epoch 33/350\n",
      "3/3 - 0s - loss: 11131665.0000 - mae: 2624.1975 - val_loss: 13121157.0000 - val_mae: 3315.1680\n",
      "Epoch 34/350\n",
      "3/3 - 0s - loss: 13659063.0000 - mae: 2803.0535 - val_loss: 13060567.0000 - val_mae: 3244.1113\n",
      "Epoch 35/350\n",
      "3/3 - 0s - loss: 12330150.0000 - mae: 2674.3054 - val_loss: 13079563.0000 - val_mae: 3170.8274\n",
      "Epoch 36/350\n",
      "3/3 - 0s - loss: 10724677.0000 - mae: 2532.4517 - val_loss: 13163440.0000 - val_mae: 3104.8379\n",
      "Epoch 37/350\n",
      "3/3 - 0s - loss: 11071641.0000 - mae: 2571.2812 - val_loss: 13214533.0000 - val_mae: 3086.8025\n",
      "Epoch 38/350\n",
      "3/3 - 0s - loss: 11028142.0000 - mae: 2562.9343 - val_loss: 13184203.0000 - val_mae: 3100.9119\n",
      "Epoch 39/350\n",
      "3/3 - 0s - loss: 11211464.0000 - mae: 2591.9297 - val_loss: 13155264.0000 - val_mae: 3126.9534\n",
      "Epoch 40/350\n",
      "3/3 - 0s - loss: 11117207.0000 - mae: 2582.2896 - val_loss: 13132709.0000 - val_mae: 3179.6257\n",
      "Epoch 41/350\n",
      "3/3 - 0s - loss: 11058931.0000 - mae: 2579.4221 - val_loss: 13194603.0000 - val_mae: 3265.4092\n",
      "Epoch 42/350\n",
      "3/3 - 0s - loss: 11051668.0000 - mae: 2586.6360 - val_loss: 13250109.0000 - val_mae: 3318.6287\n",
      "Epoch 43/350\n",
      "3/3 - 0s - loss: 11055920.0000 - mae: 2606.3669 - val_loss: 13395727.0000 - val_mae: 3372.0833\n",
      "Epoch 44/350\n",
      "3/3 - 0s - loss: 11065195.0000 - mae: 2623.4243 - val_loss: 13417200.0000 - val_mae: 3381.6279\n",
      "Epoch 45/350\n",
      "3/3 - 0s - loss: 11020440.0000 - mae: 2610.3555 - val_loss: 13405912.0000 - val_mae: 3373.6960\n",
      "Epoch 46/350\n",
      "3/3 - 0s - loss: 11005544.0000 - mae: 2604.7754 - val_loss: 13370561.0000 - val_mae: 3351.9485\n",
      "Epoch 47/350\n",
      "3/3 - 0s - loss: 11115455.0000 - mae: 2630.7063 - val_loss: 13347672.0000 - val_mae: 3338.9519\n",
      "Epoch 48/350\n",
      "3/3 - 0s - loss: 11105128.0000 - mae: 2627.0073 - val_loss: 13334912.0000 - val_mae: 3334.0632\n",
      "Epoch 49/350\n",
      "3/3 - 0s - loss: 11088140.0000 - mae: 2621.9968 - val_loss: 13302525.0000 - val_mae: 3312.4119\n",
      "Epoch 50/350\n",
      "3/3 - 0s - loss: 11068251.0000 - mae: 2617.5801 - val_loss: 13285819.0000 - val_mae: 3308.8359\n",
      "Epoch 51/350\n",
      "3/3 - 0s - loss: 11067247.0000 - mae: 2613.8394 - val_loss: 13255789.0000 - val_mae: 3288.1038\n",
      "Epoch 52/350\n",
      "3/3 - 0s - loss: 11041338.0000 - mae: 2610.1108 - val_loss: 13229035.0000 - val_mae: 3289.6379\n",
      "Epoch 53/350\n",
      "3/3 - 0s - loss: 10841175.0000 - mae: 2567.6946 - val_loss: 13136765.0000 - val_mae: 3284.9060\n",
      "Epoch 54/350\n",
      "3/3 - 0s - loss: 10812870.0000 - mae: 2559.3843 - val_loss: 13106976.0000 - val_mae: 3269.5713\n",
      "Epoch 55/350\n",
      "3/3 - 0s - loss: 10802834.0000 - mae: 2555.7056 - val_loss: 13071976.0000 - val_mae: 3255.4824\n",
      "Epoch 56/350\n",
      "3/3 - 0s - loss: 10731936.0000 - mae: 2545.8191 - val_loss: 13055517.0000 - val_mae: 3265.2004\n",
      "Epoch 57/350\n",
      "3/3 - 0s - loss: 10711802.0000 - mae: 2542.5488 - val_loss: 13034891.0000 - val_mae: 3268.1111\n",
      "Epoch 58/350\n",
      "3/3 - 0s - loss: 10712158.0000 - mae: 2543.2441 - val_loss: 12980184.0000 - val_mae: 3259.3953\n",
      "Epoch 59/350\n",
      "3/3 - 0s - loss: 10689176.0000 - mae: 2541.0049 - val_loss: 12961844.0000 - val_mae: 3267.1680\n",
      "Epoch 60/350\n",
      "3/3 - 0s - loss: 10668706.0000 - mae: 2539.4915 - val_loss: 12941077.0000 - val_mae: 3269.6995\n",
      "Epoch 61/350\n",
      "3/3 - 0s - loss: 10659291.0000 - mae: 2539.1370 - val_loss: 12918735.0000 - val_mae: 3272.7605\n",
      "Epoch 62/350\n",
      "3/3 - 0s - loss: 10638907.0000 - mae: 2535.3860 - val_loss: 12882995.0000 - val_mae: 3257.4180\n",
      "Epoch 63/350\n",
      "3/3 - 0s - loss: 10648746.0000 - mae: 2536.5864 - val_loss: 12868957.0000 - val_mae: 3265.5098\n",
      "Epoch 64/350\n",
      "3/3 - 0s - loss: 10599316.0000 - mae: 2531.1099 - val_loss: 12826312.0000 - val_mae: 3246.4158\n",
      "Epoch 65/350\n",
      "3/3 - 0s - loss: 10566516.0000 - mae: 2522.3796 - val_loss: 12787287.0000 - val_mae: 3226.8093\n",
      "Epoch 66/350\n",
      "3/3 - 0s - loss: 10552980.0000 - mae: 2519.7805 - val_loss: 12763804.0000 - val_mae: 3223.8547\n",
      "Epoch 67/350\n",
      "3/3 - 0s - loss: 10530459.0000 - mae: 2514.1843 - val_loss: 12730888.0000 - val_mae: 3202.8606\n",
      "Epoch 68/350\n",
      "3/3 - 0s - loss: 10513208.0000 - mae: 2508.0398 - val_loss: 12709019.0000 - val_mae: 3192.3518\n",
      "Epoch 69/350\n",
      "3/3 - 0s - loss: 10508399.0000 - mae: 2506.7900 - val_loss: 12679533.0000 - val_mae: 3180.0369\n",
      "Epoch 70/350\n",
      "3/3 - 0s - loss: 10467448.0000 - mae: 2500.4302 - val_loss: 12659976.0000 - val_mae: 3192.0950\n",
      "Epoch 71/350\n",
      "3/3 - 0s - loss: 10461320.0000 - mae: 2504.0576 - val_loss: 12650451.0000 - val_mae: 3217.5535\n",
      "Epoch 72/350\n",
      "3/3 - 0s - loss: 10420825.0000 - mae: 2501.6150 - val_loss: 12631049.0000 - val_mae: 3224.1672\n",
      "Epoch 73/350\n",
      "3/3 - 0s - loss: 10398358.0000 - mae: 2499.6304 - val_loss: 12605855.0000 - val_mae: 3222.0496\n",
      "Epoch 74/350\n",
      "3/3 - 0s - loss: 10394427.0000 - mae: 2498.3552 - val_loss: 12590492.0000 - val_mae: 3233.0637\n",
      "Epoch 75/350\n",
      "3/3 - 0s - loss: 10354814.0000 - mae: 2493.6938 - val_loss: 12531791.0000 - val_mae: 3211.5117\n",
      "Epoch 76/350\n",
      "3/3 - 0s - loss: 10326498.0000 - mae: 2487.8569 - val_loss: 12494029.0000 - val_mae: 3190.8552\n"
     ]
    },
    {
     "name": "stdout",
     "output_type": "stream",
     "text": [
      "Epoch 77/350\n",
      "3/3 - 0s - loss: 10301707.0000 - mae: 2482.9805 - val_loss: 12471700.0000 - val_mae: 3194.6829\n",
      "Epoch 78/350\n",
      "3/3 - 0s - loss: 10268082.0000 - mae: 2478.7168 - val_loss: 12447471.0000 - val_mae: 3192.6670\n",
      "Epoch 79/350\n",
      "3/3 - 0s - loss: 10248790.0000 - mae: 2475.6897 - val_loss: 12419432.0000 - val_mae: 3187.9363\n",
      "Epoch 80/350\n",
      "3/3 - 0s - loss: 10236102.0000 - mae: 2472.8257 - val_loss: 12384164.0000 - val_mae: 3168.0566\n",
      "Epoch 81/350\n",
      "3/3 - 0s - loss: 10211623.0000 - mae: 2468.1404 - val_loss: 12364576.0000 - val_mae: 3175.1853\n",
      "Epoch 82/350\n",
      "3/3 - 0s - loss: 10168612.0000 - mae: 2462.4702 - val_loss: 12327555.0000 - val_mae: 3159.3018\n",
      "Epoch 83/350\n",
      "3/3 - 0s - loss: 10145352.0000 - mae: 2457.9209 - val_loss: 12302643.0000 - val_mae: 3157.6121\n",
      "Epoch 84/350\n",
      "3/3 - 0s - loss: 10117259.0000 - mae: 2454.3691 - val_loss: 12269532.0000 - val_mae: 3148.8362\n",
      "Epoch 85/350\n",
      "3/3 - 0s - loss: 10087845.0000 - mae: 2448.9749 - val_loss: 12241445.0000 - val_mae: 3151.0020\n",
      "Epoch 86/350\n",
      "3/3 - 0s - loss: 10058747.0000 - mae: 2445.8557 - val_loss: 12211424.0000 - val_mae: 3147.9255\n",
      "Epoch 87/350\n",
      "3/3 - 0s - loss: 10037038.0000 - mae: 2441.5142 - val_loss: 12182083.0000 - val_mae: 3142.9426\n",
      "Epoch 88/350\n",
      "3/3 - 0s - loss: 10007648.0000 - mae: 2437.3416 - val_loss: 12147635.0000 - val_mae: 3137.8584\n",
      "Epoch 89/350\n",
      "3/3 - 0s - loss: 9981924.0000 - mae: 2433.7214 - val_loss: 12120968.0000 - val_mae: 3147.5886\n",
      "Epoch 90/350\n",
      "3/3 - 0s - loss: 9950466.0000 - mae: 2431.2939 - val_loss: 12092309.0000 - val_mae: 3143.7727\n",
      "Epoch 91/350\n",
      "3/3 - 0s - loss: 9931805.0000 - mae: 2427.8145 - val_loss: 12055803.0000 - val_mae: 3134.8816\n",
      "Epoch 92/350\n",
      "3/3 - 0s - loss: 9911510.0000 - mae: 2423.7507 - val_loss: 12020433.0000 - val_mae: 3123.3079\n",
      "Epoch 93/350\n",
      "3/3 - 0s - loss: 9869474.0000 - mae: 2416.9146 - val_loss: 11993709.0000 - val_mae: 3127.7861\n",
      "Epoch 94/350\n",
      "3/3 - 0s - loss: 9852659.0000 - mae: 2416.2046 - val_loss: 11975515.0000 - val_mae: 3141.0691\n",
      "Epoch 95/350\n",
      "3/3 - 0s - loss: 9822125.0000 - mae: 2414.1389 - val_loss: 11935153.0000 - val_mae: 3126.4551\n",
      "Epoch 96/350\n",
      "3/3 - 0s - loss: 9806868.0000 - mae: 2410.0986 - val_loss: 11892080.0000 - val_mae: 3106.8447\n",
      "Epoch 97/350\n",
      "3/3 - 0s - loss: 9765955.0000 - mae: 2403.0854 - val_loss: 11862848.0000 - val_mae: 3105.0486\n",
      "Epoch 98/350\n",
      "3/3 - 0s - loss: 9735923.0000 - mae: 2398.9365 - val_loss: 11838501.0000 - val_mae: 3105.8328\n",
      "Epoch 99/350\n",
      "3/3 - 0s - loss: 9726537.0000 - mae: 2395.5454 - val_loss: 11804508.0000 - val_mae: 3093.6680\n",
      "Epoch 100/350\n",
      "3/3 - 0s - loss: 9684644.0000 - mae: 2391.0146 - val_loss: 11779368.0000 - val_mae: 3095.4119\n",
      "Epoch 101/350\n",
      "3/3 - 0s - loss: 9653195.0000 - mae: 2388.1277 - val_loss: 11752805.0000 - val_mae: 3096.6228\n",
      "Epoch 102/350\n",
      "3/3 - 0s - loss: 9636903.0000 - mae: 2386.0222 - val_loss: 11725013.0000 - val_mae: 3092.3411\n",
      "Epoch 103/350\n",
      "3/3 - 0s - loss: 9616219.0000 - mae: 2383.0403 - val_loss: 11693453.0000 - val_mae: 3081.7432\n",
      "Epoch 104/350\n",
      "3/3 - 0s - loss: 9598738.0000 - mae: 2379.5427 - val_loss: 11669136.0000 - val_mae: 3080.0564\n",
      "Epoch 105/350\n",
      "3/3 - 0s - loss: 9576757.0000 - mae: 2377.1843 - val_loss: 11632521.0000 - val_mae: 3064.9119\n",
      "Epoch 106/350\n",
      "3/3 - 0s - loss: 9560447.0000 - mae: 2373.8691 - val_loss: 11605467.0000 - val_mae: 3050.2803\n",
      "Epoch 107/350\n",
      "3/3 - 0s - loss: 9553789.0000 - mae: 2374.5657 - val_loss: 11584312.0000 - val_mae: 3053.2820\n",
      "Epoch 108/350\n",
      "3/3 - 0s - loss: 9518144.0000 - mae: 2368.1997 - val_loss: 11549907.0000 - val_mae: 3021.6074\n",
      "Epoch 109/350\n",
      "3/3 - 0s - loss: 9494679.0000 - mae: 2364.7458 - val_loss: 11527141.0000 - val_mae: 3011.5940\n",
      "Epoch 110/350\n",
      "3/3 - 0s - loss: 9488478.0000 - mae: 2364.1252 - val_loss: 11506499.0000 - val_mae: 3014.8611\n",
      "Epoch 111/350\n",
      "3/3 - 0s - loss: 9468693.0000 - mae: 2359.9207 - val_loss: 11487849.0000 - val_mae: 2991.8650\n",
      "Epoch 112/350\n",
      "3/3 - 0s - loss: 9455709.0000 - mae: 2358.3396 - val_loss: 11465907.0000 - val_mae: 3006.3438\n",
      "Epoch 113/350\n",
      "3/3 - 0s - loss: 9432558.0000 - mae: 2358.5278 - val_loss: 11455509.0000 - val_mae: 3020.6377\n",
      "Epoch 114/350\n",
      "3/3 - 0s - loss: 9421816.0000 - mae: 2358.7156 - val_loss: 11439409.0000 - val_mae: 3028.3213\n",
      "Epoch 115/350\n",
      "3/3 - 0s - loss: 9389752.0000 - mae: 2353.4873 - val_loss: 11413879.0000 - val_mae: 3008.8066\n",
      "Epoch 116/350\n",
      "3/3 - 0s - loss: 9373427.0000 - mae: 2351.0039 - val_loss: 11397929.0000 - val_mae: 3007.2258\n",
      "Epoch 117/350\n",
      "3/3 - 0s - loss: 9384087.0000 - mae: 2350.6606 - val_loss: 11381480.0000 - val_mae: 2983.9275\n",
      "Epoch 118/350\n",
      "3/3 - 0s - loss: 9339965.0000 - mae: 2344.7412 - val_loss: 11366473.0000 - val_mae: 2989.4607\n",
      "Epoch 119/350\n",
      "3/3 - 0s - loss: 9324913.0000 - mae: 2343.7380 - val_loss: 11358011.0000 - val_mae: 3004.0789\n",
      "Epoch 120/350\n",
      "3/3 - 0s - loss: 9311876.0000 - mae: 2344.6333 - val_loss: 11346227.0000 - val_mae: 3015.9739\n",
      "Epoch 121/350\n",
      "3/3 - 0s - loss: 9495970.0000 - mae: 2389.4360 - val_loss: 11338965.0000 - val_mae: 3024.3438\n",
      "Epoch 122/350\n",
      "3/3 - 0s - loss: 9486485.0000 - mae: 2389.2441 - val_loss: 11319476.0000 - val_mae: 3014.0088\n",
      "Epoch 123/350\n",
      "3/3 - 0s - loss: 9467984.0000 - mae: 2386.9358 - val_loss: 11307704.0000 - val_mae: 3018.4626\n",
      "Epoch 124/350\n",
      "3/3 - 0s - loss: 9467979.0000 - mae: 2385.4189 - val_loss: 11286845.0000 - val_mae: 3003.5530\n",
      "Epoch 125/350\n",
      "3/3 - 0s - loss: 9440630.0000 - mae: 2382.5828 - val_loss: 11265825.0000 - val_mae: 2997.4883\n",
      "Epoch 126/350\n",
      "3/3 - 0s - loss: 9471939.0000 - mae: 2386.1848 - val_loss: 11249208.0000 - val_mae: 2975.9609\n",
      "Epoch 127/350\n",
      "3/3 - 0s - loss: 9429463.0000 - mae: 2380.5168 - val_loss: 11250131.0000 - val_mae: 3005.5247\n",
      "Epoch 128/350\n",
      "3/3 - 0s - loss: 9412888.0000 - mae: 2379.6670 - val_loss: 11244600.0000 - val_mae: 3012.6475\n",
      "Epoch 129/350\n",
      "3/3 - 0s - loss: 9393522.0000 - mae: 2378.0234 - val_loss: 11225835.0000 - val_mae: 3001.7412\n",
      "Epoch 130/350\n",
      "3/3 - 0s - loss: 9386433.0000 - mae: 2377.2292 - val_loss: 11217112.0000 - val_mae: 3001.9670\n",
      "Epoch 131/350\n",
      "3/3 - 0s - loss: 9366842.0000 - mae: 2374.5137 - val_loss: 11199976.0000 - val_mae: 2989.9209\n",
      "Epoch 132/350\n",
      "3/3 - 0s - loss: 9353846.0000 - mae: 2371.8550 - val_loss: 11187487.0000 - val_mae: 2973.9092\n",
      "Epoch 133/350\n",
      "3/3 - 0s - loss: 9354647.0000 - mae: 2368.8313 - val_loss: 11178078.0000 - val_mae: 2936.0896\n",
      "Epoch 134/350\n",
      "3/3 - 0s - loss: 9335897.0000 - mae: 2363.6936 - val_loss: 11170030.0000 - val_mae: 2939.3826\n",
      "Epoch 135/350\n",
      "3/3 - 0s - loss: 9319084.0000 - mae: 2361.3059 - val_loss: 11160741.0000 - val_mae: 2941.2463\n",
      "Epoch 136/350\n",
      "3/3 - 0s - loss: 9315848.0000 - mae: 2361.6987 - val_loss: 11153315.0000 - val_mae: 2944.3982\n",
      "Epoch 137/350\n",
      "3/3 - 0s - loss: 9291434.0000 - mae: 2359.4951 - val_loss: 11155215.0000 - val_mae: 2965.8098\n",
      "Epoch 138/350\n",
      "3/3 - 0s - loss: 9292232.0000 - mae: 2363.5530 - val_loss: 11147226.0000 - val_mae: 2986.2480\n",
      "Epoch 139/350\n",
      "3/3 - 0s - loss: 9288576.0000 - mae: 2365.5542 - val_loss: 11117469.0000 - val_mae: 2975.4138\n",
      "Epoch 140/350\n",
      "3/3 - 0s - loss: 9255729.0000 - mae: 2360.3279 - val_loss: 11102362.0000 - val_mae: 2973.2676\n",
      "Epoch 141/350\n",
      "3/3 - 0s - loss: 9250085.0000 - mae: 2357.2256 - val_loss: 11080744.0000 - val_mae: 2953.9893\n",
      "Epoch 142/350\n",
      "3/3 - 0s - loss: 9247947.0000 - mae: 2357.6306 - val_loss: 11063056.0000 - val_mae: 2935.0085\n",
      "Epoch 143/350\n",
      "3/3 - 0s - loss: 9242199.0000 - mae: 2354.5896 - val_loss: 11052438.0000 - val_mae: 2929.8357\n",
      "Epoch 144/350\n",
      "3/3 - 0s - loss: 9204637.0000 - mae: 2350.2925 - val_loss: 11044751.0000 - val_mae: 2950.2537\n",
      "Epoch 145/350\n",
      "3/3 - 0s - loss: 9230577.0000 - mae: 2361.2871 - val_loss: 11059503.0000 - val_mae: 2982.6165\n",
      "Epoch 146/350\n",
      "3/3 - 0s - loss: 9201412.0000 - mae: 2358.5708 - val_loss: 11038267.0000 - val_mae: 2974.7520\n",
      "Epoch 147/350\n",
      "3/3 - 0s - loss: 9174558.0000 - mae: 2352.8911 - val_loss: 11003429.0000 - val_mae: 2943.5559\n",
      "Epoch 148/350\n",
      "3/3 - 0s - loss: 9172590.0000 - mae: 2347.4834 - val_loss: 10983285.0000 - val_mae: 2901.7131\n",
      "Epoch 149/350\n",
      "3/3 - 0s - loss: 9155301.0000 - mae: 2340.6848 - val_loss: 10975524.0000 - val_mae: 2890.2937\n",
      "Epoch 150/350\n",
      "3/3 - 0s - loss: 9153285.0000 - mae: 2339.6448 - val_loss: 10970755.0000 - val_mae: 2883.5027\n",
      "Epoch 151/350\n",
      "3/3 - 0s - loss: 9140416.0000 - mae: 2337.9412 - val_loss: 10968836.0000 - val_mae: 2888.9573\n",
      "Epoch 152/350\n",
      "3/3 - 0s - loss: 9113001.0000 - mae: 2336.1978 - val_loss: 10972754.0000 - val_mae: 2921.7004\n"
     ]
    },
    {
     "name": "stdout",
     "output_type": "stream",
     "text": [
      "Epoch 153/350\n",
      "3/3 - 0s - loss: 9101665.0000 - mae: 2337.4072 - val_loss: 10974903.0000 - val_mae: 2936.0879\n",
      "Epoch 154/350\n",
      "3/3 - 0s - loss: 9156283.0000 - mae: 2352.1543 - val_loss: 11011904.0000 - val_mae: 2978.9531\n",
      "Epoch 155/350\n",
      "3/3 - 0s - loss: 9094567.0000 - mae: 2342.9060 - val_loss: 10962517.0000 - val_mae: 2950.8203\n",
      "Epoch 156/350\n",
      "3/3 - 0s - loss: 9074035.0000 - mae: 2338.3188 - val_loss: 10918173.0000 - val_mae: 2915.4915\n",
      "Epoch 157/350\n",
      "3/3 - 0s - loss: 9077482.0000 - mae: 2336.5615 - val_loss: 10897659.0000 - val_mae: 2909.3352\n",
      "Epoch 158/350\n",
      "3/3 - 0s - loss: 9053222.0000 - mae: 2328.1335 - val_loss: 10883087.0000 - val_mae: 2868.2986\n",
      "Epoch 159/350\n",
      "3/3 - 0s - loss: 9047587.0000 - mae: 2324.1755 - val_loss: 10877171.0000 - val_mae: 2853.3025\n",
      "Epoch 160/350\n",
      "3/3 - 0s - loss: 9038284.0000 - mae: 2323.0442 - val_loss: 10864515.0000 - val_mae: 2868.3645\n",
      "Epoch 161/350\n",
      "3/3 - 0s - loss: 9056561.0000 - mae: 2332.0354 - val_loss: 10859511.0000 - val_mae: 2897.2317\n",
      "Epoch 162/350\n",
      "3/3 - 0s - loss: 9001551.0000 - mae: 2324.3228 - val_loss: 10858309.0000 - val_mae: 2897.5671\n",
      "Epoch 163/350\n",
      "3/3 - 0s - loss: 9001463.0000 - mae: 2324.6572 - val_loss: 10846524.0000 - val_mae: 2886.8699\n",
      "Epoch 164/350\n",
      "3/3 - 0s - loss: 8985661.0000 - mae: 2321.1084 - val_loss: 10835323.0000 - val_mae: 2878.5723\n",
      "Epoch 165/350\n",
      "3/3 - 0s - loss: 8967341.0000 - mae: 2316.6965 - val_loss: 10827563.0000 - val_mae: 2861.7615\n",
      "Epoch 166/350\n",
      "3/3 - 0s - loss: 8992199.0000 - mae: 2319.6431 - val_loss: 10829305.0000 - val_mae: 2840.9043\n",
      "Epoch 167/350\n",
      "3/3 - 0s - loss: 8968712.0000 - mae: 2313.4136 - val_loss: 10820660.0000 - val_mae: 2859.9480\n",
      "Epoch 168/350\n",
      "3/3 - 0s - loss: 8945193.0000 - mae: 2314.6082 - val_loss: 10829862.0000 - val_mae: 2903.9182\n",
      "Epoch 169/350\n",
      "3/3 - 0s - loss: 8926769.0000 - mae: 2315.8411 - val_loss: 10823045.0000 - val_mae: 2911.2773\n",
      "Epoch 170/350\n",
      "3/3 - 0s - loss: 8938943.0000 - mae: 2318.4875 - val_loss: 10803399.0000 - val_mae: 2906.5378\n",
      "Epoch 171/350\n",
      "3/3 - 0s - loss: 8917987.0000 - mae: 2316.0161 - val_loss: 10782849.0000 - val_mae: 2897.9153\n",
      "Epoch 172/350\n",
      "3/3 - 0s - loss: 8890692.0000 - mae: 2311.0925 - val_loss: 10759813.0000 - val_mae: 2871.5632\n",
      "Epoch 173/350\n",
      "3/3 - 0s - loss: 8894707.0000 - mae: 2306.3252 - val_loss: 10756879.0000 - val_mae: 2828.4590\n",
      "Epoch 174/350\n",
      "3/3 - 0s - loss: 8875362.0000 - mae: 2299.1860 - val_loss: 10755235.0000 - val_mae: 2821.4841\n",
      "Epoch 175/350\n",
      "3/3 - 0s - loss: 8865790.0000 - mae: 2296.8801 - val_loss: 10747517.0000 - val_mae: 2828.9883\n",
      "Epoch 176/350\n",
      "3/3 - 0s - loss: 8852597.0000 - mae: 2295.0652 - val_loss: 10740955.0000 - val_mae: 2852.2375\n",
      "Epoch 177/350\n",
      "3/3 - 0s - loss: 8839169.0000 - mae: 2296.7988 - val_loss: 10736217.0000 - val_mae: 2865.5750\n",
      "Epoch 178/350\n",
      "3/3 - 0s - loss: 8836292.0000 - mae: 2299.1392 - val_loss: 10717468.0000 - val_mae: 2855.7483\n",
      "Epoch 179/350\n",
      "3/3 - 0s - loss: 8818979.0000 - mae: 2296.2524 - val_loss: 10704159.0000 - val_mae: 2855.2627\n",
      "Epoch 180/350\n",
      "3/3 - 0s - loss: 8816432.0000 - mae: 2297.6206 - val_loss: 10694587.0000 - val_mae: 2866.9324\n",
      "Epoch 181/350\n",
      "3/3 - 0s - loss: 8812152.0000 - mae: 2299.4065 - val_loss: 10682526.0000 - val_mae: 2861.1106\n",
      "Epoch 182/350\n",
      "3/3 - 0s - loss: 8789712.0000 - mae: 2294.7166 - val_loss: 10662857.0000 - val_mae: 2844.1758\n",
      "Epoch 183/350\n",
      "3/3 - 0s - loss: 8817531.0000 - mae: 2293.6907 - val_loss: 10653833.0000 - val_mae: 2800.9778\n",
      "Epoch 184/350\n",
      "3/3 - 0s - loss: 8780001.0000 - mae: 2284.2651 - val_loss: 10648279.0000 - val_mae: 2801.3020\n",
      "Epoch 185/350\n",
      "3/3 - 0s - loss: 8782012.0000 - mae: 2288.1890 - val_loss: 10654304.0000 - val_mae: 2838.9407\n",
      "Epoch 186/350\n",
      "3/3 - 0s - loss: 8759733.0000 - mae: 2285.4026 - val_loss: 10660537.0000 - val_mae: 2844.2559\n",
      "Epoch 187/350\n",
      "3/3 - 0s - loss: 8744422.0000 - mae: 2286.3032 - val_loss: 10651033.0000 - val_mae: 2850.3059\n",
      "Epoch 188/350\n",
      "3/3 - 0s - loss: 8735695.0000 - mae: 2286.9460 - val_loss: 10655781.0000 - val_mae: 2860.7805\n",
      "Epoch 189/350\n",
      "3/3 - 0s - loss: 8727070.0000 - mae: 2287.0732 - val_loss: 10627791.0000 - val_mae: 2842.6504\n",
      "Epoch 190/350\n",
      "3/3 - 0s - loss: 8701741.0000 - mae: 2281.8689 - val_loss: 10612308.0000 - val_mae: 2822.6711\n",
      "Epoch 191/350\n",
      "3/3 - 0s - loss: 8703148.0000 - mae: 2275.4551 - val_loss: 10595913.0000 - val_mae: 2792.0391\n",
      "Epoch 192/350\n",
      "3/3 - 0s - loss: 8701537.0000 - mae: 2273.1465 - val_loss: 10592635.0000 - val_mae: 2785.2053\n",
      "Epoch 193/350\n",
      "3/3 - 0s - loss: 8674628.0000 - mae: 2267.7021 - val_loss: 10581824.0000 - val_mae: 2790.4797\n",
      "Epoch 194/350\n",
      "3/3 - 0s - loss: 8663840.0000 - mae: 2268.7737 - val_loss: 10566605.0000 - val_mae: 2795.9883\n",
      "Epoch 195/350\n",
      "3/3 - 0s - loss: 8653793.0000 - mae: 2270.1282 - val_loss: 10558205.0000 - val_mae: 2806.0618\n",
      "Epoch 196/350\n",
      "3/3 - 0s - loss: 8653337.0000 - mae: 2273.7017 - val_loss: 10557477.0000 - val_mae: 2821.7668\n",
      "Epoch 197/350\n",
      "3/3 - 0s - loss: 8642020.0000 - mae: 2272.6030 - val_loss: 10544144.0000 - val_mae: 2811.0969\n",
      "Epoch 198/350\n",
      "3/3 - 0s - loss: 8626575.0000 - mae: 2270.1042 - val_loss: 10536611.0000 - val_mae: 2801.2480\n",
      "Epoch 199/350\n",
      "3/3 - 0s - loss: 8621225.0000 - mae: 2268.5193 - val_loss: 10527742.0000 - val_mae: 2793.4578\n",
      "Epoch 200/350\n",
      "3/3 - 0s - loss: 8598140.0000 - mae: 2259.6731 - val_loss: 10517845.0000 - val_mae: 2759.8323\n",
      "Epoch 201/350\n",
      "3/3 - 0s - loss: 8602568.0000 - mae: 2254.3379 - val_loss: 10516572.0000 - val_mae: 2737.5430\n",
      "Epoch 202/350\n",
      "3/3 - 0s - loss: 8591015.0000 - mae: 2251.5784 - val_loss: 10501693.0000 - val_mae: 2754.9746\n",
      "Epoch 203/350\n",
      "3/3 - 0s - loss: 8587246.0000 - mae: 2258.5276 - val_loss: 10502112.0000 - val_mae: 2789.6992\n",
      "Epoch 204/350\n",
      "3/3 - 0s - loss: 8615762.0000 - mae: 2269.6758 - val_loss: 10529152.0000 - val_mae: 2833.5945\n",
      "Epoch 205/350\n",
      "3/3 - 0s - loss: 8585284.0000 - mae: 2273.0776 - val_loss: 10500168.0000 - val_mae: 2803.2441\n",
      "Epoch 206/350\n",
      "3/3 - 0s - loss: 8578933.0000 - mae: 2261.5952 - val_loss: 10477450.0000 - val_mae: 2751.1506\n",
      "Epoch 207/350\n",
      "3/3 - 0s - loss: 8534539.0000 - mae: 2248.0659 - val_loss: 10467493.0000 - val_mae: 2757.0234\n",
      "Epoch 208/350\n",
      "3/3 - 0s - loss: 8543069.0000 - mae: 2253.3987 - val_loss: 10452277.0000 - val_mae: 2762.0579\n",
      "Epoch 209/350\n",
      "3/3 - 0s - loss: 8529630.0000 - mae: 2250.0920 - val_loss: 10446951.0000 - val_mae: 2765.8855\n",
      "Epoch 210/350\n",
      "3/3 - 0s - loss: 8509734.0000 - mae: 2254.0229 - val_loss: 10456528.0000 - val_mae: 2803.7429\n",
      "Epoch 211/350\n",
      "3/3 - 0s - loss: 8516802.0000 - mae: 2263.2642 - val_loss: 10452056.0000 - val_mae: 2813.6091\n",
      "Epoch 212/350\n",
      "3/3 - 0s - loss: 8500776.0000 - mae: 2261.4268 - val_loss: 10431150.0000 - val_mae: 2797.4265\n",
      "Epoch 213/350\n",
      "3/3 - 0s - loss: 8481506.0000 - mae: 2254.9756 - val_loss: 10401532.0000 - val_mae: 2752.4753\n",
      "Epoch 214/350\n",
      "3/3 - 0s - loss: 8482249.0000 - mae: 2238.1619 - val_loss: 10410860.0000 - val_mae: 2697.4004\n",
      "Epoch 215/350\n",
      "3/3 - 0s - loss: 8528907.0000 - mae: 2239.3040 - val_loss: 10427137.0000 - val_mae: 2672.3987\n",
      "Epoch 216/350\n",
      "3/3 - 0s - loss: 8467180.0000 - mae: 2229.2917 - val_loss: 10401643.0000 - val_mae: 2713.7122\n",
      "Epoch 217/350\n",
      "3/3 - 0s - loss: 8421470.0000 - mae: 2230.8086 - val_loss: 10414931.0000 - val_mae: 2784.6328\n",
      "Epoch 218/350\n",
      "3/3 - 0s - loss: 8424582.0000 - mae: 2244.9612 - val_loss: 10445920.0000 - val_mae: 2820.4736\n",
      "Epoch 219/350\n",
      "3/3 - 0s - loss: 8454438.0000 - mae: 2257.8801 - val_loss: 10460819.0000 - val_mae: 2833.4160\n",
      "Epoch 220/350\n",
      "3/3 - 0s - loss: 8442821.0000 - mae: 2257.9424 - val_loss: 10429992.0000 - val_mae: 2813.3274\n",
      "Epoch 221/350\n",
      "3/3 - 0s - loss: 8432437.0000 - mae: 2247.4058 - val_loss: 10390940.0000 - val_mae: 2775.1208\n",
      "Epoch 222/350\n",
      "3/3 - 0s - loss: 8401694.0000 - mae: 2233.9180 - val_loss: 10364975.0000 - val_mae: 2727.9836\n",
      "Epoch 223/350\n",
      "3/3 - 0s - loss: 8379181.5000 - mae: 2226.8162 - val_loss: 10357801.0000 - val_mae: 2739.8230\n",
      "Epoch 224/350\n",
      "3/3 - 0s - loss: 8406430.0000 - mae: 2238.0759 - val_loss: 10355477.0000 - val_mae: 2755.6914\n",
      "Epoch 225/350\n",
      "3/3 - 0s - loss: 8342234.5000 - mae: 2225.4185 - val_loss: 10338985.0000 - val_mae: 2712.5527\n",
      "Epoch 226/350\n",
      "3/3 - 0s - loss: 8345854.5000 - mae: 2220.6436 - val_loss: 10326469.0000 - val_mae: 2699.4434\n",
      "Epoch 227/350\n",
      "3/3 - 0s - loss: 8334765.5000 - mae: 2218.2837 - val_loss: 10319551.0000 - val_mae: 2706.1877\n",
      "Epoch 228/350\n",
      "3/3 - 0s - loss: 8324435.0000 - mae: 2217.7705 - val_loss: 10311633.0000 - val_mae: 2709.2178\n"
     ]
    },
    {
     "name": "stdout",
     "output_type": "stream",
     "text": [
      "Epoch 229/350\n",
      "3/3 - 0s - loss: 8378255.5000 - mae: 2222.8086 - val_loss: 10309621.0000 - val_mae: 2689.7224\n",
      "Epoch 230/350\n",
      "3/3 - 0s - loss: 8336740.0000 - mae: 2219.5981 - val_loss: 10318975.0000 - val_mae: 2771.7903\n",
      "Epoch 231/350\n",
      "3/3 - 0s - loss: 8313109.0000 - mae: 2232.8076 - val_loss: 10423868.0000 - val_mae: 2844.8386\n",
      "Epoch 232/350\n",
      "3/3 - 0s - loss: 8323044.0000 - mae: 2240.6846 - val_loss: 10489103.0000 - val_mae: 2874.3918\n",
      "Epoch 233/350\n",
      "3/3 - 0s - loss: 8289530.5000 - mae: 2233.6155 - val_loss: 10455376.0000 - val_mae: 2839.0750\n",
      "Epoch 234/350\n",
      "3/3 - 0s - loss: 8358922.5000 - mae: 2224.7751 - val_loss: 10579642.0000 - val_mae: 2808.7893\n",
      "Epoch 235/350\n",
      "3/3 - 0s - loss: 8324415.5000 - mae: 2213.5591 - val_loss: 10533156.0000 - val_mae: 2835.9199\n",
      "Epoch 236/350\n",
      "3/3 - 0s - loss: 8333180.0000 - mae: 2220.8469 - val_loss: 10535839.0000 - val_mae: 2828.6707\n",
      "Epoch 237/350\n",
      "3/3 - 0s - loss: 8419704.0000 - mae: 2229.5356 - val_loss: 10573445.0000 - val_mae: 2851.6282\n",
      "Epoch 238/350\n",
      "3/3 - 0s - loss: 8403804.0000 - mae: 2228.6096 - val_loss: 10556273.0000 - val_mae: 2854.6238\n",
      "Epoch 239/350\n",
      "3/3 - 0s - loss: 8404485.0000 - mae: 2231.9021 - val_loss: 10510296.0000 - val_mae: 2868.3516\n",
      "Epoch 240/350\n",
      "3/3 - 0s - loss: 8411913.0000 - mae: 2240.9424 - val_loss: 10524946.0000 - val_mae: 2862.7363\n",
      "Epoch 241/350\n",
      "3/3 - 0s - loss: 8399996.0000 - mae: 2238.3057 - val_loss: 10539639.0000 - val_mae: 2858.0725\n",
      "Epoch 242/350\n",
      "3/3 - 0s - loss: 8387024.0000 - mae: 2230.9871 - val_loss: 10545381.0000 - val_mae: 2855.1262\n",
      "Epoch 243/350\n",
      "3/3 - 0s - loss: 8587374.0000 - mae: 2260.9290 - val_loss: 12091784.0000 - val_mae: 3036.2527\n",
      "Epoch 244/350\n",
      "3/3 - 0s - loss: 9443516.0000 - mae: 2422.4900 - val_loss: 11672505.0000 - val_mae: 2931.3855\n",
      "Epoch 245/350\n",
      "3/3 - 0s - loss: 9250605.0000 - mae: 2401.2676 - val_loss: 11184157.0000 - val_mae: 2789.5964\n",
      "Epoch 246/350\n",
      "3/3 - 0s - loss: 9202947.0000 - mae: 2354.3911 - val_loss: 11044977.0000 - val_mae: 2747.7354\n",
      "Epoch 247/350\n",
      "3/3 - 0s - loss: 9181612.0000 - mae: 2338.1360 - val_loss: 10996515.0000 - val_mae: 2741.8997\n",
      "Epoch 248/350\n",
      "3/3 - 0s - loss: 9230530.0000 - mae: 2332.4182 - val_loss: 10866715.0000 - val_mae: 2721.6169\n",
      "Epoch 249/350\n",
      "3/3 - 0s - loss: 9112004.0000 - mae: 2338.0767 - val_loss: 10707513.0000 - val_mae: 2692.2480\n",
      "Epoch 250/350\n",
      "3/3 - 0s - loss: 8999833.0000 - mae: 2333.8667 - val_loss: 10697652.0000 - val_mae: 2731.8464\n",
      "Epoch 251/350\n",
      "3/3 - 0s - loss: 8998100.0000 - mae: 2355.3447 - val_loss: 10753940.0000 - val_mae: 2753.6804\n",
      "Epoch 252/350\n",
      "3/3 - 0s - loss: 8978449.0000 - mae: 2358.2356 - val_loss: 10798194.0000 - val_mae: 2765.7312\n",
      "Epoch 253/350\n",
      "3/3 - 0s - loss: 8972750.0000 - mae: 2348.0210 - val_loss: 10804792.0000 - val_mae: 2750.9622\n",
      "Epoch 254/350\n",
      "3/3 - 0s - loss: 8905483.0000 - mae: 2331.6240 - val_loss: 10832199.0000 - val_mae: 2732.1533\n",
      "Epoch 255/350\n",
      "3/3 - 0s - loss: 8887642.0000 - mae: 2318.2273 - val_loss: 10872634.0000 - val_mae: 2736.0574\n",
      "Epoch 256/350\n",
      "3/3 - 0s - loss: 8883381.0000 - mae: 2312.7363 - val_loss: 10901584.0000 - val_mae: 2743.4221\n",
      "Epoch 257/350\n",
      "3/3 - 0s - loss: 8833770.0000 - mae: 2307.5615 - val_loss: 10935407.0000 - val_mae: 2769.0325\n",
      "Epoch 258/350\n",
      "3/3 - 0s - loss: 8792648.0000 - mae: 2308.5205 - val_loss: 10983068.0000 - val_mae: 2790.0586\n",
      "Epoch 259/350\n",
      "3/3 - 0s - loss: 8806243.0000 - mae: 2311.7515 - val_loss: 11018246.0000 - val_mae: 2804.3767\n",
      "Epoch 260/350\n",
      "3/3 - 0s - loss: 8840499.0000 - mae: 2324.9106 - val_loss: 11076512.0000 - val_mae: 2831.3274\n",
      "Epoch 261/350\n",
      "3/3 - 0s - loss: 8796372.0000 - mae: 2316.4504 - val_loss: 11000115.0000 - val_mae: 2788.2568\n",
      "Epoch 262/350\n",
      "3/3 - 0s - loss: 8738715.0000 - mae: 2298.0681 - val_loss: 10981440.0000 - val_mae: 2783.1924\n",
      "Epoch 263/350\n",
      "3/3 - 0s - loss: 8735105.0000 - mae: 2294.9417 - val_loss: 10971187.0000 - val_mae: 2777.8252\n",
      "Epoch 264/350\n",
      "3/3 - 0s - loss: 8729367.0000 - mae: 2288.9019 - val_loss: 10958983.0000 - val_mae: 2776.1748\n",
      "Epoch 265/350\n",
      "3/3 - 0s - loss: 8714479.0000 - mae: 2286.7729 - val_loss: 10935921.0000 - val_mae: 2767.7100\n",
      "Epoch 266/350\n",
      "3/3 - 0s - loss: 8741411.0000 - mae: 2296.6995 - val_loss: 10950126.0000 - val_mae: 2775.9636\n",
      "Epoch 267/350\n",
      "3/3 - 0s - loss: 8680269.0000 - mae: 2294.2905 - val_loss: 10929380.0000 - val_mae: 2769.6396\n",
      "Epoch 268/350\n",
      "3/3 - 0s - loss: 8677444.0000 - mae: 2289.5103 - val_loss: 10911785.0000 - val_mae: 2763.7705\n",
      "Epoch 269/350\n",
      "3/3 - 0s - loss: 8665461.0000 - mae: 2286.4597 - val_loss: 10919135.0000 - val_mae: 2770.2063\n",
      "Epoch 270/350\n",
      "3/3 - 0s - loss: 8640302.0000 - mae: 2284.1123 - val_loss: 10929161.0000 - val_mae: 2772.4434\n",
      "Epoch 271/350\n",
      "3/3 - 0s - loss: 8629743.0000 - mae: 2283.3708 - val_loss: 10928281.0000 - val_mae: 2770.4514\n",
      "Epoch 272/350\n",
      "3/3 - 0s - loss: 8653282.0000 - mae: 2288.4492 - val_loss: 10939707.0000 - val_mae: 2773.0447\n",
      "Epoch 273/350\n",
      "3/3 - 0s - loss: 8654112.0000 - mae: 2280.5681 - val_loss: 10924971.0000 - val_mae: 2759.4902\n",
      "Epoch 274/350\n",
      "3/3 - 0s - loss: 8621952.0000 - mae: 2262.8167 - val_loss: 10932159.0000 - val_mae: 2759.1130\n",
      "Epoch 275/350\n",
      "3/3 - 0s - loss: 8603322.0000 - mae: 2270.4014 - val_loss: 10938137.0000 - val_mae: 2770.2744\n",
      "Epoch 276/350\n",
      "3/3 - 0s - loss: 8620875.0000 - mae: 2273.1082 - val_loss: 10940489.0000 - val_mae: 2771.1917\n",
      "Epoch 277/350\n",
      "3/3 - 0s - loss: 8555597.0000 - mae: 2267.4614 - val_loss: 10992829.0000 - val_mae: 2785.9734\n",
      "Epoch 278/350\n",
      "3/3 - 0s - loss: 8583901.0000 - mae: 2285.4065 - val_loss: 11049852.0000 - val_mae: 2795.0723\n",
      "Epoch 279/350\n",
      "3/3 - 0s - loss: 8561469.0000 - mae: 2283.5381 - val_loss: 10982907.0000 - val_mae: 2782.8811\n",
      "Epoch 280/350\n",
      "3/3 - 0s - loss: 8517310.0000 - mae: 2264.1875 - val_loss: 10939651.0000 - val_mae: 2768.1672\n",
      "Epoch 281/350\n",
      "3/3 - 0s - loss: 8516339.0000 - mae: 2260.1096 - val_loss: 10934529.0000 - val_mae: 2764.8640\n",
      "Epoch 282/350\n",
      "3/3 - 0s - loss: 8527594.0000 - mae: 2259.6155 - val_loss: 10932849.0000 - val_mae: 2764.7131\n",
      "Epoch 283/350\n",
      "3/3 - 0s - loss: 8532785.0000 - mae: 2253.1582 - val_loss: 10935332.0000 - val_mae: 2761.3242\n",
      "Epoch 284/350\n",
      "3/3 - 0s - loss: 8534792.0000 - mae: 2256.3796 - val_loss: 10930569.0000 - val_mae: 2763.3250\n",
      "Epoch 285/350\n",
      "3/3 - 0s - loss: 8520795.0000 - mae: 2263.0801 - val_loss: 10961100.0000 - val_mae: 2775.4617\n",
      "Epoch 286/350\n",
      "3/3 - 0s - loss: 8468444.0000 - mae: 2258.9241 - val_loss: 10957551.0000 - val_mae: 2774.9329\n",
      "Epoch 287/350\n",
      "3/3 - 0s - loss: 8503217.0000 - mae: 2253.8093 - val_loss: 10945623.0000 - val_mae: 2766.5449\n",
      "Epoch 288/350\n",
      "3/3 - 0s - loss: 8460172.0000 - mae: 2245.5134 - val_loss: 10956429.0000 - val_mae: 2774.7715\n",
      "Epoch 289/350\n",
      "3/3 - 0s - loss: 8440324.0000 - mae: 2248.8462 - val_loss: 10964703.0000 - val_mae: 2777.6279\n",
      "Epoch 290/350\n",
      "3/3 - 0s - loss: 8469489.0000 - mae: 2250.0605 - val_loss: 10957369.0000 - val_mae: 2774.5781\n",
      "Epoch 291/350\n",
      "3/3 - 0s - loss: 8413145.0000 - mae: 2243.8066 - val_loss: 10988115.0000 - val_mae: 2779.5535\n",
      "Epoch 292/350\n",
      "3/3 - 0s - loss: 8482874.0000 - mae: 2261.1282 - val_loss: 11039792.0000 - val_mae: 2783.2871\n",
      "Epoch 293/350\n",
      "3/3 - 0s - loss: 8439968.0000 - mae: 2261.7832 - val_loss: 10996693.0000 - val_mae: 2779.0066\n",
      "Epoch 294/350\n",
      "3/3 - 0s - loss: 8420718.0000 - mae: 2254.1265 - val_loss: 10936112.0000 - val_mae: 2764.2117\n",
      "Epoch 295/350\n",
      "3/3 - 0s - loss: 8419403.0000 - mae: 2228.4233 - val_loss: 10947124.0000 - val_mae: 2770.2107\n",
      "Epoch 296/350\n",
      "3/3 - 0s - loss: 8424117.0000 - mae: 2234.7104 - val_loss: 10937066.0000 - val_mae: 2765.1094\n",
      "Epoch 297/350\n",
      "3/3 - 0s - loss: 8379070.0000 - mae: 2237.5632 - val_loss: 10953408.0000 - val_mae: 2767.0442\n",
      "Epoch 298/350\n",
      "3/3 - 0s - loss: 8395322.0000 - mae: 2244.4050 - val_loss: 10989581.0000 - val_mae: 2776.2668\n",
      "Epoch 299/350\n",
      "3/3 - 0s - loss: 8377930.5000 - mae: 2235.6426 - val_loss: 10946387.0000 - val_mae: 2768.2317\n",
      "Epoch 300/350\n",
      "3/3 - 0s - loss: 8345687.0000 - mae: 2233.1445 - val_loss: 10945969.0000 - val_mae: 2767.3271\n",
      "Epoch 301/350\n",
      "3/3 - 0s - loss: 8431048.0000 - mae: 2239.7363 - val_loss: 10941487.0000 - val_mae: 2768.9758\n",
      "Epoch 302/350\n",
      "3/3 - 0s - loss: 8379493.5000 - mae: 2226.0513 - val_loss: 10943239.0000 - val_mae: 2767.6536\n",
      "Epoch 303/350\n",
      "3/3 - 0s - loss: 8316021.5000 - mae: 2226.2295 - val_loss: 10992224.0000 - val_mae: 2777.9763\n",
      "Epoch 304/350\n",
      "3/3 - 0s - loss: 8332749.5000 - mae: 2241.3850 - val_loss: 11040924.0000 - val_mae: 2782.5481\n"
     ]
    },
    {
     "name": "stdout",
     "output_type": "stream",
     "text": [
      "Epoch 305/350\n",
      "3/3 - 0s - loss: 8364601.0000 - mae: 2247.4841 - val_loss: 11036847.0000 - val_mae: 2782.1199\n",
      "Epoch 306/350\n",
      "3/3 - 0s - loss: 8327005.0000 - mae: 2239.7261 - val_loss: 10944921.0000 - val_mae: 2767.4248\n",
      "Epoch 307/350\n",
      "3/3 - 0s - loss: 8290183.0000 - mae: 2221.7849 - val_loss: 10919796.0000 - val_mae: 2764.1562\n",
      "Epoch 308/350\n",
      "3/3 - 0s - loss: 8316933.5000 - mae: 2214.9658 - val_loss: 10926363.0000 - val_mae: 2769.6289\n",
      "Epoch 309/350\n",
      "3/3 - 0s - loss: 8360977.0000 - mae: 2223.3513 - val_loss: 10940335.0000 - val_mae: 2762.6794\n",
      "Epoch 310/350\n",
      "3/3 - 0s - loss: 8270479.0000 - mae: 2218.8428 - val_loss: 10936837.0000 - val_mae: 2762.3757\n",
      "Epoch 311/350\n",
      "3/3 - 0s - loss: 8274417.0000 - mae: 2218.2700 - val_loss: 10938911.0000 - val_mae: 2762.0906\n",
      "Epoch 312/350\n",
      "3/3 - 0s - loss: 8265269.5000 - mae: 2218.6824 - val_loss: 10940944.0000 - val_mae: 2761.3645\n",
      "Epoch 313/350\n",
      "3/3 - 0s - loss: 8278051.0000 - mae: 2218.9424 - val_loss: 10914253.0000 - val_mae: 2760.5996\n",
      "Epoch 314/350\n",
      "3/3 - 0s - loss: 8256725.0000 - mae: 2209.9419 - val_loss: 10917333.0000 - val_mae: 2756.2566\n",
      "Epoch 315/350\n",
      "3/3 - 0s - loss: 8249682.5000 - mae: 2213.6919 - val_loss: 10929248.0000 - val_mae: 2757.7747\n",
      "Epoch 316/350\n",
      "3/3 - 0s - loss: 8233453.0000 - mae: 2213.7949 - val_loss: 10930489.0000 - val_mae: 2755.4863\n",
      "Epoch 317/350\n",
      "3/3 - 0s - loss: 8215970.5000 - mae: 2209.1426 - val_loss: 10928735.0000 - val_mae: 2760.8621\n",
      "Epoch 318/350\n",
      "3/3 - 0s - loss: 8239732.5000 - mae: 2204.8667 - val_loss: 10926713.0000 - val_mae: 2766.0872\n",
      "Epoch 319/350\n",
      "3/3 - 0s - loss: 8295834.0000 - mae: 2225.1523 - val_loss: 10960919.0000 - val_mae: 2764.0081\n",
      "Epoch 320/350\n",
      "3/3 - 0s - loss: 8222963.5000 - mae: 2212.0066 - val_loss: 10929459.0000 - val_mae: 2763.8806\n",
      "Epoch 321/350\n",
      "3/3 - 0s - loss: 8244653.0000 - mae: 2206.3843 - val_loss: 10922735.0000 - val_mae: 2769.6377\n",
      "Epoch 322/350\n",
      "3/3 - 0s - loss: 8234954.5000 - mae: 2207.6201 - val_loss: 10958967.0000 - val_mae: 2763.3137\n",
      "Epoch 323/350\n",
      "3/3 - 0s - loss: 8190638.5000 - mae: 2207.1548 - val_loss: 10963689.0000 - val_mae: 2763.5652\n",
      "Epoch 324/350\n",
      "3/3 - 0s - loss: 8184034.5000 - mae: 2207.1816 - val_loss: 10976762.0000 - val_mae: 2760.4756\n",
      "Epoch 325/350\n",
      "3/3 - 0s - loss: 8179441.0000 - mae: 2211.4404 - val_loss: 10988619.0000 - val_mae: 2763.1101\n",
      "Epoch 326/350\n",
      "3/3 - 0s - loss: 8184965.0000 - mae: 2207.0222 - val_loss: 10945073.0000 - val_mae: 2760.7507\n",
      "Epoch 327/350\n",
      "3/3 - 0s - loss: 8157365.5000 - mae: 2198.2080 - val_loss: 10920675.0000 - val_mae: 2765.8093\n",
      "Epoch 328/350\n",
      "3/3 - 0s - loss: 8182256.5000 - mae: 2194.5513 - val_loss: 10918456.0000 - val_mae: 2769.8027\n",
      "Epoch 329/350\n",
      "3/3 - 0s - loss: 8153639.5000 - mae: 2193.3362 - val_loss: 10936007.0000 - val_mae: 2759.2629\n",
      "Epoch 330/350\n",
      "3/3 - 0s - loss: 8135785.5000 - mae: 2197.7144 - val_loss: 10967669.0000 - val_mae: 2762.0391\n",
      "Epoch 331/350\n",
      "3/3 - 0s - loss: 8159453.5000 - mae: 2203.6785 - val_loss: 11005599.0000 - val_mae: 2769.5681\n",
      "Epoch 332/350\n",
      "3/3 - 0s - loss: 8155879.5000 - mae: 2197.5593 - val_loss: 10950595.0000 - val_mae: 2765.1914\n",
      "Epoch 333/350\n",
      "3/3 - 0s - loss: 8120285.0000 - mae: 2193.0146 - val_loss: 10946360.0000 - val_mae: 2762.0647\n",
      "Epoch 334/350\n",
      "3/3 - 0s - loss: 8136234.0000 - mae: 2197.9214 - val_loss: 10948734.0000 - val_mae: 2759.8616\n",
      "Epoch 335/350\n",
      "3/3 - 0s - loss: 8117130.0000 - mae: 2195.2659 - val_loss: 10936953.0000 - val_mae: 2760.0938\n",
      "Epoch 336/350\n",
      "3/3 - 0s - loss: 8154309.5000 - mae: 2186.8025 - val_loss: 10929571.0000 - val_mae: 2771.7122\n",
      "Epoch 337/350\n",
      "3/3 - 0s - loss: 8176602.0000 - mae: 2194.8638 - val_loss: 10933198.0000 - val_mae: 2762.3230\n",
      "Epoch 338/350\n",
      "3/3 - 0s - loss: 8108060.0000 - mae: 2185.8730 - val_loss: 10936684.0000 - val_mae: 2760.7083\n",
      "Epoch 339/350\n",
      "3/3 - 0s - loss: 8092656.0000 - mae: 2180.9841 - val_loss: 10927203.0000 - val_mae: 2765.2849\n",
      "Epoch 340/350\n",
      "3/3 - 0s - loss: 8076633.5000 - mae: 2179.1133 - val_loss: 10943000.0000 - val_mae: 2761.9485\n",
      "Epoch 341/350\n",
      "3/3 - 0s - loss: 8111879.5000 - mae: 2192.8325 - val_loss: 10999436.0000 - val_mae: 2758.0974\n",
      "Epoch 342/350\n",
      "3/3 - 0s - loss: 8073916.5000 - mae: 2192.1753 - val_loss: 10978909.0000 - val_mae: 2755.6731\n",
      "Epoch 343/350\n",
      "3/3 - 0s - loss: 8050970.0000 - mae: 2178.7625 - val_loss: 10926927.0000 - val_mae: 2764.3291\n",
      "Epoch 344/350\n",
      "3/3 - 0s - loss: 8056161.0000 - mae: 2173.7214 - val_loss: 10919849.0000 - val_mae: 2767.4131\n",
      "Epoch 345/350\n",
      "3/3 - 0s - loss: 8072166.5000 - mae: 2169.5432 - val_loss: 10917763.0000 - val_mae: 2767.6738\n",
      "Epoch 346/350\n",
      "3/3 - 0s - loss: 8072652.0000 - mae: 2168.7769 - val_loss: 10930441.0000 - val_mae: 2766.3230\n",
      "Epoch 347/350\n",
      "3/3 - 0s - loss: 8126714.5000 - mae: 2189.6580 - val_loss: 11088140.0000 - val_mae: 2773.6536\n",
      "Epoch 348/350\n",
      "3/3 - 0s - loss: 8089043.5000 - mae: 2197.2017 - val_loss: 11087507.0000 - val_mae: 2773.0520\n",
      "Epoch 349/350\n",
      "3/3 - 0s - loss: 8030873.5000 - mae: 2186.7803 - val_loss: 10967485.0000 - val_mae: 2758.7102\n",
      "Epoch 350/350\n",
      "3/3 - 0s - loss: 8033222.5000 - mae: 2166.3325 - val_loss: 10942156.0000 - val_mae: 2777.2786\n",
      "MSE: 10942156.000, RMSE: 3307.893, MAE: 2777.279\n",
      "Predicted: 15748.283\n"
     ]
    }
   ],
   "source": [
    "# lstm for time series forecasting\n",
    "from numpy import sqrt\n",
    "from numpy import asarray\n",
    "from pandas import read_csv\n",
    "from tensorflow.keras import Sequential\n",
    "from tensorflow.keras.layers import Dense\n",
    "from tensorflow.keras.layers import LSTM\n",
    "\n",
    "# split a univariate sequence into samples\n",
    "def split_sequence(sequence, n_steps):\n",
    "    X, y = list(), list()\n",
    "    for i in range(len(sequence)):\n",
    "        # find the end of this pattern\n",
    "        end_ix = i + n_steps\n",
    "        # check if we are beyond the sequence\n",
    "        if end_ix > len(sequence)-1:\n",
    "            break\n",
    "        # gather input and output parts of the pattern\n",
    "        seq_x, seq_y = sequence[i:end_ix], sequence[end_ix]\n",
    "        X.append(seq_x)\n",
    "        y.append(seq_y)\n",
    "    return asarray(X), asarray(y)\n",
    "\n",
    "# load the dataset\n",
    "df = read_csv('monthly-car-sales.csv', header=0, index_col=0, squeeze=True)\n",
    "\n",
    "# retrieve the values\n",
    "values = df.values.astype('float32')\n",
    "\n",
    "# specify the window size\n",
    "n_steps = 5\n",
    "\n",
    "# split into samples\n",
    "X, y = split_sequence(values, n_steps)\n",
    "\n",
    "# reshape into [samples, timesteps, features]\n",
    "X = X.reshape((X.shape[0], X.shape[1], 1))\n",
    "\n",
    "# split into train/test\n",
    "n_test = 12\n",
    "X_train, X_test, y_train, y_test = X[:-n_test], X[-n_test:], y[:-n_test], y[-n_test:]\n",
    "print(X_train.shape, X_test.shape, y_train.shape, y_test.shape)\n",
    "\n",
    "# define model\n",
    "model = Sequential()\n",
    "model.add(LSTM(100, activation='relu', kernel_initializer='he_normal', input_shape=(n_steps,1)))\n",
    "model.add(Dense(50, activation='relu', kernel_initializer='he_normal'))\n",
    "model.add(Dense(50, activation='relu', kernel_initializer='he_normal'))\n",
    "model.add(Dense(1))\n",
    "\n",
    "# compile the model\n",
    "model.compile(optimizer='adam', loss='mse', metrics=['mae'])\n",
    "\n",
    "# fit the model\n",
    "model.fit(X_train, y_train, epochs=350, batch_size=32, verbose=2, validation_data=(X_test, y_test))\n",
    "\n",
    "# evaluate the model\n",
    "mse, mae = model.evaluate(X_test, y_test, verbose=0)\n",
    "print('MSE: %.3f, RMSE: %.3f, MAE: %.3f' % (mse, sqrt(mse), mae))\n",
    "\n",
    "# make a prediction\n",
    "row = asarray([18024.0, 16722.0, 14385.0, 21342.0, 17180.0]).reshape((1, n_steps, 1))\n",
    "yhat = model.predict(row)\n",
    "print('Predicted: %.3f' % (yhat))"
   ]
  },
  {
   "cell_type": "code",
   "execution_count": 37,
   "id": "df2a5a0b",
   "metadata": {},
   "outputs": [
    {
     "data": {
      "text/plain": [
       "array([[[ 6550.],\n",
       "        [ 8728.],\n",
       "        [12026.],\n",
       "        [14395.],\n",
       "        [14587.]],\n",
       "\n",
       "       [[ 8728.],\n",
       "        [12026.],\n",
       "        [14395.],\n",
       "        [14587.],\n",
       "        [13791.]]], dtype=float32)"
      ]
     },
     "execution_count": 37,
     "metadata": {},
     "output_type": "execute_result"
    }
   ],
   "source": [
    "X_train[:2]"
   ]
  },
  {
   "cell_type": "code",
   "execution_count": 38,
   "id": "c9513181",
   "metadata": {},
   "outputs": [
    {
     "data": {
      "text/plain": [
       "array([13791.,  9498.,  8251.,  7049.,  9545.,  9364.,  8456.,  7237.,\n",
       "        9374., 11837., 13784., 15926., 13821., 11143.,  7975.,  7610.,\n",
       "       10015., 12759.,  8816., 10677.], dtype=float32)"
      ]
     },
     "execution_count": 38,
     "metadata": {},
     "output_type": "execute_result"
    }
   ],
   "source": [
    "y_train[:20]"
   ]
  },
  {
   "cell_type": "markdown",
   "id": "cd082391",
   "metadata": {},
   "source": [
    "## Visualize a Deep Learning Model"
   ]
  },
  {
   "cell_type": "markdown",
   "id": "513dbf46",
   "metadata": {},
   "source": [
    "### Model Text Description"
   ]
  },
  {
   "cell_type": "code",
   "execution_count": 39,
   "id": "bb148982",
   "metadata": {},
   "outputs": [
    {
     "name": "stdout",
     "output_type": "stream",
     "text": [
      "Model: \"sequential_11\"\n",
      "_________________________________________________________________\n",
      "Layer (type)                 Output Shape              Param #   \n",
      "=================================================================\n",
      "dense_31 (Dense)             (None, 10)                90        \n",
      "_________________________________________________________________\n",
      "dense_32 (Dense)             (None, 8)                 88        \n",
      "_________________________________________________________________\n",
      "dense_33 (Dense)             (None, 1)                 9         \n",
      "=================================================================\n",
      "Total params: 187\n",
      "Trainable params: 187\n",
      "Non-trainable params: 0\n",
      "_________________________________________________________________\n"
     ]
    }
   ],
   "source": [
    "# example of summarizing a model\n",
    "from tensorflow.keras import Sequential\n",
    "from tensorflow.keras.layers import Dense\n",
    "\n",
    "# define model\n",
    "model = Sequential()\n",
    "model.add(Dense(10, activation='relu', kernel_initializer='he_normal', input_shape=(8,)))\n",
    "model.add(Dense(8, activation='relu', kernel_initializer='he_normal'))\n",
    "model.add(Dense(1, activation='sigmoid'))\n",
    "\n",
    "# summarize the model\n",
    "model.summary()"
   ]
  },
  {
   "cell_type": "markdown",
   "id": "b4f521d6",
   "metadata": {},
   "source": [
    "### Model Architecture Plot"
   ]
  },
  {
   "cell_type": "code",
   "execution_count": 40,
   "id": "7b4c9add",
   "metadata": {},
   "outputs": [
    {
     "data": {
      "image/png": "[encoded data removed]",
      "text/plain": [
       "<IPython.core.display.Image object>"
      ]
     },
     "execution_count": 40,
     "metadata": {},
     "output_type": "execute_result"
    }
   ],
   "source": [
    "# example of plotting a model\n",
    "from tensorflow.keras import Sequential\n",
    "from tensorflow.keras.layers import Dense\n",
    "from tensorflow.keras.utils import plot_model\n",
    "\n",
    "# define model\n",
    "model = Sequential()\n",
    "model.add(Dense(10, activation='relu', kernel_initializer='he_normal', input_shape=(8,)))\n",
    "model.add(Dense(8, activation='relu', kernel_initializer='he_normal'))\n",
    "model.add(Dense(1, activation='sigmoid'))\n",
    "\n",
    "# summarize the model\n",
    "plot_model(model, 'model.png', show_shapes=True)"
   ]
  },
  {
   "cell_type": "markdown",
   "id": "cdf1b91b",
   "metadata": {},
   "source": [
    "## Plot Model Learning Curves"
   ]
  },
  {
   "cell_type": "code",
   "execution_count": 41,
   "id": "cd4d4ea5",
   "metadata": {},
   "outputs": [
    {
     "data": {
      "image/png": "[encoded data removed]",
      "text/plain": [
       "<Figure size 432x288 with 1 Axes>"
      ]
     },
     "metadata": {
      "needs_background": "light"
     },
     "output_type": "display_data"
    }
   ],
   "source": [
    "# example of plotting learning curves\n",
    "from sklearn.datasets import make_classification\n",
    "from tensorflow.keras import Sequential\n",
    "from tensorflow.keras.layers import Dense\n",
    "from tensorflow.keras.optimizers import SGD\n",
    "from matplotlib import pyplot\n",
    "\n",
    "# create the dataset\n",
    "X, y = make_classification(n_samples=1000, n_classes=2, random_state=1)\n",
    "\n",
    "# determine the number of input features\n",
    "n_features = X.shape[1]\n",
    "\n",
    "# define model\n",
    "model = Sequential()\n",
    "model.add(Dense(10, activation='relu', kernel_initializer='he_normal', input_shape=(n_features,)))\n",
    "model.add(Dense(1, activation='sigmoid'))\n",
    "\n",
    "# compile the model\n",
    "sgd = SGD(learning_rate=0.001, momentum=0.8)\n",
    "model.compile(optimizer=sgd, loss='binary_crossentropy')\n",
    "\n",
    "# fit the model\n",
    "history = model.fit(X, y, epochs=100, batch_size=32, verbose=0, validation_split=0.3)\n",
    "\n",
    "# plot learning curves\n",
    "pyplot.title('Learning Curves')\n",
    "pyplot.xlabel('Epoch')\n",
    "pyplot.ylabel('Cross Entropy')\n",
    "pyplot.plot(history.history['loss'], label='train')\n",
    "pyplot.plot(history.history['val_loss'], label='val')\n",
    "pyplot.legend()\n",
    "pyplot.show()"
   ]
  },
  {
   "cell_type": "markdown",
   "id": "2ed02f90",
   "metadata": {},
   "source": [
    "## Save and Load Your Model"
   ]
  },
  {
   "cell_type": "code",
   "execution_count": 42,
   "id": "77604f5f",
   "metadata": {},
   "outputs": [],
   "source": [
    "# example of saving a fit model\n",
    "from sklearn.datasets import make_classification\n",
    "from tensorflow.keras import Sequential\n",
    "from tensorflow.keras.layers import Dense\n",
    "from tensorflow.keras.optimizers import SGD\n",
    "\n",
    "# create the dataset\n",
    "X, y = make_classification(n_samples=1000, n_features=4, n_classes=2, random_state=1)\n",
    "\n",
    "# determine the number of input features\n",
    "n_features = X.shape[1]\n",
    "\n",
    "# define model\n",
    "model = Sequential()\n",
    "model.add(Dense(10, activation='relu', kernel_initializer='he_normal', input_shape=(n_features,)))\n",
    "model.add(Dense(1, activation='sigmoid'))\n",
    "\n",
    "# compile the model\n",
    "sgd = SGD(learning_rate=0.001, momentum=0.8)\n",
    "model.compile(optimizer=sgd, loss='binary_crossentropy')\n",
    "\n",
    "# fit the model\n",
    "model.fit(X, y, epochs=100, batch_size=32, verbose=0, validation_split=0.3)\n",
    "\n",
    "# save model to file\n",
    "model.save('model.h5')"
   ]
  },
  {
   "cell_type": "code",
   "execution_count": 43,
   "id": "cccc3656",
   "metadata": {},
   "outputs": [
    {
     "name": "stdout",
     "output_type": "stream",
     "text": [
      "Predicted: 0.839\n"
     ]
    }
   ],
   "source": [
    "# example of loading a saved model\n",
    "from sklearn.datasets import make_classification\n",
    "from tensorflow.keras.models import load_model\n",
    "\n",
    "# create the dataset\n",
    "X, y = make_classification(n_samples=1000, n_features=4, n_classes=2, random_state=1)\n",
    "\n",
    "# load the model from file\n",
    "model = load_model('model.h5')\n",
    "\n",
    "# make a prediction\n",
    "row = [1.91518414, 1.14995454, -1.52847073, 0.79430654]\n",
    "yhat = model.predict([row])\n",
    "print('Predicted: %.3f' % yhat[0])"
   ]
  },
  {
   "cell_type": "code",
   "execution_count": null,
   "id": "aa62d3fa",
   "metadata": {},
   "outputs": [],
   "source": []
  }
 ],
 "metadata": {
  "kernelspec": {
   "display_name": "Python 3",
   "language": "python",
   "name": "python3"
  },
  "language_info": {
   "codemirror_mode": {
    "name": "ipython",
    "version": 3
   },
   "file_extension": ".py",
   "mimetype": "text/x-python",
   "name": "python",
   "nbconvert_exporter": "python",
   "pygments_lexer": "ipython3",
   "version": "3.8.8"
  }
 },
 "nbformat": 4,
 "nbformat_minor": 5
}
