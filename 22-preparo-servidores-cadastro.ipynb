{
 "cells": [
  {
   "cell_type": "code",
   "execution_count": 1,
   "metadata": {},
   "outputs": [],
   "source": [
    "import pandas as pd"
   ]
  },
  {
   "cell_type": "code",
   "execution_count": 4,
   "metadata": {},
   "outputs": [
    {
     "name": "stdout",
     "output_type": "stream",
     "text": [
      "\"Id_SERVIDOR_PORTAL\";\"NOME\";\"CPF\";\"MATRICULA\";\"DESCRICAO_CARGO\";\"CLASSE_CARGO\";\"REFERENCIA_CARGO\";\"PADRAO_CARGO\";\"NIVEL_CARGO\";\"SIGLA_FUNCAO\";\"NIVEL_FUNCAO\";\"FUNCAO\";\"CODIGO_ATIVIDADE\";\"ATIVIDADE\";\"OPCAO_PARCIAL\";\"COD_UORG_LOTACAO\";\"UORG_LOTACAO\";\"COD_ORG_LOTACAO\";\"ORG_LOTACAO\";\"COD_ORGSUP_LOTACAO\";\"ORGSUP_LOTACAO\";\"COD_UORG_EXERCICIO\";\"UORG_EXERCICIO\";\"COD_ORG_EXERCICIO\";\"ORG_EXERCICIO\";\"COD_ORGSUP_EXERCICIO\";\"ORGSUP_EXERCICIO\";\"TIPO_VINCULO\";\"SITUACAO_VINCULO\";\"DATA_INICIO_AFASTAMENTO\";\"DATA_TERMINO_AFASTAMENTO\";\"REGIME_JURIDICO\";\"JORNADA_DE_TRABALHO\";\"DATA_INGRESSO_CARGOFUNCAO\";\"DATA_NOMEACAO_CARGOFUNCAO\";\"DATA_INGRESSO_ORGAO\";\"DOCUMENTO_INGRESSO_SERVICOPUBLICO\";\"DATA_DIPLOMA_INGRESSO_SERVICOPUBLICO\";\"DIPLOMA_INGRESSO_CARGOFUNCAO\";\"DIPLOMA_INGRESSO_ORGAO\";\"DIPLOMA_INGRESSO_SERVICOPUBLICO\";\"UF_EXERCICIO\"\r",
      "\r\n",
      "\"5116961\";\"AARAO CARLOS LUZ MACAMBIRA\";\"***.017.623-**\";\"016****\";\"BIBLIOTECARIO-DOCUMENTALISTA\";\"E\";\"00\";\"408\";\"000\";\"-1\";\"-1\";\"Sem informação\";\"-1\";\"Sem informação\";\"\";\"26405000000040\";\"DIRETORIA GERAL/CAMPUS SOBRAL\";\"26405\";\"Instituto Federal do Ceará\";\"15000\";\"Ministério da Educação\";\"26405000000040\";\"DIRETORIA GERAL/CAMPUS SOBRAL\";\"26405\";\"Instituto Federal do Ceará\";\"15000\";\"Ministério da Educação\";\"2\";\"ATIVO PERMANENTE\";\"\";\"\";\"REGIME JURIDICO UNICO\";\"40 HORAS SEMANAIS\";\"11/02/2009\";\"\";\"29/12/2008\";\"699\";\"11/02/2009\";\"\";\"LEI\";\"PORTARIA\";\"CE\"\r",
      "\r\n",
      "\"201964\";\"AARAO DIAMANTINO OLIVEIRA\";\"***.056.281-**\";\"000****\";\"Sem informação\";\"\";\"-1\";\"-1\";\"-1\";\"FBC\";\"FDE2\";\"FUNCAO COMISSIONADA DO BANCO CENTRAL\";\"FDE2\";\"CHEFE ADJUNTO DE UNIDADE\";\"\";\"25201000000000\";\"BANCO CENTRAL DO BRASIL\";\"25201\";\"Banco Central do Brasil\";\"17000\";\"Ministério da Economia\";\"25201000000000\";\"BANCO CENTRAL DO BRASIL\";\"25201\";\"Banco Central do Brasil\";\"17000\";\"Ministério da Economia\";\"1\";\"ATIVO PERMANENTE\";\"\";\"\";\"REGIME JURIDICO UNICO\";\"40 HORAS SEMANAIS\";\"10/06/2019\";\"\";\"\";\"000000000\";\"05/01/1998\";\"\";\"Inválido\";\"Inválido\";\"-1\"\r",
      "\r\n",
      "\r\n",
      "bzcat: I/O or other error, bailing out.  Possible reason follows.\r\n",
      "bzcat: Broken pipe\r\n",
      "\tInput file = origem/202012_Cadastro.csv.bz2, output file = (stdout)\r\n"
     ]
    }
   ],
   "source": [
    "!bzcat origem/202012_Cadastro.csv.bz2 | head -3"
   ]
  },
  {
   "cell_type": "code",
   "execution_count": 5,
   "metadata": {},
   "outputs": [
    {
     "data": {
      "text/html": [
       "<div>\n",
       "<style scoped>\n",
       "    .dataframe tbody tr th:only-of-type {\n",
       "        vertical-align: middle;\n",
       "    }\n",
       "\n",
       "    .dataframe tbody tr th {\n",
       "        vertical-align: top;\n",
       "    }\n",
       "\n",
       "    .dataframe thead th {\n",
       "        text-align: right;\n",
       "    }\n",
       "</style>\n",
       "<table border=\"1\" class=\"dataframe\">\n",
       "  <thead>\n",
       "    <tr style=\"text-align: right;\">\n",
       "      <th></th>\n",
       "      <th>NOME</th>\n",
       "    </tr>\n",
       "    <tr>\n",
       "      <th>Id_SERVIDOR_PORTAL</th>\n",
       "      <th></th>\n",
       "    </tr>\n",
       "  </thead>\n",
       "  <tbody>\n",
       "    <tr>\n",
       "      <th>5116961</th>\n",
       "      <td>AARAO CARLOS LUZ MACAMBIRA</td>\n",
       "    </tr>\n",
       "    <tr>\n",
       "      <th>201964</th>\n",
       "      <td>AARAO DIAMANTINO OLIVEIRA</td>\n",
       "    </tr>\n",
       "    <tr>\n",
       "      <th>201964</th>\n",
       "      <td>AARAO DIAMANTINO OLIVEIRA</td>\n",
       "    </tr>\n",
       "    <tr>\n",
       "      <th>4405000</th>\n",
       "      <td>AARAO FERREIRA LIMA NETO</td>\n",
       "    </tr>\n",
       "    <tr>\n",
       "      <th>4405000</th>\n",
       "      <td>AARAO FERREIRA LIMA NETO</td>\n",
       "    </tr>\n",
       "  </tbody>\n",
       "</table>\n",
       "</div>"
      ],
      "text/plain": [
       "                                          NOME\n",
       "Id_SERVIDOR_PORTAL                            \n",
       "5116961             AARAO CARLOS LUZ MACAMBIRA\n",
       "201964               AARAO DIAMANTINO OLIVEIRA\n",
       "201964               AARAO DIAMANTINO OLIVEIRA\n",
       "4405000               AARAO FERREIRA LIMA NETO\n",
       "4405000               AARAO FERREIRA LIMA NETO"
      ]
     },
     "execution_count": 5,
     "metadata": {},
     "output_type": "execute_result"
    }
   ],
   "source": [
    "df = pd.read_csv('origem/202012_Cadastro.csv.bz2', sep=';', \n",
    "                        usecols=['Id_SERVIDOR_PORTAL', 'NOME'], index_col=0)\n",
    "df.head()"
   ]
  },
  {
   "cell_type": "code",
   "execution_count": 6,
   "metadata": {},
   "outputs": [
    {
     "data": {
      "text/plain": [
       "Int64Index([  5116961,    201964,    201964,   4405000,   4405000,   4915841,\n",
       "              5105492,   8114023,  82440282,      2671,\n",
       "            ...\n",
       "            211753347,   7400917,    216805,    216805,   1307290, 205958561,\n",
       "              8504240,   1004004,   1004004,   8915543],\n",
       "           dtype='int64', name='Id_SERVIDOR_PORTAL', length=780333)"
      ]
     },
     "execution_count": 6,
     "metadata": {},
     "output_type": "execute_result"
    }
   ],
   "source": [
    "df.index"
   ]
  },
  {
   "cell_type": "code",
   "execution_count": 7,
   "metadata": {},
   "outputs": [],
   "source": [
    "df.drop_duplicates(inplace=True)"
   ]
  },
  {
   "cell_type": "code",
   "execution_count": 8,
   "metadata": {},
   "outputs": [],
   "source": [
    "df.to_csv('cadastro.csv', sep=';')"
   ]
  },
  {
   "cell_type": "code",
   "execution_count": 9,
   "metadata": {},
   "outputs": [],
   "source": [
    "!rm -f cadastro.csv.bz2 && bzip2 -9 cadastro.csv"
   ]
  },
  {
   "cell_type": "code",
   "execution_count": 10,
   "metadata": {},
   "outputs": [
    {
     "name": "stdout",
     "output_type": "stream",
     "text": [
      "Id_SERVIDOR_PORTAL;NOME\r\n",
      "5116961;AARAO CARLOS LUZ MACAMBIRA\r\n",
      "201964;AARAO DIAMANTINO OLIVEIRA\r\n",
      "4405000;AARAO FERREIRA LIMA NETO\r\n",
      "4915841;AARAO PEREIRA DE ARAUJO JUNIOR\r\n",
      "5105492;AARAO SOARES\r\n",
      "8114023;AARAO TEIXEIRA DOS SANTOS\r\n",
      "82440282;AARON DA COSTA TELLES\r\n",
      "2671;AARON DE SOUSA ALVES\r\n",
      "107618548;AARON ENRICO YAMAFUKO\r\n",
      "\r\n",
      "bzcat: I/O or other error, bailing out.  Possible reason follows.\r\n",
      "bzcat: Broken pipe\r\n",
      "\tInput file = cadastro.csv.bz2, output file = (stdout)\r\n"
     ]
    }
   ],
   "source": [
    "!bzcat cadastro.csv.bz2 | head"
   ]
  },
  {
   "cell_type": "code",
   "execution_count": null,
   "metadata": {},
   "outputs": [],
   "source": []
  }
 ],
 "metadata": {
  "kernelspec": {
   "display_name": "Python 3",
   "language": "python",
   "name": "python3"
  },
  "language_info": {
   "codemirror_mode": {
    "name": "ipython",
    "version": 3
   },
   "file_extension": ".py",
   "mimetype": "text/x-python",
   "name": "python",
   "nbconvert_exporter": "python",
   "pygments_lexer": "ipython3",
   "version": "3.8.5"
  }
 },
 "nbformat": 4,
 "nbformat_minor": 2
}
