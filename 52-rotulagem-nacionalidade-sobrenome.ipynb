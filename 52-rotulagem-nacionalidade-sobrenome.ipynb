{
 "cells": [
  {
   "cell_type": "code",
   "execution_count": 1,
   "metadata": {},
   "outputs": [],
   "source": [
    "import pandas as pd\n",
    "import numpy as np"
   ]
  },
  {
   "cell_type": "code",
   "execution_count": 2,
   "metadata": {},
   "outputs": [],
   "source": [
    "#BASE = 'afastamentos'\n",
    "BASE = 'cadastro'"
   ]
  },
  {
   "cell_type": "code",
   "execution_count": 3,
   "metadata": {},
   "outputs": [],
   "source": [
    "df = pd.read_csv(BASE + '-sobrenomes.csv', index_col=0,\n",
    "                 dtype={'QTDE': 'uint8', 'PERC': np.float32})"
   ]
  },
  {
   "cell_type": "code",
   "execution_count": 4,
   "metadata": {},
   "outputs": [
    {
     "data": {
      "text/html": [
       "<div>\n",
       "<style scoped>\n",
       "    .dataframe tbody tr th:only-of-type {\n",
       "        vertical-align: middle;\n",
       "    }\n",
       "\n",
       "    .dataframe tbody tr th {\n",
       "        vertical-align: top;\n",
       "    }\n",
       "\n",
       "    .dataframe thead th {\n",
       "        text-align: right;\n",
       "    }\n",
       "</style>\n",
       "<table border=\"1\" class=\"dataframe\">\n",
       "  <thead>\n",
       "    <tr style=\"text-align: right;\">\n",
       "      <th></th>\n",
       "      <th>QTDE</th>\n",
       "      <th>PERC</th>\n",
       "    </tr>\n",
       "    <tr>\n",
       "      <th>UNOME</th>\n",
       "      <th></th>\n",
       "      <th></th>\n",
       "    </tr>\n",
       "  </thead>\n",
       "  <tbody>\n",
       "    <tr>\n",
       "      <th>SILVA</th>\n",
       "      <td>0</td>\n",
       "      <td>7.5358</td>\n",
       "    </tr>\n",
       "    <tr>\n",
       "      <th>SANTOS</th>\n",
       "      <td>36</td>\n",
       "      <td>4.1304</td>\n",
       "    </tr>\n",
       "    <tr>\n",
       "      <th>OLIVEIRA</th>\n",
       "      <td>117</td>\n",
       "      <td>3.3497</td>\n",
       "    </tr>\n",
       "    <tr>\n",
       "      <th>SOUZA</th>\n",
       "      <td>5</td>\n",
       "      <td>2.4202</td>\n",
       "    </tr>\n",
       "    <tr>\n",
       "      <th>LIMA</th>\n",
       "      <td>165</td>\n",
       "      <td>1.8500</td>\n",
       "    </tr>\n",
       "  </tbody>\n",
       "</table>\n",
       "</div>"
      ],
      "text/plain": [
       "          QTDE    PERC\n",
       "UNOME                 \n",
       "SILVA        0  7.5358\n",
       "SANTOS      36  4.1304\n",
       "OLIVEIRA   117  3.3497\n",
       "SOUZA        5  2.4202\n",
       "LIMA       165  1.8500"
      ]
     },
     "execution_count": 4,
     "metadata": {},
     "output_type": "execute_result"
    }
   ],
   "source": [
    "df.head()"
   ]
  },
  {
   "cell_type": "code",
   "execution_count": 9,
   "metadata": {},
   "outputs": [
    {
     "data": {
      "text/plain": [
       "QTDE        uint8\n",
       "PERC      float32\n",
       "PAIS       object\n",
       "LETRAS      int64\n",
       "REV        object\n",
       "dtype: object"
      ]
     },
     "execution_count": 9,
     "metadata": {},
     "output_type": "execute_result"
    }
   ],
   "source": [
    "df.dtypes"
   ]
  },
  {
   "cell_type": "code",
   "execution_count": 10,
   "metadata": {},
   "outputs": [
    {
     "ename": "TypeError",
     "evalue": "'float' object is not subscriptable",
     "output_type": "error",
     "traceback": [
      "\u001b[0;31m---------------------------------------------------------------------------\u001b[0m",
      "\u001b[0;31mTypeError\u001b[0m                                 Traceback (most recent call last)",
      "\u001b[0;32m<ipython-input-10-bdc0b0e2ae4e>\u001b[0m in \u001b[0;36m<module>\u001b[0;34m\u001b[0m\n\u001b[1;32m      2\u001b[0m \u001b[0mdf\u001b[0m\u001b[0;34m[\u001b[0m\u001b[0;34m'LETRAS'\u001b[0m\u001b[0;34m]\u001b[0m \u001b[0;34m=\u001b[0m \u001b[0;36m0\u001b[0m\u001b[0;34m\u001b[0m\u001b[0;34m\u001b[0m\u001b[0m\n\u001b[1;32m      3\u001b[0m \u001b[0mdf\u001b[0m\u001b[0;34m[\u001b[0m\u001b[0;34m'REV'\u001b[0m\u001b[0;34m]\u001b[0m \u001b[0;34m=\u001b[0m \u001b[0mdf\u001b[0m\u001b[0;34m.\u001b[0m\u001b[0mindex\u001b[0m\u001b[0;34m\u001b[0m\u001b[0;34m\u001b[0m\u001b[0m\n\u001b[0;32m----> 4\u001b[0;31m \u001b[0mdf\u001b[0m\u001b[0;34m[\u001b[0m\u001b[0;34m'REV'\u001b[0m\u001b[0;34m]\u001b[0m \u001b[0;34m=\u001b[0m \u001b[0mdf\u001b[0m\u001b[0;34m[\u001b[0m\u001b[0;34m'REV'\u001b[0m\u001b[0;34m]\u001b[0m\u001b[0;34m.\u001b[0m\u001b[0mapply\u001b[0m\u001b[0;34m(\u001b[0m\u001b[0;32mlambda\u001b[0m \u001b[0mx\u001b[0m\u001b[0;34m:\u001b[0m \u001b[0mx\u001b[0m\u001b[0;34m[\u001b[0m\u001b[0;34m:\u001b[0m\u001b[0;34m:\u001b[0m\u001b[0;34m-\u001b[0m\u001b[0;36m1\u001b[0m\u001b[0;34m]\u001b[0m\u001b[0;34m)\u001b[0m\u001b[0;34m\u001b[0m\u001b[0;34m\u001b[0m\u001b[0m\n\u001b[0m\u001b[1;32m      5\u001b[0m \u001b[0;31m#df['LETRAS'] = df['REV'].apply(lambda x: len(x))\u001b[0m\u001b[0;34m\u001b[0m\u001b[0;34m\u001b[0m\u001b[0;34m\u001b[0m\u001b[0m\n\u001b[1;32m      6\u001b[0m \u001b[0mdf\u001b[0m\u001b[0;34m.\u001b[0m\u001b[0mhead\u001b[0m\u001b[0;34m(\u001b[0m\u001b[0;34m)\u001b[0m\u001b[0;34m\u001b[0m\u001b[0;34m\u001b[0m\u001b[0m\n",
      "\u001b[0;32m/opt/anaconda3/lib/python3.6/site-packages/pandas/core/series.py\u001b[0m in \u001b[0;36mapply\u001b[0;34m(self, func, convert_dtype, args, **kwds)\u001b[0m\n\u001b[1;32m   3192\u001b[0m             \u001b[0;32melse\u001b[0m\u001b[0;34m:\u001b[0m\u001b[0;34m\u001b[0m\u001b[0;34m\u001b[0m\u001b[0m\n\u001b[1;32m   3193\u001b[0m                 \u001b[0mvalues\u001b[0m \u001b[0;34m=\u001b[0m \u001b[0mself\u001b[0m\u001b[0;34m.\u001b[0m\u001b[0mastype\u001b[0m\u001b[0;34m(\u001b[0m\u001b[0mobject\u001b[0m\u001b[0;34m)\u001b[0m\u001b[0;34m.\u001b[0m\u001b[0mvalues\u001b[0m\u001b[0;34m\u001b[0m\u001b[0;34m\u001b[0m\u001b[0m\n\u001b[0;32m-> 3194\u001b[0;31m                 \u001b[0mmapped\u001b[0m \u001b[0;34m=\u001b[0m \u001b[0mlib\u001b[0m\u001b[0;34m.\u001b[0m\u001b[0mmap_infer\u001b[0m\u001b[0;34m(\u001b[0m\u001b[0mvalues\u001b[0m\u001b[0;34m,\u001b[0m \u001b[0mf\u001b[0m\u001b[0;34m,\u001b[0m \u001b[0mconvert\u001b[0m\u001b[0;34m=\u001b[0m\u001b[0mconvert_dtype\u001b[0m\u001b[0;34m)\u001b[0m\u001b[0;34m\u001b[0m\u001b[0;34m\u001b[0m\u001b[0m\n\u001b[0m\u001b[1;32m   3195\u001b[0m \u001b[0;34m\u001b[0m\u001b[0m\n\u001b[1;32m   3196\u001b[0m         \u001b[0;32mif\u001b[0m \u001b[0mlen\u001b[0m\u001b[0;34m(\u001b[0m\u001b[0mmapped\u001b[0m\u001b[0;34m)\u001b[0m \u001b[0;32mand\u001b[0m \u001b[0misinstance\u001b[0m\u001b[0;34m(\u001b[0m\u001b[0mmapped\u001b[0m\u001b[0;34m[\u001b[0m\u001b[0;36m0\u001b[0m\u001b[0;34m]\u001b[0m\u001b[0;34m,\u001b[0m \u001b[0mSeries\u001b[0m\u001b[0;34m)\u001b[0m\u001b[0;34m:\u001b[0m\u001b[0;34m\u001b[0m\u001b[0;34m\u001b[0m\u001b[0m\n",
      "\u001b[0;32mpandas/_libs/src/inference.pyx\u001b[0m in \u001b[0;36mpandas._libs.lib.map_infer\u001b[0;34m()\u001b[0m\n",
      "\u001b[0;32m<ipython-input-10-bdc0b0e2ae4e>\u001b[0m in \u001b[0;36m<lambda>\u001b[0;34m(x)\u001b[0m\n\u001b[1;32m      2\u001b[0m \u001b[0mdf\u001b[0m\u001b[0;34m[\u001b[0m\u001b[0;34m'LETRAS'\u001b[0m\u001b[0;34m]\u001b[0m \u001b[0;34m=\u001b[0m \u001b[0;36m0\u001b[0m\u001b[0;34m\u001b[0m\u001b[0;34m\u001b[0m\u001b[0m\n\u001b[1;32m      3\u001b[0m \u001b[0mdf\u001b[0m\u001b[0;34m[\u001b[0m\u001b[0;34m'REV'\u001b[0m\u001b[0;34m]\u001b[0m \u001b[0;34m=\u001b[0m \u001b[0mdf\u001b[0m\u001b[0;34m.\u001b[0m\u001b[0mindex\u001b[0m\u001b[0;34m\u001b[0m\u001b[0;34m\u001b[0m\u001b[0m\n\u001b[0;32m----> 4\u001b[0;31m \u001b[0mdf\u001b[0m\u001b[0;34m[\u001b[0m\u001b[0;34m'REV'\u001b[0m\u001b[0;34m]\u001b[0m \u001b[0;34m=\u001b[0m \u001b[0mdf\u001b[0m\u001b[0;34m[\u001b[0m\u001b[0;34m'REV'\u001b[0m\u001b[0;34m]\u001b[0m\u001b[0;34m.\u001b[0m\u001b[0mapply\u001b[0m\u001b[0;34m(\u001b[0m\u001b[0;32mlambda\u001b[0m \u001b[0mx\u001b[0m\u001b[0;34m:\u001b[0m \u001b[0mx\u001b[0m\u001b[0;34m[\u001b[0m\u001b[0;34m:\u001b[0m\u001b[0;34m:\u001b[0m\u001b[0;34m-\u001b[0m\u001b[0;36m1\u001b[0m\u001b[0;34m]\u001b[0m\u001b[0;34m)\u001b[0m\u001b[0;34m\u001b[0m\u001b[0;34m\u001b[0m\u001b[0m\n\u001b[0m\u001b[1;32m      5\u001b[0m \u001b[0;31m#df['LETRAS'] = df['REV'].apply(lambda x: len(x))\u001b[0m\u001b[0;34m\u001b[0m\u001b[0;34m\u001b[0m\u001b[0;34m\u001b[0m\u001b[0m\n\u001b[1;32m      6\u001b[0m \u001b[0mdf\u001b[0m\u001b[0;34m.\u001b[0m\u001b[0mhead\u001b[0m\u001b[0;34m(\u001b[0m\u001b[0;34m)\u001b[0m\u001b[0;34m\u001b[0m\u001b[0;34m\u001b[0m\u001b[0m\n",
      "\u001b[0;31mTypeError\u001b[0m: 'float' object is not subscriptable"
     ]
    }
   ],
   "source": [
    "df['PAIS'] = None\n",
    "df['LETRAS'] = 0\n",
    "df['REV'] = df.index\n",
    "df['REV'] = df['REV'].apply(lambda x: x[::-1])\n",
    "#df['LETRAS'] = df['REV'].apply(lambda x: len(x))\n",
    "df.head()"
   ]
  },
  {
   "cell_type": "code",
   "execution_count": null,
   "metadata": {},
   "outputs": [],
   "source": [
    "df.dtypes"
   ]
  },
  {
   "cell_type": "raw",
   "metadata": {},
   "source": [
    "maior = df['LETRAS'].max()\n",
    "maior"
   ]
  },
  {
   "cell_type": "raw",
   "metadata": {},
   "source": [
    "maior = 16 # fixado para o maior arquivo"
   ]
  },
  {
   "cell_type": "markdown",
   "metadata": {},
   "source": [
    "### Constantes"
   ]
  },
  {
   "cell_type": "code",
   "execution_count": null,
   "metadata": {},
   "outputs": [],
   "source": [
    "PORTUGAL = 'PT'\n",
    "ESPANHA = 'ES'\n",
    "ITALIA = 'IT'\n",
    "ALEMANHA = 'DE'\n",
    "FRANCA = 'FR'\n",
    "JAPAO = 'JP'"
   ]
  },
  {
   "cell_type": "markdown",
   "metadata": {},
   "source": [
    "### 1) Espanhol se terminar com ..."
   ]
  },
  {
   "cell_type": "code",
   "execution_count": null,
   "metadata": {},
   "outputs": [],
   "source": [
    "sufixos = [\n",
    "\"EZ\",\n",
    "\"LLO\",\n",
    "\"LLON\",\n",
    "]\n",
    "\n",
    "for suf in sufixos:\n",
    "    df.loc[df['REV'].str.startswith(suf[::-1]), 'PAIS'] = ESPANHA"
   ]
  },
  {
   "cell_type": "markdown",
   "metadata": {},
   "source": [
    "### 2) Italiano se terminar com ..."
   ]
  },
  {
   "cell_type": "code",
   "execution_count": null,
   "metadata": {},
   "outputs": [],
   "source": [
    "sufixos = [\n",
    "\"INI\",\n",
    "\"IERI\",\n",
    "\"ELLA\",\n",
    "\"ELLI\",\n",
    "\"ELLO\",\n",
    "\"ETTI\",\n",
    "\"ETTO\",\n",
    "\"ONI\",\n",
    "\"ONO\",\n",
    "\"OTTI\",\n",
    "\"OTTO\",\n",
    "]\n",
    "\n",
    "for suf in sufixos:\n",
    "    df.loc[df['REV'].str.startswith(suf[::-1]), 'PAIS'] = ITALIA"
   ]
  },
  {
   "cell_type": "markdown",
   "metadata": {},
   "source": [
    "### 3) Francês se terminar com ..."
   ]
  },
  {
   "cell_type": "code",
   "execution_count": null,
   "metadata": {},
   "outputs": [],
   "source": [
    "sufixos = [\n",
    "\"AMP\",\n",
    "\"ARD\",\n",
    "\"AUD\",\n",
    "\"AUX\",\n",
    "\"EAU\",\n",
    "\"EAULT\",\n",
    "\"ET\",\n",
    "\"EU\",\n",
    "\"EUX\",\n",
    "\"IEU\",\n",
    "\"ILLE\",\n",
    "\"IER\",\n",
    "\"OT\",\n",
    "\"OIS\",\n",
    "\"OIT\",\n",
    "\"OUX\",\n",
    "\"FORT\",\n",
    "\"GNE\",\n",
    "\"MONT\"\n",
    "]\n",
    "\n",
    "for suf in sufixos:\n",
    "    df.loc[df['REV'].str.startswith(suf[::-1]), 'PAIS'] = FRANCA"
   ]
  },
  {
   "cell_type": "markdown",
   "metadata": {},
   "source": [
    "### 4.1) Alemão se terminar com ..."
   ]
  },
  {
   "cell_type": "code",
   "execution_count": null,
   "metadata": {},
   "outputs": [],
   "source": [
    "sufixos = [\n",
    "\"BACH\",\n",
    "\"TNER\",\n",
    "\"STEIN\",\n",
    "\"MANN\",\n",
    "\"ULLER\",\n",
    "\"HOFF\",\n",
    "\"WALD\",\n",
    "\"BAUM\",\n",
    "\"BERG\",\n",
    "\"BERGER\",\n",
    "\"HAUS\",\n",
    "\"MAYER\",\n",
    "\"GARTEN\",\n",
    "\"AUER\",\n",
    "\"KAMP\",\n",
    "\"HARDT\",\n",
    "\"RINGER\",\n",
    "\"STIEL\",\n",
    "\"HEIM\",\n",
    "\"FELD\",\n",
    "\"HORN\",\n",
    "\"BURG\",\n",
    "\"FRIED\",\n",
    "\"KOPF\",\n",
    "\"REICH\",\n",
    "\"MEISTER\",\n",
    "\"MEYER\",\n",
    "\"BLATT\",\n",
    "\"INGER\",\n",
    "\"MACHER\"\n",
    "]\n",
    "\n",
    "for suf in sufixos:\n",
    "    df.loc[df['REV'].str.startswith(suf[::-1]), 'PAIS'] = ALEMANHA"
   ]
  },
  {
   "cell_type": "markdown",
   "metadata": {},
   "source": [
    "### 4.2) Alemão se iniciar com ..."
   ]
  },
  {
   "cell_type": "code",
   "execution_count": null,
   "metadata": {},
   "outputs": [],
   "source": [
    "prefixos = [\n",
    "\"HOFF\",\n",
    "\"HART\",\n",
    "\"BERG\",\n",
    "\"SCHU\",\n",
    "\"BECKEN\",\n",
    "]\n",
    "\n",
    "for pref in prefixos:\n",
    "    df.loc[df.index.str.startswith(pref), 'PAIS'] = ALEMANHA"
   ]
  },
  {
   "cell_type": "markdown",
   "metadata": {},
   "source": [
    "### 5.1) Japonês se terminar com ..."
   ]
  },
  {
   "cell_type": "code",
   "execution_count": null,
   "metadata": {},
   "outputs": [],
   "source": [
    "sufixos = [\n",
    "\"AKA\",\n",
    "\"AKI\",\n",
    "\"ASHI\",\n",
    "\"ATSU\",\n",
    "\"AWA\",\n",
    "\"HARA\",\n",
    "\"HARU\",\n",
    "\"HIDA\",\n",
    "\"HIMA\",\n",
    "\"HIRO\",\n",
    "\"KITA\",\n",
    "\"OKA\",\n",
    "\"OSHI\",\n",
    "\"MARU\",\n",
    "\"MORI\",\n",
    "\"MOTO\",\n",
    "\"MURA\",\n",
    "\"NAGA\",\n",
    "\"NAKA\",\n",
    "\"RAYA\",\n",
    "\"UCHI\",\n",
    "\"UKA\",\n",
    "\"UMA\",\n",
    "\"YAMA\",\n",
    "]\n",
    "\n",
    "for suf in sufixos:\n",
    "    df.loc[df['REV'].str.startswith(suf[::-1]), 'PAIS'] = JAPAO"
   ]
  },
  {
   "cell_type": "markdown",
   "metadata": {},
   "source": [
    "### 5.2) Japonês se iniciar com ..."
   ]
  },
  {
   "cell_type": "code",
   "execution_count": null,
   "metadata": {},
   "outputs": [],
   "source": [
    "prefixos = [\n",
    "\"MATSU\",\n",
    "\"FUJI\",\n",
    "\"KOBA\",\n",
    "\"YAMA\",\n",
    "\"SAKI\",\n",
    "\"SAKA\",\n",
    "\"NAKA\",\n",
    "\"TAKA\",\n",
    "\"TAKE\",\n",
    "\"YOSHI\",\n",
    "\"NISHI\",\n",
    "\"UEM\",\n",
    "\"OKU\",\n",
    "\"OKI\",\n",
    "\"YOKO\",\n",
    "\"MIYA\",\n",
    "\"NISI\",\n",
    "\"MORI\",\n",
    "\"TASHI\",\n",
    "]\n",
    "\n",
    "for pref in prefixos:\n",
    "    df.loc[df.index.str.startswith(pref), 'PAIS'] = JAPAO"
   ]
  },
  {
   "cell_type": "code",
   "execution_count": null,
   "metadata": {},
   "outputs": [],
   "source": []
  },
  {
   "cell_type": "raw",
   "metadata": {},
   "source": [
    "IT:\n",
    ".CHIA\n",
    ".ETTA\n",
    ".GLIA\n",
    ".CCH.\n",
    ".ZZ.\n",
    ".GH.\n",
    "\n",
    "DE:\n",
    ".HOLZ\n",
    ".FELDT\n",
    "\n",
    "PL:\n",
    ".WICZ\n",
    ".VICZ\n",
    ".EWSKI\n",
    ".EVSKI\n",
    ".OWSKI\n",
    ".OVSKI\n",
    ".INSKY\n",
    ".INSKI\n",
    "\n",
    "RU:\n",
    ".VITCH\n",
    ".VANOV\n",
    "\n",
    "UA:\n",
    ".CZUK\n",
    ".CZYK"
   ]
  },
  {
   "cell_type": "code",
   "execution_count": null,
   "metadata": {},
   "outputs": [],
   "source": []
  },
  {
   "cell_type": "markdown",
   "metadata": {},
   "source": [
    "### 8) Sobrenomes Espanhóis ainda não classificados ou reclassificados"
   ]
  },
  {
   "cell_type": "raw",
   "metadata": {},
   "source": [
    "nomes = []\n",
    "with open('sobrenomes-espanhois.txt', 'r') as f:\n",
    "    nomes = [nome.rstrip() for nome in f.readlines()]\n",
    "\n",
    "for nome in nomes:\n",
    "    df.loc[df['REV'] == nome[::-1], 'PAIS'] = ESPANHA"
   ]
  },
  {
   "cell_type": "markdown",
   "metadata": {},
   "source": [
    "### 9) Sobrenomes Portugueses ainda não classificados ou reclassificados"
   ]
  },
  {
   "cell_type": "code",
   "execution_count": null,
   "metadata": {},
   "outputs": [],
   "source": [
    "nomes = []\n",
    "with open('sobrenomes-portugueses.txt', 'r') as f:\n",
    "    nomes = [nome.rstrip() for nome in f.readlines()]\n",
    "\n",
    "for nome in nomes:\n",
    "    df.loc[df['REV'] == nome[::-1], 'PAIS'] = PORTUGAL"
   ]
  },
  {
   "cell_type": "markdown",
   "metadata": {},
   "source": [
    "## Testes individuais"
   ]
  },
  {
   "cell_type": "code",
   "execution_count": null,
   "metadata": {},
   "outputs": [],
   "source": [
    "df.loc['MELO']"
   ]
  },
  {
   "cell_type": "markdown",
   "metadata": {},
   "source": [
    "### Casos indefinidos"
   ]
  },
  {
   "cell_type": "code",
   "execution_count": null,
   "metadata": {},
   "outputs": [],
   "source": [
    "df[df['PAIS'].isnull()].head()"
   ]
  },
  {
   "cell_type": "markdown",
   "metadata": {},
   "source": [
    "### Análise dos resultados por país"
   ]
  },
  {
   "cell_type": "code",
   "execution_count": null,
   "metadata": {},
   "outputs": [],
   "source": [
    "df[df['PAIS'] == PORTUGAL].head(10)"
   ]
  },
  {
   "cell_type": "code",
   "execution_count": null,
   "metadata": {},
   "outputs": [],
   "source": [
    "df[df['PAIS'] == ESPANHA].head(10)"
   ]
  },
  {
   "cell_type": "code",
   "execution_count": null,
   "metadata": {},
   "outputs": [],
   "source": [
    "df[df['PAIS'] == ITALIA].head(10)"
   ]
  },
  {
   "cell_type": "code",
   "execution_count": null,
   "metadata": {},
   "outputs": [],
   "source": [
    "df[df['PAIS'] == ALEMANHA].head(10)"
   ]
  },
  {
   "cell_type": "code",
   "execution_count": null,
   "metadata": {},
   "outputs": [],
   "source": [
    "df[df['PAIS'] == FRANCA].head(10)"
   ]
  },
  {
   "cell_type": "code",
   "execution_count": null,
   "metadata": {},
   "outputs": [],
   "source": [
    "df[df['PAIS'] == JAPAO].head(10)"
   ]
  },
  {
   "cell_type": "markdown",
   "metadata": {},
   "source": [
    "### Geração do arquivo final"
   ]
  },
  {
   "cell_type": "code",
   "execution_count": null,
   "metadata": {},
   "outputs": [],
   "source": [
    "df.loc[df['PAIS'].isnull(), 'PAIS'] = 'XX'"
   ]
  },
  {
   "cell_type": "code",
   "execution_count": null,
   "metadata": {},
   "outputs": [],
   "source": [
    "df[['QTDE', 'PAIS']].groupby(['PAIS']).count()"
   ]
  },
  {
   "cell_type": "code",
   "execution_count": null,
   "metadata": {
    "scrolled": false
   },
   "outputs": [],
   "source": [
    "df['PAIS'].to_csv(BASE + '-sobrenomes-pais.csv', float_format='%.4f')"
   ]
  },
  {
   "cell_type": "code",
   "execution_count": null,
   "metadata": {},
   "outputs": [],
   "source": [
    "df2 = (df[df['PAIS'] == 'XX'])[['QTDE', 'REV']].sort_values(['REV', 'QTDE'])[['QTDE']]\n",
    "#df2.head(30)\n",
    "df2.to_csv(BASE + '-sobrenomes-pais-XX.csv')"
   ]
  },
  {
   "cell_type": "code",
   "execution_count": null,
   "metadata": {},
   "outputs": [],
   "source": []
  }
 ],
 "metadata": {
  "kernelspec": {
   "display_name": "Python 3",
   "language": "python",
   "name": "python3"
  },
  "language_info": {
   "codemirror_mode": {
    "name": "ipython",
    "version": 3
   },
   "file_extension": ".py",
   "mimetype": "text/x-python",
   "name": "python",
   "nbconvert_exporter": "python",
   "pygments_lexer": "ipython3",
   "version": "3.6.7"
  }
 },
 "nbformat": 4,
 "nbformat_minor": 2
}
