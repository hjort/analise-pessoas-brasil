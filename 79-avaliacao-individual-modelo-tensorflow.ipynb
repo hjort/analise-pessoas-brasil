{
 "cells": [
  {
   "cell_type": "code",
   "execution_count": 12,
   "id": "ff86e07c",
   "metadata": {},
   "outputs": [],
   "source": [
    "import numpy as np\n",
    "import re"
   ]
  },
  {
   "cell_type": "markdown",
   "id": "d833c98a",
   "metadata": {},
   "source": [
    "## Carregar modelo treinado"
   ]
  },
  {
   "cell_type": "code",
   "execution_count": 13,
   "id": "c8e71812",
   "metadata": {},
   "outputs": [
    {
     "data": {
      "text/plain": [
       "<tensorflow.python.keras.engine.sequential.Sequential at 0x7f26984ae400>"
      ]
     },
     "execution_count": 13,
     "metadata": {},
     "output_type": "execute_result"
    }
   ],
   "source": [
    "# carregar um modelo previamente gravado em disco\n",
    "from tensorflow.keras.models import load_model\n",
    "\n",
    "model = load_model('modelos/71-modelo-genero-nome-tensorflow.h5')\n",
    "model"
   ]
  },
  {
   "cell_type": "markdown",
   "id": "69482fd9",
   "metadata": {},
   "source": [
    "## Avaliação de exemplos individuais"
   ]
  },
  {
   "cell_type": "code",
   "execution_count": 14,
   "id": "58ca72d7",
   "metadata": {},
   "outputs": [],
   "source": [
    "def obter_primeiro_nome(str):\n",
    "    if str:\n",
    "        return re.split(\"\\s\", str)[0].upper()\n",
    "\n",
    "MAIOR_QTDE_LETRAS = 16\n",
    "\n",
    "def obter_array_letras(str):\n",
    "    if not str:\n",
    "        return None\n",
    "    rev = str[::-1]\n",
    "    anome = []\n",
    "    for i in range(MAIOR_QTDE_LETRAS):\n",
    "        x = ord(rev[i]) - 64 if len(rev) > i else 0\n",
    "        anome.append(x)\n",
    "    return anome"
   ]
  },
  {
   "cell_type": "code",
   "execution_count": 15,
   "id": "d5f60099",
   "metadata": {},
   "outputs": [],
   "source": [
    "obter_array_letras(obter_primeiro_nome(None))"
   ]
  },
  {
   "cell_type": "code",
   "execution_count": 16,
   "id": "e899cf78",
   "metadata": {},
   "outputs": [],
   "source": [
    "obter_array_letras(obter_primeiro_nome(\"\"))"
   ]
  },
  {
   "cell_type": "code",
   "execution_count": 17,
   "id": "6a8a6d88",
   "metadata": {},
   "outputs": [
    {
     "data": {
      "text/plain": [
       "[1, 9, 3, 9, 18, 20, 1, 16, 0, 0, 0, 0, 0, 0, 0, 0]"
      ]
     },
     "execution_count": 17,
     "metadata": {},
     "output_type": "execute_result"
    }
   ],
   "source": [
    "anome1 = obter_array_letras(obter_primeiro_nome(\"Patricia da Silva\"))\n",
    "anome1"
   ]
  },
  {
   "cell_type": "code",
   "execution_count": 18,
   "id": "d3be975f",
   "metadata": {},
   "outputs": [
    {
     "data": {
      "text/plain": [
       "array([7.834499e-05], dtype=float32)"
      ]
     },
     "execution_count": 18,
     "metadata": {},
     "output_type": "execute_result"
    }
   ],
   "source": [
    "model.predict(np.asarray([anome1]))[0]"
   ]
  },
  {
   "cell_type": "code",
   "execution_count": 19,
   "id": "877c0839",
   "metadata": {},
   "outputs": [
    {
     "data": {
      "text/plain": [
       "[15, 4, 14, 9, 12, 18, 1, 0, 0, 0, 0, 0, 0, 0, 0, 0]"
      ]
     },
     "execution_count": 19,
     "metadata": {},
     "output_type": "execute_result"
    }
   ],
   "source": [
    "anome2 = obter_array_letras(obter_primeiro_nome(\"Arlindo de Souza\"))\n",
    "anome2"
   ]
  },
  {
   "cell_type": "code",
   "execution_count": 20,
   "id": "08fff7ba",
   "metadata": {},
   "outputs": [
    {
     "data": {
      "text/plain": [
       "array([0.96186244], dtype=float32)"
      ]
     },
     "execution_count": 20,
     "metadata": {},
     "output_type": "execute_result"
    }
   ],
   "source": [
    "model.predict(np.asarray([anome2]))[0]"
   ]
  },
  {
   "cell_type": "code",
   "execution_count": null,
   "id": "ce081c76",
   "metadata": {},
   "outputs": [],
   "source": []
  }
 ],
 "metadata": {
  "kernelspec": {
   "display_name": "Python 3",
   "language": "python",
   "name": "python3"
  },
  "language_info": {
   "codemirror_mode": {
    "name": "ipython",
    "version": 3
   },
   "file_extension": ".py",
   "mimetype": "text/x-python",
   "name": "python",
   "nbconvert_exporter": "python",
   "pygments_lexer": "ipython3",
   "version": "3.8.8"
  }
 },
 "nbformat": 4,
 "nbformat_minor": 5
}
